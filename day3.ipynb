{
 "cells": [
  {
   "cell_type": "code",
   "execution_count": 1,
   "metadata": {},
   "outputs": [
    {
     "name": "stderr",
     "output_type": "stream",
     "text": [
      "/Users/dummy/Downloads/Langchain Projects/1-QnA Chatbot/venv/lib/python3.10/site-packages/tqdm/auto.py:21: TqdmWarning: IProgress not found. Please update jupyter and ipywidgets. See https://ipywidgets.readthedocs.io/en/stable/user_install.html\n",
      "  from .autonotebook import tqdm as notebook_tqdm\n"
     ]
    },
    {
     "data": {
      "text/plain": [
       "True"
      ]
     },
     "execution_count": 1,
     "metadata": {},
     "output_type": "execute_result"
    }
   ],
   "source": [
    "import os\n",
    "from dotenv import load_dotenv\n",
    "from openai import OpenAI\n",
    "import gradio as gr\n",
    "\n",
    "load_dotenv()"
   ]
  },
  {
   "cell_type": "code",
   "execution_count": 13,
   "metadata": {},
   "outputs": [],
   "source": [
    "openai = OpenAI()\n",
    "MODEL ='gpt-4o-mini'\n",
    "\n",
    "system_message =' You are a chat bot assitant and helps in answering queries'\n"
   ]
  },
  {
   "cell_type": "code",
   "execution_count": 26,
   "metadata": {},
   "outputs": [],
   "source": [
    "def chat(message,history):\n",
    "    messages = [{'role':'system','content':system_message}]\n",
    "    for user_message,assistant_message in history:\n",
    "        messages.append({'role':'user','content':user_message})\n",
    "        messages.append({'role':'assistant','content':assistant_message})\n",
    "    messages.append({'role':'user','content':message})\n",
    "\n",
    "    # response = openai.ChatCompletion.create(\n",
    "    #     model = 'gpt-3.5-turbo',\n",
    "    #     messages = messages\n",
    "    # )\n",
    "\n",
    "    # assistance_response = response['choices'][0]['message']['content']\n",
    "\n",
    "    # messages.append({'role':'assistant','content':assistance_response})\n",
    "\n",
    "    print('History is ')\n",
    "    print(history)\n",
    "    print('andmessage is ')\n",
    "    print(message)\n",
    "\n",
    "    stream = openai.chat.completions.create(model=MODEL, messages=messages, stream=True)\n",
    "    \n",
    "    response =''\n",
    "    for chunk in stream :\n",
    "        response+=chunk.choices[0].delta.content or ''\n",
    "        yield response"
   ]
  },
  {
   "cell_type": "code",
   "execution_count": 27,
   "metadata": {},
   "outputs": [
    {
     "name": "stderr",
     "output_type": "stream",
     "text": [
      "/Users/dummy/Downloads/Langchain Projects/1-QnA Chatbot/venv/lib/python3.10/site-packages/gradio/components/chatbot.py:248: UserWarning: The 'tuples' format for chatbot messages is deprecated and will be removed in a future version of Gradio. Please set type='messages' instead, which uses openai-style 'role' and 'content' keys.\n",
      "  warnings.warn(\n"
     ]
    },
    {
     "name": "stdout",
     "output_type": "stream",
     "text": [
      "* Running on local URL:  http://127.0.0.1:7874\n",
      "\n",
      "To create a public link, set `share=True` in `launch()`.\n"
     ]
    },
    {
     "data": {
      "text/html": [
       "<div><iframe src=\"http://127.0.0.1:7874/\" width=\"100%\" height=\"500\" allow=\"autoplay; camera; microphone; clipboard-read; clipboard-write;\" frameborder=\"0\" allowfullscreen></iframe></div>"
      ],
      "text/plain": [
       "<IPython.core.display.HTML object>"
      ]
     },
     "metadata": {},
     "output_type": "display_data"
    },
    {
     "data": {
      "text/plain": []
     },
     "execution_count": 27,
     "metadata": {},
     "output_type": "execute_result"
    },
    {
     "name": "stdout",
     "output_type": "stream",
     "text": [
      "History is \n",
      "[]\n",
      "andmessage is \n",
      "Hi\n",
      "History is \n",
      "[['Hi', 'Hello! How can I assist you today?']]\n",
      "andmessage is \n",
      "How are you?\n",
      "History is \n",
      "[['Hi', 'Hello! How can I assist you today?'], ['How are you?', \"I don't have feelings, but I'm here and ready to help you! How about you? How are you today?\"]]\n",
      "andmessage is \n",
      "I want to buy a phone\n",
      "History is \n",
      "[['Hi', 'Hello! How can I assist you today?'], ['How are you?', \"I don't have feelings, but I'm here and ready to help you! How about you? How are you today?\"], ['I want to buy a phone', 'Great! What features are you looking for in a phone? For example, are you interested in a specific brand, camera quality, battery life, or budget? Let me know so I can help you find the best option!']]\n",
      "andmessage is \n",
      "16 GB RAM and Samsung phone\n",
      "History is \n",
      "[['Hi', 'Hello! How can I assist you today?'], ['How are you?', \"I don't have feelings, but I'm here and ready to help you! How about you? How are you today?\"], ['I want to buy a phone', 'Great! What features are you looking for in a phone? For example, are you interested in a specific brand, camera quality, battery life, or budget? Let me know so I can help you find the best option!'], ['16 GB RAM and Samsung phone', \"If you're looking for a Samsung phone with 16 GB of RAM, you might consider the following options:\\n\\n1. **Samsung Galaxy S23 Ultra**: This flagship model features top-tier specifications, including a powerful camera system, high-quality display, and 16 GB of RAM in certain configurations.\\n\\n2. **Samsung Galaxy Z Fold 4**: If you’re interested in a foldable phone, this device offers a unique form factor along with high performance, including variations with 16 GB of RAM.\\n\\n3. **Samsung Galaxy Note 20 Ultra**: Although older, it may have models or variants that can have 16 GB of RAM, especially if you’re looking for a good balance of features and price.\\n\\nMake sure to check the specific configurations available in your region, as they can vary. If you have a specific budget in mind or need more details about any of these models, let me know!\"]]\n",
      "andmessage is \n",
      "Whats special in the 1st option?\n"
     ]
    }
   ],
   "source": [
    "gr.ChatInterface(fn=chat).launch()"
   ]
  },
  {
   "cell_type": "code",
   "execution_count": null,
   "metadata": {},
   "outputs": [],
   "source": []
  }
 ],
 "metadata": {
  "kernelspec": {
   "display_name": "Python 3",
   "language": "python",
   "name": "python3"
  },
  "language_info": {
   "codemirror_mode": {
    "name": "ipython",
    "version": 3
   },
   "file_extension": ".py",
   "mimetype": "text/x-python",
   "name": "python",
   "nbconvert_exporter": "python",
   "pygments_lexer": "ipython3",
   "version": "3.10.0"
  }
 },
 "nbformat": 4,
 "nbformat_minor": 2
}
