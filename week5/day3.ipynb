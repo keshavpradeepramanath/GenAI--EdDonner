{
 "cells": [
  {
   "cell_type": "code",
   "execution_count": 3,
   "metadata": {},
   "outputs": [
    {
     "name": "stderr",
     "output_type": "stream",
     "text": [
      "/Users/dummy/Downloads/Langchain Projects/1-QnA Chatbot/venv/lib/python3.10/site-packages/tqdm/auto.py:21: TqdmWarning: IProgress not found. Please update jupyter and ipywidgets. See https://ipywidgets.readthedocs.io/en/stable/user_install.html\n",
      "  from .autonotebook import tqdm as notebook_tqdm\n"
     ]
    }
   ],
   "source": [
    "import os\n",
    "import glob\n",
    "from dotenv import load_dotenv\n",
    "import gradio as gr\n"
   ]
  },
  {
   "cell_type": "code",
   "execution_count": 4,
   "metadata": {},
   "outputs": [],
   "source": [
    "from langchain.document_loaders import DirectoryLoader, TextLoader\n",
    "from langchain.text_splitter import CharacterTextSplitter\n",
    "from langchain.schema import Document\n",
    "from langchain_openai import OpenAIEmbeddings, ChatOpenAI\n",
    "from langchain_chroma import Chroma\n",
    "import numpy as np\n",
    "from sklearn.manifold import TSNE\n",
    "import plotly.graph_objects as go"
   ]
  },
  {
   "cell_type": "code",
   "execution_count": 5,
   "metadata": {},
   "outputs": [],
   "source": [
    "MODEL = \"gpt-4o-mini\"\n",
    "db_name = \"vector_db\""
   ]
  },
  {
   "cell_type": "code",
   "execution_count": 6,
   "metadata": {},
   "outputs": [
    {
     "data": {
      "text/plain": [
       "True"
      ]
     },
     "execution_count": 6,
     "metadata": {},
     "output_type": "execute_result"
    }
   ],
   "source": [
    "load_dotenv()"
   ]
  },
  {
   "cell_type": "code",
   "execution_count": 7,
   "metadata": {},
   "outputs": [],
   "source": [
    "os.environ['OPENAI_API_KEY'] = os.getenv('OPENAI_API_KEY', 'your-key-if-not-using-env')"
   ]
  },
  {
   "cell_type": "code",
   "execution_count": 8,
   "metadata": {},
   "outputs": [],
   "source": [
    "folders = glob.glob(\"knowledgebase/*\")\n",
    "\n",
    "# With thanks to CG and Jon R, students on the course, for this fix needed for some users \n",
    "text_loader_kwargs = {'encoding': 'utf-8'}\n",
    "# If that doesn't work, some Windows users might need to uncomment the next line instead\n",
    "# text_loader_kwargs={'autodetect_encoding': True}\n",
    "\n",
    "documents = []\n",
    "for folder in folders:\n",
    "    doc_type = os.path.basename(folder)\n",
    "    loader = DirectoryLoader(folder, glob=\"**/*.md\", loader_cls=TextLoader, loader_kwargs=text_loader_kwargs)\n",
    "    folder_docs = loader.load()\n",
    "    for doc in folder_docs:\n",
    "        doc.metadata[\"doc_type\"] = doc_type\n",
    "        documents.append(doc)"
   ]
  },
  {
   "cell_type": "code",
   "execution_count": 10,
   "metadata": {},
   "outputs": [
    {
     "name": "stderr",
     "output_type": "stream",
     "text": [
      "Created a chunk of size 517, which is longer than the specified 100\n",
      "Created a chunk of size 273, which is longer than the specified 100\n",
      "Created a chunk of size 266, which is longer than the specified 100\n",
      "Created a chunk of size 277, which is longer than the specified 100\n",
      "Created a chunk of size 267, which is longer than the specified 100\n",
      "Created a chunk of size 233, which is longer than the specified 100\n",
      "Created a chunk of size 236, which is longer than the specified 100\n",
      "Created a chunk of size 367, which is longer than the specified 100\n",
      "Created a chunk of size 141, which is longer than the specified 100\n",
      "Created a chunk of size 106, which is longer than the specified 100\n",
      "Created a chunk of size 175, which is longer than the specified 100\n",
      "Created a chunk of size 207, which is longer than the specified 100\n",
      "Created a chunk of size 219, which is longer than the specified 100\n",
      "Created a chunk of size 633, which is longer than the specified 100\n",
      "Created a chunk of size 244, which is longer than the specified 100\n",
      "Created a chunk of size 214, which is longer than the specified 100\n",
      "Created a chunk of size 195, which is longer than the specified 100\n",
      "Created a chunk of size 196, which is longer than the specified 100\n",
      "Created a chunk of size 165, which is longer than the specified 100\n",
      "Created a chunk of size 195, which is longer than the specified 100\n",
      "Created a chunk of size 194, which is longer than the specified 100\n",
      "Created a chunk of size 218, which is longer than the specified 100\n",
      "Created a chunk of size 283, which is longer than the specified 100\n",
      "Created a chunk of size 309, which is longer than the specified 100\n",
      "Created a chunk of size 216, which is longer than the specified 100\n",
      "Created a chunk of size 214, which is longer than the specified 100\n",
      "Created a chunk of size 243, which is longer than the specified 100\n",
      "Created a chunk of size 232, which is longer than the specified 100\n",
      "Created a chunk of size 554, which is longer than the specified 100\n",
      "Created a chunk of size 309, which is longer than the specified 100\n",
      "Created a chunk of size 292, which is longer than the specified 100\n",
      "Created a chunk of size 260, which is longer than the specified 100\n",
      "Created a chunk of size 263, which is longer than the specified 100\n",
      "Created a chunk of size 285, which is longer than the specified 100\n",
      "Created a chunk of size 296, which is longer than the specified 100\n",
      "Created a chunk of size 208, which is longer than the specified 100\n",
      "Created a chunk of size 412, which is longer than the specified 100\n",
      "Created a chunk of size 101, which is longer than the specified 100\n",
      "Created a chunk of size 639, which is longer than the specified 100\n",
      "Created a chunk of size 539, which is longer than the specified 100\n",
      "Created a chunk of size 261, which is longer than the specified 100\n",
      "Created a chunk of size 236, which is longer than the specified 100\n",
      "Created a chunk of size 207, which is longer than the specified 100\n",
      "Created a chunk of size 176, which is longer than the specified 100\n",
      "Created a chunk of size 229, which is longer than the specified 100\n",
      "Created a chunk of size 187, which is longer than the specified 100\n",
      "Created a chunk of size 186, which is longer than the specified 100\n",
      "Created a chunk of size 195, which is longer than the specified 100\n",
      "Created a chunk of size 119, which is longer than the specified 100\n",
      "Created a chunk of size 142, which is longer than the specified 100\n",
      "Created a chunk of size 174, which is longer than the specified 100\n",
      "Created a chunk of size 116, which is longer than the specified 100\n",
      "Created a chunk of size 116, which is longer than the specified 100\n",
      "Created a chunk of size 161, which is longer than the specified 100\n",
      "Created a chunk of size 188, which is longer than the specified 100\n",
      "Created a chunk of size 173, which is longer than the specified 100\n",
      "Created a chunk of size 186, which is longer than the specified 100\n",
      "Created a chunk of size 190, which is longer than the specified 100\n",
      "Created a chunk of size 137, which is longer than the specified 100\n",
      "Created a chunk of size 508, which is longer than the specified 100\n",
      "Created a chunk of size 193, which is longer than the specified 100\n",
      "Created a chunk of size 164, which is longer than the specified 100\n",
      "Created a chunk of size 194, which is longer than the specified 100\n",
      "Created a chunk of size 236, which is longer than the specified 100\n",
      "Created a chunk of size 363, which is longer than the specified 100\n",
      "Created a chunk of size 519, which is longer than the specified 100\n",
      "Created a chunk of size 123, which is longer than the specified 100\n",
      "Created a chunk of size 750, which is longer than the specified 100\n",
      "Created a chunk of size 701, which is longer than the specified 100\n",
      "Created a chunk of size 380, which is longer than the specified 100\n",
      "Created a chunk of size 132, which is longer than the specified 100\n",
      "Created a chunk of size 351, which is longer than the specified 100\n",
      "Created a chunk of size 258, which is longer than the specified 100\n",
      "Created a chunk of size 267, which is longer than the specified 100\n",
      "Created a chunk of size 319, which is longer than the specified 100\n",
      "Created a chunk of size 163, which is longer than the specified 100\n",
      "Created a chunk of size 185, which is longer than the specified 100\n",
      "Created a chunk of size 113, which is longer than the specified 100\n",
      "Created a chunk of size 113, which is longer than the specified 100\n",
      "Created a chunk of size 152, which is longer than the specified 100\n",
      "Created a chunk of size 189, which is longer than the specified 100\n",
      "Created a chunk of size 263, which is longer than the specified 100\n",
      "Created a chunk of size 138, which is longer than the specified 100\n",
      "Created a chunk of size 320, which is longer than the specified 100\n",
      "Created a chunk of size 675, which is longer than the specified 100\n",
      "Created a chunk of size 321, which is longer than the specified 100\n",
      "Created a chunk of size 154, which is longer than the specified 100\n",
      "Created a chunk of size 373, which is longer than the specified 100\n",
      "Created a chunk of size 263, which is longer than the specified 100\n",
      "Created a chunk of size 275, which is longer than the specified 100\n",
      "Created a chunk of size 193, which is longer than the specified 100\n",
      "Created a chunk of size 141, which is longer than the specified 100\n",
      "Created a chunk of size 182, which is longer than the specified 100\n",
      "Created a chunk of size 162, which is longer than the specified 100\n",
      "Created a chunk of size 177, which is longer than the specified 100\n",
      "Created a chunk of size 220, which is longer than the specified 100\n",
      "Created a chunk of size 181, which is longer than the specified 100\n",
      "Created a chunk of size 169, which is longer than the specified 100\n",
      "Created a chunk of size 233, which is longer than the specified 100\n",
      "Created a chunk of size 603, which is longer than the specified 100\n",
      "Created a chunk of size 781, which is longer than the specified 100\n",
      "Created a chunk of size 115, which is longer than the specified 100\n",
      "Created a chunk of size 1088, which is longer than the specified 100\n",
      "Created a chunk of size 227, which is longer than the specified 100\n",
      "Created a chunk of size 212, which is longer than the specified 100\n",
      "Created a chunk of size 200, which is longer than the specified 100\n",
      "Created a chunk of size 222, which is longer than the specified 100\n",
      "Created a chunk of size 243, which is longer than the specified 100\n",
      "Created a chunk of size 236, which is longer than the specified 100\n",
      "Created a chunk of size 224, which is longer than the specified 100\n",
      "Created a chunk of size 326, which is longer than the specified 100\n",
      "Created a chunk of size 138, which is longer than the specified 100\n",
      "Created a chunk of size 707, which is longer than the specified 100\n",
      "Created a chunk of size 318, which is longer than the specified 100\n",
      "Created a chunk of size 191, which is longer than the specified 100\n",
      "Created a chunk of size 337, which is longer than the specified 100\n",
      "Created a chunk of size 625, which is longer than the specified 100\n",
      "Created a chunk of size 141, which is longer than the specified 100\n",
      "Created a chunk of size 627, which is longer than the specified 100\n",
      "Created a chunk of size 243, which is longer than the specified 100\n",
      "Created a chunk of size 208, which is longer than the specified 100\n",
      "Created a chunk of size 243, which is longer than the specified 100\n",
      "Created a chunk of size 127, which is longer than the specified 100\n",
      "Created a chunk of size 128, which is longer than the specified 100\n",
      "Created a chunk of size 189, which is longer than the specified 100\n",
      "Created a chunk of size 110, which is longer than the specified 100\n",
      "Created a chunk of size 239, which is longer than the specified 100\n",
      "Created a chunk of size 120, which is longer than the specified 100\n",
      "Created a chunk of size 698, which is longer than the specified 100\n",
      "Created a chunk of size 776, which is longer than the specified 100\n",
      "Created a chunk of size 427, which is longer than the specified 100\n",
      "Created a chunk of size 594, which is longer than the specified 100\n",
      "Created a chunk of size 118, which is longer than the specified 100\n",
      "Created a chunk of size 692, which is longer than the specified 100\n",
      "Created a chunk of size 252, which is longer than the specified 100\n",
      "Created a chunk of size 484, which is longer than the specified 100\n",
      "Created a chunk of size 323, which is longer than the specified 100\n",
      "Created a chunk of size 621, which is longer than the specified 100\n"
     ]
    }
   ],
   "source": [
    "text_splitter = CharacterTextSplitter(chunk_size=100,chunk_overlap=50)\n",
    "chunks =text_splitter.split_documents(documents)"
   ]
  },
  {
   "cell_type": "code",
   "execution_count": 11,
   "metadata": {},
   "outputs": [
    {
     "name": "stdout",
     "output_type": "stream",
     "text": [
      "Document types found: products, employees\n"
     ]
    }
   ],
   "source": [
    "doc_types = set(chunk.metadata['doc_type'] for chunk in chunks)\n",
    "print(f\"Document types found: {', '.join(doc_types)}\")"
   ]
  },
  {
   "cell_type": "code",
   "execution_count": 12,
   "metadata": {},
   "outputs": [],
   "source": [
    "embeddings = OpenAIEmbeddings()"
   ]
  },
  {
   "cell_type": "code",
   "execution_count": 14,
   "metadata": {},
   "outputs": [],
   "source": [
    "if os.path.exists(db_name):\n",
    "    Chroma(persist_directory=db_name, embedding_function=embeddings).delete_collection()"
   ]
  },
  {
   "cell_type": "code",
   "execution_count": 15,
   "metadata": {},
   "outputs": [
    {
     "name": "stdout",
     "output_type": "stream",
     "text": [
      "Vectorstore created with 183 documents\n"
     ]
    }
   ],
   "source": [
    "vectorstore = Chroma.from_documents(documents=chunks, embedding=embeddings, persist_directory=db_name)\n",
    "print(f\"Vectorstore created with {vectorstore._collection.count()} documents\")"
   ]
  },
  {
   "cell_type": "code",
   "execution_count": 16,
   "metadata": {},
   "outputs": [
    {
     "name": "stdout",
     "output_type": "stream",
     "text": [
      "The vectors have 1,536 dimensions\n"
     ]
    }
   ],
   "source": [
    "collection = vectorstore._collection\n",
    "sample_embedding = collection.get(limit=1, include=[\"embeddings\"])[\"embeddings\"][0]\n",
    "dimensions = len(sample_embedding)\n",
    "print(f\"The vectors have {dimensions:,} dimensions\")"
   ]
  },
  {
   "cell_type": "code",
   "execution_count": 17,
   "metadata": {},
   "outputs": [
    {
     "name": "stdout",
     "output_type": "stream",
     "text": [
      "The vectors have 1,536 dimensions\n"
     ]
    }
   ],
   "source": [
    "collection = vectorstore._collection\n",
    "sample_embedding = collection.get(limit=1, include=[\"embeddings\"])[\"embeddings\"][0]\n",
    "dimensions = len(sample_embedding)\n",
    "print(f\"The vectors have {dimensions:,} dimensions\")"
   ]
  },
  {
   "cell_type": "code",
   "execution_count": 17,
   "metadata": {},
   "outputs": [],
   "source": [
    "result = collection.get(include=['embeddings', 'documents', 'metadatas'])\n",
    "vectors = np.array(result['embeddings'])\n",
    "documents = result['documents']\n",
    "doc_types = [metadata['doc_type'] for metadata in result['metadatas']]\n",
    "colors = [['blue', 'green', 'red', 'orange'][['products', 'employees', 'contracts', 'company'].index(t)] for t in doc_types]"
   ]
  },
  {
   "cell_type": "code",
   "execution_count": 18,
   "metadata": {},
   "outputs": [
    {
     "data": {
      "application/vnd.plotly.v1+json": {
       "config": {
        "plotlyServerURL": "https://plot.ly"
       },
       "data": [
        {
         "hoverinfo": "text",
         "marker": {
          "color": [
           "blue",
           "blue",
           "blue",
           "blue",
           "blue",
           "blue",
           "blue",
           "blue",
           "blue",
           "blue",
           "blue",
           "blue",
           "blue",
           "blue",
           "blue",
           "blue",
           "blue",
           "blue",
           "blue",
           "blue",
           "blue",
           "blue",
           "blue",
           "blue",
           "blue",
           "blue",
           "blue",
           "blue",
           "blue",
           "blue",
           "blue",
           "blue",
           "blue",
           "blue",
           "blue",
           "blue",
           "blue",
           "blue",
           "blue",
           "blue",
           "blue",
           "blue",
           "blue",
           "blue",
           "blue",
           "blue",
           "blue",
           "blue",
           "blue",
           "blue",
           "blue",
           "blue",
           "blue",
           "blue",
           "blue",
           "blue",
           "blue",
           "blue",
           "blue",
           "blue",
           "blue",
           "blue",
           "blue",
           "blue",
           "blue",
           "blue",
           "blue",
           "blue",
           "blue",
           "blue",
           "blue",
           "blue",
           "blue",
           "blue",
           "blue",
           "blue",
           "green",
           "green",
           "green",
           "green",
           "green",
           "green",
           "green",
           "green",
           "green",
           "green",
           "green",
           "green",
           "green",
           "green",
           "green",
           "green",
           "green",
           "green",
           "green",
           "green",
           "green",
           "green",
           "green",
           "green",
           "green",
           "green",
           "green",
           "green",
           "green",
           "green",
           "green",
           "green",
           "green",
           "green",
           "green",
           "green",
           "green",
           "green",
           "green",
           "green",
           "green",
           "green",
           "green",
           "green",
           "green",
           "green",
           "green",
           "green",
           "green",
           "green",
           "green",
           "green",
           "green",
           "green",
           "green",
           "green",
           "green",
           "green",
           "green",
           "green",
           "green",
           "green",
           "green",
           "green",
           "green",
           "green",
           "green",
           "green",
           "green",
           "green",
           "green",
           "green",
           "green",
           "green",
           "green",
           "green",
           "green",
           "green",
           "green",
           "green",
           "green",
           "green",
           "green",
           "green",
           "green",
           "green",
           "green",
           "green",
           "green",
           "green",
           "green",
           "green",
           "green",
           "green",
           "green",
           "green",
           "green",
           "green",
           "green",
           "green",
           "green",
           "green",
           "green",
           "green",
           "green",
           "green",
           "green"
          ],
          "opacity": 0.8,
          "size": 5
         },
         "mode": "markers",
         "text": [
          "Type: products<br>Text: # Product Summary\n\n# Rellm: AI-Powered Enterprise Reinsurance Solution\n\n## Summary...",
          "Type: products<br>Text: Rellm is an innovative enterprise reinsurance product developed by Insurellm, designed to transform ...",
          "Type: products<br>Text: ## Features...",
          "Type: products<br>Text: ### AI-Driven Analytics\nRellm utilizes cutting-edge AI algorithms to provide predictive insights int...",
          "Type: products<br>Text: ### Seamless Integrations\nRellm's architecture is designed for effortless integration with existing ...",
          "Type: products<br>Text: ### Risk Assessment Module\nThe comprehensive risk assessment module within Rellm allows insurers to ...",
          "Type: products<br>Text: ### Customizable Dashboard\nRellm features a customizable dashboard that presents key metrics and per...",
          "Type: products<br>Text: ### Regulatory Compliance Tools\nRellm includes built-in compliance tracking features to help organiz...",
          "Type: products<br>Text: ### Client and Broker Portals\nRellm offers dedicated portals for both clients and brokers, facilitat...",
          "Type: products<br>Text: ## Pricing\n\nInsurellm offers flexible pricing plans for Rellm to cater to various business needs:...",
          "Type: products<br>Text: - **Basic Plan**: $5,000/month\n  - Includes access to core features and standard integrations.\n  \n- ...",
          "Type: products<br>Text: Join the growing number of organizations leveraging Rellm to enhance their reinsurance processes whi...",
          "Type: products<br>Text: ## 2025-2026 Roadmap...",
          "Type: products<br>Text: At Insurellm, we are committed to the continuous improvement of Rellm. Our roadmap for 2025-2026 inc...",
          "Type: products<br>Text: - **Q3 2025**: \n  - Launch of the Rellm Mobile App for on-the-go insights and management.\n  - Introd...",
          "Type: products<br>Text: - **Q1 2026**: \n  - Deployment of advanced machine learning models for even more accurate risk predi...",
          "Type: products<br>Text: - **Q3 2026**: \n  - Release of a community platform for Rellm users to exchange insights, tips, and ...",
          "Type: products<br>Text: Experience the future of reinsurance with Rellm, where innovation meets reliability. Let Insurellm h...",
          "Type: products<br>Text: # Product Summary\n\n# Markellm\n\n## Summary...",
          "Type: products<br>Text: Markellm is an innovative two-sided marketplace designed to seamlessly connect consumers with insura...",
          "Type: products<br>Text: ## Features...",
          "Type: products<br>Text: - **AI-Powered Matching**: Markellm utilizes sophisticated AI algorithms to match consumers with the...",
          "Type: products<br>Text: - **User-Friendly Interface**: Designed with user experience in mind, Markellm features an intuitive...",
          "Type: products<br>Text: - **Real-Time Quotes**: Consumers can receive real-time quotes from different insurance companies, e...",
          "Type: products<br>Text: - **Customized Recommendations**: Based on user profiles and preferences, Markellm provides personal...",
          "Type: products<br>Text: - **Secure Transactions**: Markellm prioritizes security, employing robust encryption methods to ens...",
          "Type: products<br>Text: - **Customer Support**: Our dedicated support team is always available to assist both consumers and ...",
          "Type: products<br>Text: - **Data Insights**: Insurers gain access to valuable data insights through Markellm's analytics das...",
          "Type: products<br>Text: ## Pricing...",
          "Type: products<br>Text: At Markellm, we believe in transparency and flexibility. Our pricing structure is designed to accomm...",
          "Type: products<br>Text: ### For Consumers:\n- **Free Membership**: Access to the marketplace at no cost, allowing unlimited b...",
          "Type: products<br>Text: ### For Insurance Companies:\n- **Basic Listing Fee**: $199/month for a featured listing on the platf...",
          "Type: products<br>Text: ## 2025-2026 Roadmap...",
          "Type: products<br>Text: ### Q1 2025\n- Launch a mobile app version of Markellm, making it even easier for consumers and insur...",
          "Type: products<br>Text: ### Q2 2025\n- Expand the marketplace to include additional insurance products, such as life and heal...",
          "Type: products<br>Text: ### Q3 2025\n- Initiate a comprehensive marketing campaign targeting both consumers and insurers to i...",
          "Type: products<br>Text: ### Q4 2026\n- Implement machine learning enhancements to our AI algorithm, further increasing the pr...",
          "Type: products<br>Text: Markellm is committed to improving the insurance experience for both consumers and providers. By lev...",
          "Type: products<br>Text: # Product Summary\n\n# Homellm...",
          "Type: products<br>Text: ## Summary\nHomellm is an innovative home insurance product developed by Insurellm that leverages adv...",
          "Type: products<br>Text: ## Features\n### 1. AI-Powered Risk Assessment\nHomellm utilizes sophisticated AI algorithms to analyz...",
          "Type: products<br>Text: ### 2. Dynamic Pricing Model\nWith Homellm's innovative dynamic pricing model, insurance providers ca...",
          "Type: products<br>Text: ### 3. Instant Claim Processing\nThe AI-driven claims management system in Homellm automates the enti...",
          "Type: products<br>Text: ### 4. Predictive Maintenance Alerts\nHomellm incorporates predictive analytics to advise homeowners ...",
          "Type: products<br>Text: ### 5. Multi-Channel Integration\nHomellm seamlessly integrates into existing insurance platforms, pr...",
          "Type: products<br>Text: ### 6. Customer Portal\nA user-friendly online portal and mobile application enables customers to man...",
          "Type: products<br>Text: ## Pricing\nAt Insurellm, we believe in providing value without compromising quality. The pricing for...",
          "Type: products<br>Text: - **Basic Tier:** Starting at $5,000/month for small insurers with basic integration features.\n- **S...",
          "Type: products<br>Text: All tiers include a comprehensive training program and ongoing updates to ensure optimal performance...",
          "Type: products<br>Text: ## Roadmap\nThe development roadmap for Homellm includes the following key milestones:...",
          "Type: products<br>Text: - **Q1 2024:** Launch of Homellm version 1.0, featuring core functionalities and integrations.\n- **Q...",
          "Type: products<br>Text: With Homellm, Insurellm is committed to transforming the landscape of home insurance, ensuring both ...",
          "Type: products<br>Text: # Product Summary\n\n# Carllm\n\n## Summary...",
          "Type: products<br>Text: Carllm is an innovative auto insurance product developed by Insurellm, designed to streamline the wa...",
          "Type: products<br>Text: ## Features...",
          "Type: products<br>Text: - **AI-Powered Risk Assessment**: Carllm leverages artificial intelligence to analyze driver behavio...",
          "Type: products<br>Text: - **Instant Quoting**: With Carllm, insurance companies can offer near-instant quotes to customers, ...",
          "Type: products<br>Text: - **Customizable Coverage Plans**: Carllm allows insurers to create flexible and tailored insurance ...",
          "Type: products<br>Text: - **Fraud Detection**: The product incorporates advanced analytics to identify potentially fraudulen...",
          "Type: products<br>Text: - **Customer Insights Dashboard**: Carllm provides insurers with a powerful dashboard that offers de...",
          "Type: products<br>Text: - **Mobile Integration**: Carllm is designed to work seamlessly with mobile applications, providing ...",
          "Type: products<br>Text: - **Automated Customer Support**: Leveraging AI chatbots, Carllm offers 24/7 customer support, helpi...",
          "Type: products<br>Text: ## Pricing...",
          "Type: products<br>Text: Carllm is offered under a subscription-based pricing model tailored to meet the needs of insurance c...",
          "Type: products<br>Text: - **Basic Tier**: $1,000/month\n  - Ideal for small insurance firms.\n  - Access to core features and ...",
          "Type: products<br>Text: - **Professional Tier**: $2,500/month\n  - For medium-sized companies.\n  - All Basic Tier features pl...",
          "Type: products<br>Text: - **Enterprise Tier**: $5,000/month\n  - Customized solutions for large insurance firms.\n  - Comprehe...",
          "Type: products<br>Text: Contact our sales team for a personalized quote and discover how Carllm can transform your auto insu...",
          "Type: products<br>Text: ## 2025-2026 Roadmap...",
          "Type: products<br>Text: In our commitment to continuous improvement and innovation, Insurellm has outlined the following roa...",
          "Type: products<br>Text: ### Q1 2025: Launch Feature Enhancements\n- **Expanded data integrations** for better risk assessment...",
          "Type: products<br>Text: ### Q2 2025: Customer Experience Improvements\n- Launch of a new **mobile app** for end-users.\n- Intr...",
          "Type: products<br>Text: ### Q3 2025: Global Expansion\n- Begin pilot programs for international insurance markets.\n- Collabor...",
          "Type: products<br>Text: ### Q4 2025: AI and Machine Learning Upgrades\n- Implement next-gen machine learning models for predi...",
          "Type: products<br>Text: ### 2026: Scaling and Partnerships\n- Increase partnerships with automakers for integrated insurance ...",
          "Type: products<br>Text: Carllm is not just an auto insurance product; it is a transformative tool for the insurance industry...",
          "Type: employees<br>Text: # HR Record\n\n# Alex Chen...",
          "Type: employees<br>Text: ## Summary\n- **Date of Birth:** March 15, 1990  \n- **Job Title:** Backend Software Engineer  \n- **Lo...",
          "Type: employees<br>Text: ## Insurellm Career Progression\n- **April 2020:** Joined Insurellm as a Junior Backend Developer. Fo...",
          "Type: employees<br>Text: ## Annual Performance History\n- **2020:**  \n  - Completed onboarding successfully.  \n  - Met expecta...",
          "Type: employees<br>Text: - **2021:**  \n  - Achieved a 95% success rate in project delivery timelines.  \n  - Awarded \"Rising S...",
          "Type: employees<br>Text: - **2022:**  \n  - Exceeded goals by optimizing existing backend code, improving system performance b...",
          "Type: employees<br>Text: - **2023:**  \n  - Led a major overhaul of the API internal architecture, enhancing security protocol...",
          "Type: employees<br>Text: ## Compensation History\n- **2020:** Base Salary: $80,000  \n- **2021:** Base Salary Increase to $90,0...",
          "Type: employees<br>Text: ## Other HR Notes\n- Participates regularly in Insurellm's Diversity & Inclusion initiatives, champio...",
          "Type: employees<br>Text: Alex Chen continues to be a vital asset at Insurellm, contributing significantly to innovative backe...",
          "Type: employees<br>Text: # HR Record\n\n# Oliver Spencer...",
          "Type: employees<br>Text: ## Summary\n- **Date of Birth**: May 14, 1990  \n- **Job Title**: Backend Software Engineer  \n- **Loca...",
          "Type: employees<br>Text: ## Insurellm Career Progression\n- **March 2018**: Joined Insurellm as a Backend Developer I, focusin...",
          "Type: employees<br>Text: ## Annual Performance History\n- **2018**: **3/5** - Adaptable team player but still learning to take...",
          "Type: employees<br>Text: ## Compensation History\n- **March 2018**: Initial salary of $80,000.\n- **July 2019**: Salary increas...",
          "Type: employees<br>Text: ## Other HR Notes\n- Oliver enjoys a strong rapport with team members and is known for organizing reg...",
          "Type: employees<br>Text: # HR Record\n\n# Emily Tran...",
          "Type: employees<br>Text: ## Summary\n- **Date of Birth:** March 18, 1991  \n- **Job Title:** Digital Marketing Specialist  \n- *...",
          "Type: employees<br>Text: ---...",
          "Type: employees<br>Text: ## Insurellm Career Progression\n- **February 2020 - Present**: Digital Marketing Specialist  \n   - E...",
          "Type: employees<br>Text: - **June 2018 - January 2020**: Marketing Coordinator  \n  - Assisted in the development and executio...",
          "Type: employees<br>Text: - **January 2017 - May 2018**: Marketing Intern  \n  - Supported the Marketing team by collaborating ...",
          "Type: employees<br>Text: ---...",
          "Type: employees<br>Text: ## Annual Performance History\n- **2023**:  \n  - Performance Rating: Exceeds Expectations  \n  - Key A...",
          "Type: employees<br>Text: - **2022**:  \n  - Performance Rating: Meets Expectations  \n  - Key Achievements: Enhanced Insurellm'...",
          "Type: employees<br>Text: - **2021**:  \n  - Performance Rating: Meets Expectations  \n  - Key Achievements: Contributed to the ...",
          "Type: employees<br>Text: ---...",
          "Type: employees<br>Text: ## Compensation History\n- **2023**:  \n  - Base Salary: $75,000  \n  - Bonus: $10,000 for exceeding an...",
          "Type: employees<br>Text: - **2022**:  \n  - Base Salary: $70,000  \n  - Bonus: $5,000 for achieving marketing milestones....",
          "Type: employees<br>Text: - **2021**:  \n  - Base Salary: $67,500  \n  - No bonus due to reallocation of marketing funds during ...",
          "Type: employees<br>Text: ---...",
          "Type: employees<br>Text: ## Other HR Notes\n- **Training Completed**:  \n  - Advanced Digital Marketing Workshop (2021)  \n  - A...",
          "Type: employees<br>Text: - **Professional Development Goals**:  \n  - Emily Tran aims to become a Marketing Manager within the...",
          "Type: employees<br>Text: - **Hobbies**:  \n  - Emily enjoys photography and regularly contributes to Insurellm's social media ...",
          "Type: employees<br>Text: ---...",
          "Type: employees<br>Text: Emily Tran continues to be a valuable asset to Insurellm, driving innovative marketing strategies th...",
          "Type: employees<br>Text: # HR Record\n\n# Jordan Blake...",
          "Type: employees<br>Text: ## Summary\n- **Date of Birth:** March 15, 1993  \n- **Job Title:** Sales Development Representative (...",
          "Type: employees<br>Text: ## Insurellm Career Progression\n- **2021-06:** Joined Insurellm as an Entry-Level SDR  \n- **2022-02:...",
          "Type: employees<br>Text: ## Annual Performance History\n- **2021:** First year at Insurellm; achieved 90% of monthly targets. ...",
          "Type: employees<br>Text: ## Compensation History\n- **2021-06:** Starting Salary: $50,000  \n- **2022-04:** Merit-based increas...",
          "Type: employees<br>Text: ## Other HR Notes\n- Jordan has shown an interest in continuing education, actively participating in ...",
          "Type: employees<br>Text: # Avery Lancaster...",
          "Type: employees<br>Text: ## Summary\n- **Date of Birth**: March 15, 1985  \n- **Job Title**: Co-Founder & Chief Executive Offic...",
          "Type: employees<br>Text: ## Insurellm Career Progression\n- **2015 - Present**: Co-Founder & CEO  \n  Avery Lancaster co-founde...",
          "Type: employees<br>Text: - **2013 - 2015**: Senior Product Manager at Innovate Insurance Solutions  \n  Before launching Insur...",
          "Type: employees<br>Text: - **2010 - 2013**: Business Analyst at Edge Analytics  \n  Prior to joining Innovate, Avery worked as...",
          "Type: employees<br>Text: ## Annual Performance History\n- **2015**: **Exceeds Expectations**  \n  Avery’s leadership during Ins...",
          "Type: employees<br>Text: - **2016**: **Meets Expectations**  \n  Growth continued, though challenges arose in operational effi...",
          "Type: employees<br>Text: - **2017**: **Developing**  \n  Market competition intensified, and monthly sales metrics were below ...",
          "Type: employees<br>Text: - **2018**: **Exceeds Expectations**  \n  Under Avery’s pivoted vision, Insurellm launched two new su...",
          "Type: employees<br>Text: - **2019**: **Meets Expectations**  \n  Steady growth, however, some team tensions led to a minor dro...",
          "Type: employees<br>Text: - **2020**: **Below Expectations**  \n  The COVID-19 pandemic posed unforeseen operational difficulti...",
          "Type: employees<br>Text: - **2021**: **Exceptional**  \n  Avery's decisive transition to remote work and rapid adoption of dig...",
          "Type: employees<br>Text: - **2022**: **Satisfactory**  \n  Avery focused on rebuilding team dynamics and addressing employee c...",
          "Type: employees<br>Text: - **2023**: **Exceeds Expectations**  \n  Market leadership was regained with innovative approaches t...",
          "Type: employees<br>Text: ## Compensation History\n- **2015**: $150,000 base salary + Significant equity stake  \n- **2016**: $1...",
          "Type: employees<br>Text: ## Other HR Notes\n- **Professional Development**: Avery has actively participated in leadership trai...",
          "Type: employees<br>Text: Avery Lancaster has demonstrated resilience and adaptability throughout her career at Insurellm, pos...",
          "Type: employees<br>Text: # HR Record\n\n# Maxine Thompson...",
          "Type: employees<br>Text: ## Summary\n- **Date of Birth:** January 15, 1991  \n- **Job Title:** Data Engineer  \n- **Location:** ...",
          "Type: employees<br>Text: ## Insurellm Career Progression\n- **January 2017 - October 2018**: **Junior Data Engineer**  \n  * Ma...",
          "Type: employees<br>Text: ## Annual Performance History\n- **2017**: *Meets Expectations*  \n  Maxine showed potential in her ro...",
          "Type: employees<br>Text: - **2018**: *Exceeds Expectations*  \n  Maxine improved significantly, becoming a reliable team membe...",
          "Type: employees<br>Text: - **2019**: *Needs Improvement*  \n  During this year, difficult personal circumstances affected Maxi...",
          "Type: employees<br>Text: - **2020**: *Meets Expectations*  \n  Maxine focused on regaining her footing and excelling with tech...",
          "Type: employees<br>Text: - **2021**: *Exceeds Expectations*  \n  Maxine spearheaded the transition to a new data warehousing s...",
          "Type: employees<br>Text: - **2022**: *Outstanding*  \n  Maxine continued her upward trajectory, successfully implementing mach...",
          "Type: employees<br>Text: - **2023**: *Exceeds Expectations*  \n  Maxine has taken on mentoring responsibilities and is leading...",
          "Type: employees<br>Text: ## Compensation History\n- **2017**: $70,000 (Junior Data Engineer)  \n- **2018**: $75,000 (Junior Dat...",
          "Type: employees<br>Text: ## Other HR Notes\n- Maxine participated in various company-sponsored trainings related to big data t...",
          "Type: employees<br>Text: # HR Record\n\n# Alex Thomson...",
          "Type: employees<br>Text: ## Summary\n- **Date of Birth:** March 15, 1995  \n- **Job Title:** Sales Development Representative (...",
          "Type: employees<br>Text: ## Insurellm Career Progression\n- **November 2022** - Joined Insurellm as a Sales Development Repres...",
          "Type: employees<br>Text: ## Annual Performance History  \n- **2022** - Rated as \"Exceeds Expectations.\" Alex Thomson achieved ...",
          "Type: employees<br>Text: ### Highlights:\n- Consistently maintained a 30-minute response time to inbound leads.\n- Successfully...",
          "Type: employees<br>Text: ## Compensation History\n- **2022**: Base Salary - $55,000 | Bonus - $5,000  \n- **2023**: Base Salary...",
          "Type: employees<br>Text: ## Other HR Notes\n- Alex Thomson is an active member of the Diversity and Inclusion committee at Ins...",
          "Type: employees<br>Text: --- \n**Comment:** Alex Thomson is considered a cornerstone of Insurellm’s sales team and has a brigh...",
          "Type: employees<br>Text: # HR Record\n\n# Alex Harper...",
          "Type: employees<br>Text: ## Summary\n- **Date of Birth**: March 15, 1993  \n- **Job Title**: Sales Development Representative (...",
          "Type: employees<br>Text: ## Insurellm Career Progression\n- **July 2021**: Joined Insurellm as a Sales Development Representat...",
          "Type: employees<br>Text: ## Annual Performance History  \n- **2021**:  \n  - **Performance Rating**: 4.5/5  \n  - **Key Achievem...",
          "Type: employees<br>Text: - **2022**:  \n  - **Performance Rating**: 4.8/5  \n  - **Key Achievements**: Awarded \"SDR of the Year...",
          "Type: employees<br>Text: - **2023**:  \n  - **Performance Rating**: 4.7/5  \n  - **Key Achievements**: Played a key role in the...",
          "Type: employees<br>Text: ## Compensation History  \n- **2021**:  \n  - **Base Salary**: $55,000  \n  - **Bonus**: $5,500 (10% of...",
          "Type: employees<br>Text: - **2022**:  \n  - **Base Salary**: $65,000 (Promotion to Senior SDR)  \n  - **Bonus**: $13,000 (20% o...",
          "Type: employees<br>Text: - **2023**:  \n  - **Base Salary**: $75,000  \n  - **Bonus**: $15,000 (20% of base)...",
          "Type: employees<br>Text: ## Other HR Notes  \n- **Training Completed**:  \n  - CRM Analytics & Data Management Workshop (2021) ...",
          "Type: employees<br>Text: - **Awards**:  \n  - Insurellm \"SDR of the Year\" Award (2022)  \n  - Monthly MVP Recognition (3 times ...",
          "Type: employees<br>Text: - **Interests**:  \n  - In Alex's spare time, they enjoy participating in community volunteer program...",
          "Type: employees<br>Text: - **Feedback from HR**:  \n  - Alex Harper is noted for their work ethic, positive attitude, and will...",
          "Type: employees<br>Text: # HR Record\n\n# Jordan K. Bishop...",
          "Type: employees<br>Text: ## Summary\n- **Date of Birth:** March 15, 1990\n- **Job Title:** Frontend Software Engineer\n- **Locat...",
          "Type: employees<br>Text: ## Insurellm Career Progression\n- **June 2018:** Hired as a Frontend Software Engineer.\n- **August 2...",
          "Type: employees<br>Text: ## Annual Performance History\n- **2019:** Exceeds Expectations - Continuously delivered high-quality...",
          "Type: employees<br>Text: ## Compensation History\n- **June 2018:** Starting Salary - $85,000\n- **June 2019:** Salary Increase ...",
          "Type: employees<br>Text: ## Other HR Notes\n- Jordan K. Bishop has been an integral part of club initiatives, including the In...",
          "Type: employees<br>Text: Jordan K. Bishop is a valued member of the Insurellm family, exhibiting a commitment to growth and d...",
          "Type: employees<br>Text: # HR Record\n\n# Emily Carter...",
          "Type: employees<br>Text: ## Summary\n- **Date of Birth:** August 12, 1990  \n- **Job Title:** Account Executive  \n- **Location:...",
          "Type: employees<br>Text: ## Insurellm Career Progression\n- **2021-Present:** Account Executive  \n  - Responsibilities include...",
          "Type: employees<br>Text: - **2017-2019:** Marketing Intern  \n  - Assisted with market research and campaign development for s...",
          "Type: employees<br>Text: ## Annual Performance History\n| Year | Performance Rating | Key Highlights |\n|------|---------------...",
          "Type: employees<br>Text: ## Compensation History\n| Year | Base Salary | Bonus         | Total Compensation |\n|------|--------...",
          "Type: employees<br>Text: ## Other HR Notes\n- **Professional Development:** Emily is currently enrolled in a leadership traini...",
          "Type: employees<br>Text: Emily Carter exemplifies the kind of talent that drives Insurellm's success and is an invaluable ass..."
         ],
         "type": "scatter",
         "x": {
          "bdata": "qyHywL+418DWlNJAqB7twNXaz8AJbAbBkjjkwBLa8cBsssfACnCFwHNO7UAy+trAtv5QQOpwTsBMrHXAS/37v9DXiMBTA8bANMsCwZGetj/EiNJAqs4HQAfP+z+xydw+ol/4P67eW0BPbCe+wkGFP/fq90CZBxtAmVzLQOU7u0AURVFAIL7EOFAho78p4zq+mVbMv2DJdD/6mezASgyKwCebfcBpekfAOUkpwNjMi8DdXT7Ami8HwCWhfMDg2PJAqtC2QBChsMDCXJXAnfOQwLK7AcHtUCS/HZTSQA0isb8fwNM+HB3HPoXSg78MCLq+QluqvucqmD8T6/dAQViFP24+50D4W9hAZ4j5QCkTvj4T2lBAzIxCwAEeFcDUqAm+9b3Dv4wZ5r9G2kO/NQy9vidlUUAeTli/6+kUwCq0kEDK0LZAtifUQJYHz0BeAURB5Mt/wNbP6sAsUn1Al4FTPXNNHcCXXWNAXMBGQZTwjMByAoZAQQ2/v7tMGEF+r5DAZxF8wAUOg8Di/SRBIOZKQLlJ7j/am6ZAzDkiQUOTQ0HCnDFBvFkvQcw5IkEQihfA/ce4wAPkxMBBJRxBy5XxwIqQn0CMuhe+l5xwv5o4cj8nsy5Bi/KAwCsc+8DzA8S/wj/EwDQ8u8B8IKbAW22TP3L/kUD3oa9AFqt4P7ZYgUCCnIpAXxueQG/rgUDGjKw/A5ROQY6ArMDVbuXArNl/QJWNFj8sb8m/zosFQOfLoz+jgP8/WO7hP4BLD7734QM/wCckvubNN0EPBMa/B2ZJQCiy5L2Php2/eIJPQKRSm0C1UDZBotBAv2mnPb/fWT9AXxYUv3B9ur+TcI5AKB7CQFlQqUBuZ0ZB2iQlQS1XQEGyhRbAl4ZjPyUnur8WGxI/fXKnQNCqR77WDPu/RIVgQJ99PUEA3WvAoOJxwNpHi0Dw4ho/v4QYwIXJiMDEkYNA+ANUQXZxtMAwfPTA",
          "dtype": "f4"
         },
         "y": {
          "bdata": "iChaQW/LbEEZHelAw+RmQT+sgkEphXFBZIuKQcQ6fkET7ItBZJR4Qas9WUHvhnlBJT9wQNvCFEHg5+hAVdawQAA57UCAr2tBMiskQVgwKEFvD+lAIGonQRbROEGYf1dBz300QStQLkH/z01BEIw4QVCFGkH+W0dBEMtKQScqTUHILXBAJ0AHQeiCwkDIqQVBOAKLQNRrJEFL0SdBwrdUQcSBRkFzHF9BpORCQRmBO0GCLk5B32JOQdy1aUG+X2hBKcp6Qe6+I0HdDCtBOVVaQfv7JUHzS4JBQRDpQMyeckEWhWRBJx18QfofNEEZI3BBSFx2QfqxbkGFhRpBhZqDQXWSbEFx/WdBD4NoQYFoiUHDPHBAVdsWQaq2tkAF3d9A3JHmQNCkkUC6eK5Ai22FQZSdRcFlepHB6vzawJWYg8CS2YfAKKtzwG3YqcBtUPrA2MTTwB99m8AjyFHBUTmTwQGy2sBiao3AosgNwegD1cDbIz3Bj8mIwSClmUACRQzBpDQiwTjrJMF1QYxAZcPYwIrasMCXNqvAGGqgQI0g0sAcy7HApyCpwBhqoED1cte9cxASwTRU+sBu8olACHPIwMIDU8EghYHBWsz5wPd9v8CNEgTBSXK0wMvVIsDhMI7BClVqwBm7X8AmDBnAlHuGwFmQeL/VGSa/Drx8wFulqb9LW3G+ZqMUwKtm4L/iJWXAtf79wMoaosCUvVzAytxewT8TkMGA6JbAt2X1v+4P4r9ayQy/GECbv/ndJ8Dr1qu/aQUlwCvLGsEfC2rAtNlVwT+lgcHphwvBAom9wHbp7sAv6OHAjv4mwUQSHsH/bkvB3cJ8wU9k/sCGBLLAGdTQwHlIxcCv6ODA/L39wGcau8D+yui99pj9wA4dOsE3KTfBkTxRwU9mkcEB+NDAcupxwIL3EMFrB5zApoOGwG7vP8HvXonB7FQGwQwVMcG2pabAWUrhwDFZ+cCL98nA",
          "dtype": "f4"
         }
        }
       ],
       "layout": {
        "height": 600,
        "margin": {
         "b": 10,
         "l": 10,
         "r": 20,
         "t": 40
        },
        "scene": {
         "xaxis": {
          "title": {
           "text": "x"
          }
         },
         "yaxis": {
          "title": {
           "text": "y"
          }
         }
        },
        "template": {
         "data": {
          "bar": [
           {
            "error_x": {
             "color": "#2a3f5f"
            },
            "error_y": {
             "color": "#2a3f5f"
            },
            "marker": {
             "line": {
              "color": "#E5ECF6",
              "width": 0.5
             },
             "pattern": {
              "fillmode": "overlay",
              "size": 10,
              "solidity": 0.2
             }
            },
            "type": "bar"
           }
          ],
          "barpolar": [
           {
            "marker": {
             "line": {
              "color": "#E5ECF6",
              "width": 0.5
             },
             "pattern": {
              "fillmode": "overlay",
              "size": 10,
              "solidity": 0.2
             }
            },
            "type": "barpolar"
           }
          ],
          "carpet": [
           {
            "aaxis": {
             "endlinecolor": "#2a3f5f",
             "gridcolor": "white",
             "linecolor": "white",
             "minorgridcolor": "white",
             "startlinecolor": "#2a3f5f"
            },
            "baxis": {
             "endlinecolor": "#2a3f5f",
             "gridcolor": "white",
             "linecolor": "white",
             "minorgridcolor": "white",
             "startlinecolor": "#2a3f5f"
            },
            "type": "carpet"
           }
          ],
          "choropleth": [
           {
            "colorbar": {
             "outlinewidth": 0,
             "ticks": ""
            },
            "type": "choropleth"
           }
          ],
          "contour": [
           {
            "colorbar": {
             "outlinewidth": 0,
             "ticks": ""
            },
            "colorscale": [
             [
              0,
              "#0d0887"
             ],
             [
              0.1111111111111111,
              "#46039f"
             ],
             [
              0.2222222222222222,
              "#7201a8"
             ],
             [
              0.3333333333333333,
              "#9c179e"
             ],
             [
              0.4444444444444444,
              "#bd3786"
             ],
             [
              0.5555555555555556,
              "#d8576b"
             ],
             [
              0.6666666666666666,
              "#ed7953"
             ],
             [
              0.7777777777777778,
              "#fb9f3a"
             ],
             [
              0.8888888888888888,
              "#fdca26"
             ],
             [
              1,
              "#f0f921"
             ]
            ],
            "type": "contour"
           }
          ],
          "contourcarpet": [
           {
            "colorbar": {
             "outlinewidth": 0,
             "ticks": ""
            },
            "type": "contourcarpet"
           }
          ],
          "heatmap": [
           {
            "colorbar": {
             "outlinewidth": 0,
             "ticks": ""
            },
            "colorscale": [
             [
              0,
              "#0d0887"
             ],
             [
              0.1111111111111111,
              "#46039f"
             ],
             [
              0.2222222222222222,
              "#7201a8"
             ],
             [
              0.3333333333333333,
              "#9c179e"
             ],
             [
              0.4444444444444444,
              "#bd3786"
             ],
             [
              0.5555555555555556,
              "#d8576b"
             ],
             [
              0.6666666666666666,
              "#ed7953"
             ],
             [
              0.7777777777777778,
              "#fb9f3a"
             ],
             [
              0.8888888888888888,
              "#fdca26"
             ],
             [
              1,
              "#f0f921"
             ]
            ],
            "type": "heatmap"
           }
          ],
          "histogram": [
           {
            "marker": {
             "pattern": {
              "fillmode": "overlay",
              "size": 10,
              "solidity": 0.2
             }
            },
            "type": "histogram"
           }
          ],
          "histogram2d": [
           {
            "colorbar": {
             "outlinewidth": 0,
             "ticks": ""
            },
            "colorscale": [
             [
              0,
              "#0d0887"
             ],
             [
              0.1111111111111111,
              "#46039f"
             ],
             [
              0.2222222222222222,
              "#7201a8"
             ],
             [
              0.3333333333333333,
              "#9c179e"
             ],
             [
              0.4444444444444444,
              "#bd3786"
             ],
             [
              0.5555555555555556,
              "#d8576b"
             ],
             [
              0.6666666666666666,
              "#ed7953"
             ],
             [
              0.7777777777777778,
              "#fb9f3a"
             ],
             [
              0.8888888888888888,
              "#fdca26"
             ],
             [
              1,
              "#f0f921"
             ]
            ],
            "type": "histogram2d"
           }
          ],
          "histogram2dcontour": [
           {
            "colorbar": {
             "outlinewidth": 0,
             "ticks": ""
            },
            "colorscale": [
             [
              0,
              "#0d0887"
             ],
             [
              0.1111111111111111,
              "#46039f"
             ],
             [
              0.2222222222222222,
              "#7201a8"
             ],
             [
              0.3333333333333333,
              "#9c179e"
             ],
             [
              0.4444444444444444,
              "#bd3786"
             ],
             [
              0.5555555555555556,
              "#d8576b"
             ],
             [
              0.6666666666666666,
              "#ed7953"
             ],
             [
              0.7777777777777778,
              "#fb9f3a"
             ],
             [
              0.8888888888888888,
              "#fdca26"
             ],
             [
              1,
              "#f0f921"
             ]
            ],
            "type": "histogram2dcontour"
           }
          ],
          "mesh3d": [
           {
            "colorbar": {
             "outlinewidth": 0,
             "ticks": ""
            },
            "type": "mesh3d"
           }
          ],
          "parcoords": [
           {
            "line": {
             "colorbar": {
              "outlinewidth": 0,
              "ticks": ""
             }
            },
            "type": "parcoords"
           }
          ],
          "pie": [
           {
            "automargin": true,
            "type": "pie"
           }
          ],
          "scatter": [
           {
            "fillpattern": {
             "fillmode": "overlay",
             "size": 10,
             "solidity": 0.2
            },
            "type": "scatter"
           }
          ],
          "scatter3d": [
           {
            "line": {
             "colorbar": {
              "outlinewidth": 0,
              "ticks": ""
             }
            },
            "marker": {
             "colorbar": {
              "outlinewidth": 0,
              "ticks": ""
             }
            },
            "type": "scatter3d"
           }
          ],
          "scattercarpet": [
           {
            "marker": {
             "colorbar": {
              "outlinewidth": 0,
              "ticks": ""
             }
            },
            "type": "scattercarpet"
           }
          ],
          "scattergeo": [
           {
            "marker": {
             "colorbar": {
              "outlinewidth": 0,
              "ticks": ""
             }
            },
            "type": "scattergeo"
           }
          ],
          "scattergl": [
           {
            "marker": {
             "colorbar": {
              "outlinewidth": 0,
              "ticks": ""
             }
            },
            "type": "scattergl"
           }
          ],
          "scattermap": [
           {
            "marker": {
             "colorbar": {
              "outlinewidth": 0,
              "ticks": ""
             }
            },
            "type": "scattermap"
           }
          ],
          "scattermapbox": [
           {
            "marker": {
             "colorbar": {
              "outlinewidth": 0,
              "ticks": ""
             }
            },
            "type": "scattermapbox"
           }
          ],
          "scatterpolar": [
           {
            "marker": {
             "colorbar": {
              "outlinewidth": 0,
              "ticks": ""
             }
            },
            "type": "scatterpolar"
           }
          ],
          "scatterpolargl": [
           {
            "marker": {
             "colorbar": {
              "outlinewidth": 0,
              "ticks": ""
             }
            },
            "type": "scatterpolargl"
           }
          ],
          "scatterternary": [
           {
            "marker": {
             "colorbar": {
              "outlinewidth": 0,
              "ticks": ""
             }
            },
            "type": "scatterternary"
           }
          ],
          "surface": [
           {
            "colorbar": {
             "outlinewidth": 0,
             "ticks": ""
            },
            "colorscale": [
             [
              0,
              "#0d0887"
             ],
             [
              0.1111111111111111,
              "#46039f"
             ],
             [
              0.2222222222222222,
              "#7201a8"
             ],
             [
              0.3333333333333333,
              "#9c179e"
             ],
             [
              0.4444444444444444,
              "#bd3786"
             ],
             [
              0.5555555555555556,
              "#d8576b"
             ],
             [
              0.6666666666666666,
              "#ed7953"
             ],
             [
              0.7777777777777778,
              "#fb9f3a"
             ],
             [
              0.8888888888888888,
              "#fdca26"
             ],
             [
              1,
              "#f0f921"
             ]
            ],
            "type": "surface"
           }
          ],
          "table": [
           {
            "cells": {
             "fill": {
              "color": "#EBF0F8"
             },
             "line": {
              "color": "white"
             }
            },
            "header": {
             "fill": {
              "color": "#C8D4E3"
             },
             "line": {
              "color": "white"
             }
            },
            "type": "table"
           }
          ]
         },
         "layout": {
          "annotationdefaults": {
           "arrowcolor": "#2a3f5f",
           "arrowhead": 0,
           "arrowwidth": 1
          },
          "autotypenumbers": "strict",
          "coloraxis": {
           "colorbar": {
            "outlinewidth": 0,
            "ticks": ""
           }
          },
          "colorscale": {
           "diverging": [
            [
             0,
             "#8e0152"
            ],
            [
             0.1,
             "#c51b7d"
            ],
            [
             0.2,
             "#de77ae"
            ],
            [
             0.3,
             "#f1b6da"
            ],
            [
             0.4,
             "#fde0ef"
            ],
            [
             0.5,
             "#f7f7f7"
            ],
            [
             0.6,
             "#e6f5d0"
            ],
            [
             0.7,
             "#b8e186"
            ],
            [
             0.8,
             "#7fbc41"
            ],
            [
             0.9,
             "#4d9221"
            ],
            [
             1,
             "#276419"
            ]
           ],
           "sequential": [
            [
             0,
             "#0d0887"
            ],
            [
             0.1111111111111111,
             "#46039f"
            ],
            [
             0.2222222222222222,
             "#7201a8"
            ],
            [
             0.3333333333333333,
             "#9c179e"
            ],
            [
             0.4444444444444444,
             "#bd3786"
            ],
            [
             0.5555555555555556,
             "#d8576b"
            ],
            [
             0.6666666666666666,
             "#ed7953"
            ],
            [
             0.7777777777777778,
             "#fb9f3a"
            ],
            [
             0.8888888888888888,
             "#fdca26"
            ],
            [
             1,
             "#f0f921"
            ]
           ],
           "sequentialminus": [
            [
             0,
             "#0d0887"
            ],
            [
             0.1111111111111111,
             "#46039f"
            ],
            [
             0.2222222222222222,
             "#7201a8"
            ],
            [
             0.3333333333333333,
             "#9c179e"
            ],
            [
             0.4444444444444444,
             "#bd3786"
            ],
            [
             0.5555555555555556,
             "#d8576b"
            ],
            [
             0.6666666666666666,
             "#ed7953"
            ],
            [
             0.7777777777777778,
             "#fb9f3a"
            ],
            [
             0.8888888888888888,
             "#fdca26"
            ],
            [
             1,
             "#f0f921"
            ]
           ]
          },
          "colorway": [
           "#636efa",
           "#EF553B",
           "#00cc96",
           "#ab63fa",
           "#FFA15A",
           "#19d3f3",
           "#FF6692",
           "#B6E880",
           "#FF97FF",
           "#FECB52"
          ],
          "font": {
           "color": "#2a3f5f"
          },
          "geo": {
           "bgcolor": "white",
           "lakecolor": "white",
           "landcolor": "#E5ECF6",
           "showlakes": true,
           "showland": true,
           "subunitcolor": "white"
          },
          "hoverlabel": {
           "align": "left"
          },
          "hovermode": "closest",
          "mapbox": {
           "style": "light"
          },
          "paper_bgcolor": "white",
          "plot_bgcolor": "#E5ECF6",
          "polar": {
           "angularaxis": {
            "gridcolor": "white",
            "linecolor": "white",
            "ticks": ""
           },
           "bgcolor": "#E5ECF6",
           "radialaxis": {
            "gridcolor": "white",
            "linecolor": "white",
            "ticks": ""
           }
          },
          "scene": {
           "xaxis": {
            "backgroundcolor": "#E5ECF6",
            "gridcolor": "white",
            "gridwidth": 2,
            "linecolor": "white",
            "showbackground": true,
            "ticks": "",
            "zerolinecolor": "white"
           },
           "yaxis": {
            "backgroundcolor": "#E5ECF6",
            "gridcolor": "white",
            "gridwidth": 2,
            "linecolor": "white",
            "showbackground": true,
            "ticks": "",
            "zerolinecolor": "white"
           },
           "zaxis": {
            "backgroundcolor": "#E5ECF6",
            "gridcolor": "white",
            "gridwidth": 2,
            "linecolor": "white",
            "showbackground": true,
            "ticks": "",
            "zerolinecolor": "white"
           }
          },
          "shapedefaults": {
           "line": {
            "color": "#2a3f5f"
           }
          },
          "ternary": {
           "aaxis": {
            "gridcolor": "white",
            "linecolor": "white",
            "ticks": ""
           },
           "baxis": {
            "gridcolor": "white",
            "linecolor": "white",
            "ticks": ""
           },
           "bgcolor": "#E5ECF6",
           "caxis": {
            "gridcolor": "white",
            "linecolor": "white",
            "ticks": ""
           }
          },
          "title": {
           "x": 0.05
          },
          "xaxis": {
           "automargin": true,
           "gridcolor": "white",
           "linecolor": "white",
           "ticks": "",
           "title": {
            "standoff": 15
           },
           "zerolinecolor": "white",
           "zerolinewidth": 2
          },
          "yaxis": {
           "automargin": true,
           "gridcolor": "white",
           "linecolor": "white",
           "ticks": "",
           "title": {
            "standoff": 15
           },
           "zerolinecolor": "white",
           "zerolinewidth": 2
          }
         }
        },
        "title": {
         "text": "2D Chroma Vector Store Visualization"
        },
        "width": 800
       }
      }
     },
     "metadata": {},
     "output_type": "display_data"
    }
   ],
   "source": [
    "# We humans find it easier to visalize things in 2D!\n",
    "# Reduce the dimensionality of the vectors to 2D using t-SNE\n",
    "# (t-distributed stochastic neighbor embedding)\n",
    "\n",
    "tsne = TSNE(n_components=2, random_state=42)\n",
    "reduced_vectors = tsne.fit_transform(vectors)\n",
    "\n",
    "# Create the 2D scatter plot\n",
    "fig = go.Figure(data=[go.Scatter(\n",
    "    x=reduced_vectors[:, 0],\n",
    "    y=reduced_vectors[:, 1],\n",
    "    mode='markers',\n",
    "    marker=dict(size=5, color=colors, opacity=0.8),\n",
    "    text=[f\"Type: {t}<br>Text: {d[:100]}...\" for t, d in zip(doc_types, documents)],\n",
    "    hoverinfo='text'\n",
    ")])\n",
    "\n",
    "fig.update_layout(\n",
    "    title='2D Chroma Vector Store Visualization',\n",
    "    scene=dict(xaxis_title='x',yaxis_title='y'),\n",
    "    width=800,\n",
    "    height=600,\n",
    "    margin=dict(r=20, b=10, l=10, t=40)\n",
    ")\n",
    "\n",
    "fig.show()"
   ]
  },
  {
   "cell_type": "code",
   "execution_count": 19,
   "metadata": {},
   "outputs": [
    {
     "data": {
      "application/vnd.plotly.v1+json": {
       "config": {
        "plotlyServerURL": "https://plot.ly"
       },
       "data": [
        {
         "hoverinfo": "text",
         "marker": {
          "color": [
           "blue",
           "blue",
           "blue",
           "blue",
           "blue",
           "blue",
           "blue",
           "blue",
           "blue",
           "blue",
           "blue",
           "blue",
           "blue",
           "blue",
           "blue",
           "blue",
           "blue",
           "blue",
           "blue",
           "blue",
           "blue",
           "blue",
           "blue",
           "blue",
           "blue",
           "blue",
           "blue",
           "blue",
           "blue",
           "blue",
           "blue",
           "blue",
           "blue",
           "blue",
           "blue",
           "blue",
           "blue",
           "blue",
           "blue",
           "blue",
           "blue",
           "blue",
           "blue",
           "blue",
           "blue",
           "blue",
           "blue",
           "blue",
           "blue",
           "blue",
           "blue",
           "blue",
           "blue",
           "blue",
           "blue",
           "blue",
           "blue",
           "blue",
           "blue",
           "blue",
           "blue",
           "blue",
           "blue",
           "blue",
           "blue",
           "blue",
           "blue",
           "blue",
           "blue",
           "blue",
           "blue",
           "blue",
           "blue",
           "blue",
           "blue",
           "blue",
           "green",
           "green",
           "green",
           "green",
           "green",
           "green",
           "green",
           "green",
           "green",
           "green",
           "green",
           "green",
           "green",
           "green",
           "green",
           "green",
           "green",
           "green",
           "green",
           "green",
           "green",
           "green",
           "green",
           "green",
           "green",
           "green",
           "green",
           "green",
           "green",
           "green",
           "green",
           "green",
           "green",
           "green",
           "green",
           "green",
           "green",
           "green",
           "green",
           "green",
           "green",
           "green",
           "green",
           "green",
           "green",
           "green",
           "green",
           "green",
           "green",
           "green",
           "green",
           "green",
           "green",
           "green",
           "green",
           "green",
           "green",
           "green",
           "green",
           "green",
           "green",
           "green",
           "green",
           "green",
           "green",
           "green",
           "green",
           "green",
           "green",
           "green",
           "green",
           "green",
           "green",
           "green",
           "green",
           "green",
           "green",
           "green",
           "green",
           "green",
           "green",
           "green",
           "green",
           "green",
           "green",
           "green",
           "green",
           "green",
           "green",
           "green",
           "green",
           "green",
           "green",
           "green",
           "green",
           "green",
           "green",
           "green",
           "green",
           "green",
           "green",
           "green",
           "green",
           "green",
           "green",
           "green",
           "green"
          ],
          "opacity": 0.8,
          "size": 5
         },
         "mode": "markers",
         "text": [
          "Type: products<br>Text: # Product Summary\n\n# Rellm: AI-Powered Enterprise Reinsurance Solution\n\n## Summary...",
          "Type: products<br>Text: Rellm is an innovative enterprise reinsurance product developed by Insurellm, designed to transform ...",
          "Type: products<br>Text: ## Features...",
          "Type: products<br>Text: ### AI-Driven Analytics\nRellm utilizes cutting-edge AI algorithms to provide predictive insights int...",
          "Type: products<br>Text: ### Seamless Integrations\nRellm's architecture is designed for effortless integration with existing ...",
          "Type: products<br>Text: ### Risk Assessment Module\nThe comprehensive risk assessment module within Rellm allows insurers to ...",
          "Type: products<br>Text: ### Customizable Dashboard\nRellm features a customizable dashboard that presents key metrics and per...",
          "Type: products<br>Text: ### Regulatory Compliance Tools\nRellm includes built-in compliance tracking features to help organiz...",
          "Type: products<br>Text: ### Client and Broker Portals\nRellm offers dedicated portals for both clients and brokers, facilitat...",
          "Type: products<br>Text: ## Pricing\n\nInsurellm offers flexible pricing plans for Rellm to cater to various business needs:...",
          "Type: products<br>Text: - **Basic Plan**: $5,000/month\n  - Includes access to core features and standard integrations.\n  \n- ...",
          "Type: products<br>Text: Join the growing number of organizations leveraging Rellm to enhance their reinsurance processes whi...",
          "Type: products<br>Text: ## 2025-2026 Roadmap...",
          "Type: products<br>Text: At Insurellm, we are committed to the continuous improvement of Rellm. Our roadmap for 2025-2026 inc...",
          "Type: products<br>Text: - **Q3 2025**: \n  - Launch of the Rellm Mobile App for on-the-go insights and management.\n  - Introd...",
          "Type: products<br>Text: - **Q1 2026**: \n  - Deployment of advanced machine learning models for even more accurate risk predi...",
          "Type: products<br>Text: - **Q3 2026**: \n  - Release of a community platform for Rellm users to exchange insights, tips, and ...",
          "Type: products<br>Text: Experience the future of reinsurance with Rellm, where innovation meets reliability. Let Insurellm h...",
          "Type: products<br>Text: # Product Summary\n\n# Markellm\n\n## Summary...",
          "Type: products<br>Text: Markellm is an innovative two-sided marketplace designed to seamlessly connect consumers with insura...",
          "Type: products<br>Text: ## Features...",
          "Type: products<br>Text: - **AI-Powered Matching**: Markellm utilizes sophisticated AI algorithms to match consumers with the...",
          "Type: products<br>Text: - **User-Friendly Interface**: Designed with user experience in mind, Markellm features an intuitive...",
          "Type: products<br>Text: - **Real-Time Quotes**: Consumers can receive real-time quotes from different insurance companies, e...",
          "Type: products<br>Text: - **Customized Recommendations**: Based on user profiles and preferences, Markellm provides personal...",
          "Type: products<br>Text: - **Secure Transactions**: Markellm prioritizes security, employing robust encryption methods to ens...",
          "Type: products<br>Text: - **Customer Support**: Our dedicated support team is always available to assist both consumers and ...",
          "Type: products<br>Text: - **Data Insights**: Insurers gain access to valuable data insights through Markellm's analytics das...",
          "Type: products<br>Text: ## Pricing...",
          "Type: products<br>Text: At Markellm, we believe in transparency and flexibility. Our pricing structure is designed to accomm...",
          "Type: products<br>Text: ### For Consumers:\n- **Free Membership**: Access to the marketplace at no cost, allowing unlimited b...",
          "Type: products<br>Text: ### For Insurance Companies:\n- **Basic Listing Fee**: $199/month for a featured listing on the platf...",
          "Type: products<br>Text: ## 2025-2026 Roadmap...",
          "Type: products<br>Text: ### Q1 2025\n- Launch a mobile app version of Markellm, making it even easier for consumers and insur...",
          "Type: products<br>Text: ### Q2 2025\n- Expand the marketplace to include additional insurance products, such as life and heal...",
          "Type: products<br>Text: ### Q3 2025\n- Initiate a comprehensive marketing campaign targeting both consumers and insurers to i...",
          "Type: products<br>Text: ### Q4 2026\n- Implement machine learning enhancements to our AI algorithm, further increasing the pr...",
          "Type: products<br>Text: Markellm is committed to improving the insurance experience for both consumers and providers. By lev...",
          "Type: products<br>Text: # Product Summary\n\n# Homellm...",
          "Type: products<br>Text: ## Summary\nHomellm is an innovative home insurance product developed by Insurellm that leverages adv...",
          "Type: products<br>Text: ## Features\n### 1. AI-Powered Risk Assessment\nHomellm utilizes sophisticated AI algorithms to analyz...",
          "Type: products<br>Text: ### 2. Dynamic Pricing Model\nWith Homellm's innovative dynamic pricing model, insurance providers ca...",
          "Type: products<br>Text: ### 3. Instant Claim Processing\nThe AI-driven claims management system in Homellm automates the enti...",
          "Type: products<br>Text: ### 4. Predictive Maintenance Alerts\nHomellm incorporates predictive analytics to advise homeowners ...",
          "Type: products<br>Text: ### 5. Multi-Channel Integration\nHomellm seamlessly integrates into existing insurance platforms, pr...",
          "Type: products<br>Text: ### 6. Customer Portal\nA user-friendly online portal and mobile application enables customers to man...",
          "Type: products<br>Text: ## Pricing\nAt Insurellm, we believe in providing value without compromising quality. The pricing for...",
          "Type: products<br>Text: - **Basic Tier:** Starting at $5,000/month for small insurers with basic integration features.\n- **S...",
          "Type: products<br>Text: All tiers include a comprehensive training program and ongoing updates to ensure optimal performance...",
          "Type: products<br>Text: ## Roadmap\nThe development roadmap for Homellm includes the following key milestones:...",
          "Type: products<br>Text: - **Q1 2024:** Launch of Homellm version 1.0, featuring core functionalities and integrations.\n- **Q...",
          "Type: products<br>Text: With Homellm, Insurellm is committed to transforming the landscape of home insurance, ensuring both ...",
          "Type: products<br>Text: # Product Summary\n\n# Carllm\n\n## Summary...",
          "Type: products<br>Text: Carllm is an innovative auto insurance product developed by Insurellm, designed to streamline the wa...",
          "Type: products<br>Text: ## Features...",
          "Type: products<br>Text: - **AI-Powered Risk Assessment**: Carllm leverages artificial intelligence to analyze driver behavio...",
          "Type: products<br>Text: - **Instant Quoting**: With Carllm, insurance companies can offer near-instant quotes to customers, ...",
          "Type: products<br>Text: - **Customizable Coverage Plans**: Carllm allows insurers to create flexible and tailored insurance ...",
          "Type: products<br>Text: - **Fraud Detection**: The product incorporates advanced analytics to identify potentially fraudulen...",
          "Type: products<br>Text: - **Customer Insights Dashboard**: Carllm provides insurers with a powerful dashboard that offers de...",
          "Type: products<br>Text: - **Mobile Integration**: Carllm is designed to work seamlessly with mobile applications, providing ...",
          "Type: products<br>Text: - **Automated Customer Support**: Leveraging AI chatbots, Carllm offers 24/7 customer support, helpi...",
          "Type: products<br>Text: ## Pricing...",
          "Type: products<br>Text: Carllm is offered under a subscription-based pricing model tailored to meet the needs of insurance c...",
          "Type: products<br>Text: - **Basic Tier**: $1,000/month\n  - Ideal for small insurance firms.\n  - Access to core features and ...",
          "Type: products<br>Text: - **Professional Tier**: $2,500/month\n  - For medium-sized companies.\n  - All Basic Tier features pl...",
          "Type: products<br>Text: - **Enterprise Tier**: $5,000/month\n  - Customized solutions for large insurance firms.\n  - Comprehe...",
          "Type: products<br>Text: Contact our sales team for a personalized quote and discover how Carllm can transform your auto insu...",
          "Type: products<br>Text: ## 2025-2026 Roadmap...",
          "Type: products<br>Text: In our commitment to continuous improvement and innovation, Insurellm has outlined the following roa...",
          "Type: products<br>Text: ### Q1 2025: Launch Feature Enhancements\n- **Expanded data integrations** for better risk assessment...",
          "Type: products<br>Text: ### Q2 2025: Customer Experience Improvements\n- Launch of a new **mobile app** for end-users.\n- Intr...",
          "Type: products<br>Text: ### Q3 2025: Global Expansion\n- Begin pilot programs for international insurance markets.\n- Collabor...",
          "Type: products<br>Text: ### Q4 2025: AI and Machine Learning Upgrades\n- Implement next-gen machine learning models for predi...",
          "Type: products<br>Text: ### 2026: Scaling and Partnerships\n- Increase partnerships with automakers for integrated insurance ...",
          "Type: products<br>Text: Carllm is not just an auto insurance product; it is a transformative tool for the insurance industry...",
          "Type: employees<br>Text: # HR Record\n\n# Alex Chen...",
          "Type: employees<br>Text: ## Summary\n- **Date of Birth:** March 15, 1990  \n- **Job Title:** Backend Software Engineer  \n- **Lo...",
          "Type: employees<br>Text: ## Insurellm Career Progression\n- **April 2020:** Joined Insurellm as a Junior Backend Developer. Fo...",
          "Type: employees<br>Text: ## Annual Performance History\n- **2020:**  \n  - Completed onboarding successfully.  \n  - Met expecta...",
          "Type: employees<br>Text: - **2021:**  \n  - Achieved a 95% success rate in project delivery timelines.  \n  - Awarded \"Rising S...",
          "Type: employees<br>Text: - **2022:**  \n  - Exceeded goals by optimizing existing backend code, improving system performance b...",
          "Type: employees<br>Text: - **2023:**  \n  - Led a major overhaul of the API internal architecture, enhancing security protocol...",
          "Type: employees<br>Text: ## Compensation History\n- **2020:** Base Salary: $80,000  \n- **2021:** Base Salary Increase to $90,0...",
          "Type: employees<br>Text: ## Other HR Notes\n- Participates regularly in Insurellm's Diversity & Inclusion initiatives, champio...",
          "Type: employees<br>Text: Alex Chen continues to be a vital asset at Insurellm, contributing significantly to innovative backe...",
          "Type: employees<br>Text: # HR Record\n\n# Oliver Spencer...",
          "Type: employees<br>Text: ## Summary\n- **Date of Birth**: May 14, 1990  \n- **Job Title**: Backend Software Engineer  \n- **Loca...",
          "Type: employees<br>Text: ## Insurellm Career Progression\n- **March 2018**: Joined Insurellm as a Backend Developer I, focusin...",
          "Type: employees<br>Text: ## Annual Performance History\n- **2018**: **3/5** - Adaptable team player but still learning to take...",
          "Type: employees<br>Text: ## Compensation History\n- **March 2018**: Initial salary of $80,000.\n- **July 2019**: Salary increas...",
          "Type: employees<br>Text: ## Other HR Notes\n- Oliver enjoys a strong rapport with team members and is known for organizing reg...",
          "Type: employees<br>Text: # HR Record\n\n# Emily Tran...",
          "Type: employees<br>Text: ## Summary\n- **Date of Birth:** March 18, 1991  \n- **Job Title:** Digital Marketing Specialist  \n- *...",
          "Type: employees<br>Text: ---...",
          "Type: employees<br>Text: ## Insurellm Career Progression\n- **February 2020 - Present**: Digital Marketing Specialist  \n   - E...",
          "Type: employees<br>Text: - **June 2018 - January 2020**: Marketing Coordinator  \n  - Assisted in the development and executio...",
          "Type: employees<br>Text: - **January 2017 - May 2018**: Marketing Intern  \n  - Supported the Marketing team by collaborating ...",
          "Type: employees<br>Text: ---...",
          "Type: employees<br>Text: ## Annual Performance History\n- **2023**:  \n  - Performance Rating: Exceeds Expectations  \n  - Key A...",
          "Type: employees<br>Text: - **2022**:  \n  - Performance Rating: Meets Expectations  \n  - Key Achievements: Enhanced Insurellm'...",
          "Type: employees<br>Text: - **2021**:  \n  - Performance Rating: Meets Expectations  \n  - Key Achievements: Contributed to the ...",
          "Type: employees<br>Text: ---...",
          "Type: employees<br>Text: ## Compensation History\n- **2023**:  \n  - Base Salary: $75,000  \n  - Bonus: $10,000 for exceeding an...",
          "Type: employees<br>Text: - **2022**:  \n  - Base Salary: $70,000  \n  - Bonus: $5,000 for achieving marketing milestones....",
          "Type: employees<br>Text: - **2021**:  \n  - Base Salary: $67,500  \n  - No bonus due to reallocation of marketing funds during ...",
          "Type: employees<br>Text: ---...",
          "Type: employees<br>Text: ## Other HR Notes\n- **Training Completed**:  \n  - Advanced Digital Marketing Workshop (2021)  \n  - A...",
          "Type: employees<br>Text: - **Professional Development Goals**:  \n  - Emily Tran aims to become a Marketing Manager within the...",
          "Type: employees<br>Text: - **Hobbies**:  \n  - Emily enjoys photography and regularly contributes to Insurellm's social media ...",
          "Type: employees<br>Text: ---...",
          "Type: employees<br>Text: Emily Tran continues to be a valuable asset to Insurellm, driving innovative marketing strategies th...",
          "Type: employees<br>Text: # HR Record\n\n# Jordan Blake...",
          "Type: employees<br>Text: ## Summary\n- **Date of Birth:** March 15, 1993  \n- **Job Title:** Sales Development Representative (...",
          "Type: employees<br>Text: ## Insurellm Career Progression\n- **2021-06:** Joined Insurellm as an Entry-Level SDR  \n- **2022-02:...",
          "Type: employees<br>Text: ## Annual Performance History\n- **2021:** First year at Insurellm; achieved 90% of monthly targets. ...",
          "Type: employees<br>Text: ## Compensation History\n- **2021-06:** Starting Salary: $50,000  \n- **2022-04:** Merit-based increas...",
          "Type: employees<br>Text: ## Other HR Notes\n- Jordan has shown an interest in continuing education, actively participating in ...",
          "Type: employees<br>Text: # Avery Lancaster...",
          "Type: employees<br>Text: ## Summary\n- **Date of Birth**: March 15, 1985  \n- **Job Title**: Co-Founder & Chief Executive Offic...",
          "Type: employees<br>Text: ## Insurellm Career Progression\n- **2015 - Present**: Co-Founder & CEO  \n  Avery Lancaster co-founde...",
          "Type: employees<br>Text: - **2013 - 2015**: Senior Product Manager at Innovate Insurance Solutions  \n  Before launching Insur...",
          "Type: employees<br>Text: - **2010 - 2013**: Business Analyst at Edge Analytics  \n  Prior to joining Innovate, Avery worked as...",
          "Type: employees<br>Text: ## Annual Performance History\n- **2015**: **Exceeds Expectations**  \n  Avery’s leadership during Ins...",
          "Type: employees<br>Text: - **2016**: **Meets Expectations**  \n  Growth continued, though challenges arose in operational effi...",
          "Type: employees<br>Text: - **2017**: **Developing**  \n  Market competition intensified, and monthly sales metrics were below ...",
          "Type: employees<br>Text: - **2018**: **Exceeds Expectations**  \n  Under Avery’s pivoted vision, Insurellm launched two new su...",
          "Type: employees<br>Text: - **2019**: **Meets Expectations**  \n  Steady growth, however, some team tensions led to a minor dro...",
          "Type: employees<br>Text: - **2020**: **Below Expectations**  \n  The COVID-19 pandemic posed unforeseen operational difficulti...",
          "Type: employees<br>Text: - **2021**: **Exceptional**  \n  Avery's decisive transition to remote work and rapid adoption of dig...",
          "Type: employees<br>Text: - **2022**: **Satisfactory**  \n  Avery focused on rebuilding team dynamics and addressing employee c...",
          "Type: employees<br>Text: - **2023**: **Exceeds Expectations**  \n  Market leadership was regained with innovative approaches t...",
          "Type: employees<br>Text: ## Compensation History\n- **2015**: $150,000 base salary + Significant equity stake  \n- **2016**: $1...",
          "Type: employees<br>Text: ## Other HR Notes\n- **Professional Development**: Avery has actively participated in leadership trai...",
          "Type: employees<br>Text: Avery Lancaster has demonstrated resilience and adaptability throughout her career at Insurellm, pos...",
          "Type: employees<br>Text: # HR Record\n\n# Maxine Thompson...",
          "Type: employees<br>Text: ## Summary\n- **Date of Birth:** January 15, 1991  \n- **Job Title:** Data Engineer  \n- **Location:** ...",
          "Type: employees<br>Text: ## Insurellm Career Progression\n- **January 2017 - October 2018**: **Junior Data Engineer**  \n  * Ma...",
          "Type: employees<br>Text: ## Annual Performance History\n- **2017**: *Meets Expectations*  \n  Maxine showed potential in her ro...",
          "Type: employees<br>Text: - **2018**: *Exceeds Expectations*  \n  Maxine improved significantly, becoming a reliable team membe...",
          "Type: employees<br>Text: - **2019**: *Needs Improvement*  \n  During this year, difficult personal circumstances affected Maxi...",
          "Type: employees<br>Text: - **2020**: *Meets Expectations*  \n  Maxine focused on regaining her footing and excelling with tech...",
          "Type: employees<br>Text: - **2021**: *Exceeds Expectations*  \n  Maxine spearheaded the transition to a new data warehousing s...",
          "Type: employees<br>Text: - **2022**: *Outstanding*  \n  Maxine continued her upward trajectory, successfully implementing mach...",
          "Type: employees<br>Text: - **2023**: *Exceeds Expectations*  \n  Maxine has taken on mentoring responsibilities and is leading...",
          "Type: employees<br>Text: ## Compensation History\n- **2017**: $70,000 (Junior Data Engineer)  \n- **2018**: $75,000 (Junior Dat...",
          "Type: employees<br>Text: ## Other HR Notes\n- Maxine participated in various company-sponsored trainings related to big data t...",
          "Type: employees<br>Text: # HR Record\n\n# Alex Thomson...",
          "Type: employees<br>Text: ## Summary\n- **Date of Birth:** March 15, 1995  \n- **Job Title:** Sales Development Representative (...",
          "Type: employees<br>Text: ## Insurellm Career Progression\n- **November 2022** - Joined Insurellm as a Sales Development Repres...",
          "Type: employees<br>Text: ## Annual Performance History  \n- **2022** - Rated as \"Exceeds Expectations.\" Alex Thomson achieved ...",
          "Type: employees<br>Text: ### Highlights:\n- Consistently maintained a 30-minute response time to inbound leads.\n- Successfully...",
          "Type: employees<br>Text: ## Compensation History\n- **2022**: Base Salary - $55,000 | Bonus - $5,000  \n- **2023**: Base Salary...",
          "Type: employees<br>Text: ## Other HR Notes\n- Alex Thomson is an active member of the Diversity and Inclusion committee at Ins...",
          "Type: employees<br>Text: --- \n**Comment:** Alex Thomson is considered a cornerstone of Insurellm’s sales team and has a brigh...",
          "Type: employees<br>Text: # HR Record\n\n# Alex Harper...",
          "Type: employees<br>Text: ## Summary\n- **Date of Birth**: March 15, 1993  \n- **Job Title**: Sales Development Representative (...",
          "Type: employees<br>Text: ## Insurellm Career Progression\n- **July 2021**: Joined Insurellm as a Sales Development Representat...",
          "Type: employees<br>Text: ## Annual Performance History  \n- **2021**:  \n  - **Performance Rating**: 4.5/5  \n  - **Key Achievem...",
          "Type: employees<br>Text: - **2022**:  \n  - **Performance Rating**: 4.8/5  \n  - **Key Achievements**: Awarded \"SDR of the Year...",
          "Type: employees<br>Text: - **2023**:  \n  - **Performance Rating**: 4.7/5  \n  - **Key Achievements**: Played a key role in the...",
          "Type: employees<br>Text: ## Compensation History  \n- **2021**:  \n  - **Base Salary**: $55,000  \n  - **Bonus**: $5,500 (10% of...",
          "Type: employees<br>Text: - **2022**:  \n  - **Base Salary**: $65,000 (Promotion to Senior SDR)  \n  - **Bonus**: $13,000 (20% o...",
          "Type: employees<br>Text: - **2023**:  \n  - **Base Salary**: $75,000  \n  - **Bonus**: $15,000 (20% of base)...",
          "Type: employees<br>Text: ## Other HR Notes  \n- **Training Completed**:  \n  - CRM Analytics & Data Management Workshop (2021) ...",
          "Type: employees<br>Text: - **Awards**:  \n  - Insurellm \"SDR of the Year\" Award (2022)  \n  - Monthly MVP Recognition (3 times ...",
          "Type: employees<br>Text: - **Interests**:  \n  - In Alex's spare time, they enjoy participating in community volunteer program...",
          "Type: employees<br>Text: - **Feedback from HR**:  \n  - Alex Harper is noted for their work ethic, positive attitude, and will...",
          "Type: employees<br>Text: # HR Record\n\n# Jordan K. Bishop...",
          "Type: employees<br>Text: ## Summary\n- **Date of Birth:** March 15, 1990\n- **Job Title:** Frontend Software Engineer\n- **Locat...",
          "Type: employees<br>Text: ## Insurellm Career Progression\n- **June 2018:** Hired as a Frontend Software Engineer.\n- **August 2...",
          "Type: employees<br>Text: ## Annual Performance History\n- **2019:** Exceeds Expectations - Continuously delivered high-quality...",
          "Type: employees<br>Text: ## Compensation History\n- **June 2018:** Starting Salary - $85,000\n- **June 2019:** Salary Increase ...",
          "Type: employees<br>Text: ## Other HR Notes\n- Jordan K. Bishop has been an integral part of club initiatives, including the In...",
          "Type: employees<br>Text: Jordan K. Bishop is a valued member of the Insurellm family, exhibiting a commitment to growth and d...",
          "Type: employees<br>Text: # HR Record\n\n# Emily Carter...",
          "Type: employees<br>Text: ## Summary\n- **Date of Birth:** August 12, 1990  \n- **Job Title:** Account Executive  \n- **Location:...",
          "Type: employees<br>Text: ## Insurellm Career Progression\n- **2021-Present:** Account Executive  \n  - Responsibilities include...",
          "Type: employees<br>Text: - **2017-2019:** Marketing Intern  \n  - Assisted with market research and campaign development for s...",
          "Type: employees<br>Text: ## Annual Performance History\n| Year | Performance Rating | Key Highlights |\n|------|---------------...",
          "Type: employees<br>Text: ## Compensation History\n| Year | Base Salary | Bonus         | Total Compensation |\n|------|--------...",
          "Type: employees<br>Text: ## Other HR Notes\n- **Professional Development:** Emily is currently enrolled in a leadership traini...",
          "Type: employees<br>Text: Emily Carter exemplifies the kind of talent that drives Insurellm's success and is an invaluable ass..."
         ],
         "type": "scatter3d",
         "x": {
          "bdata": "UAu8QEhYI0EjnHVBG4CPQV0Du0EOj8lBYvMJQpk1u0FlkRVC8fXuPpPoQELy91tBM0UmQn6c6b+523RB5Ap2QDkCxEHjyUA/c345wQtJHcA5DMRB8oMfwYNd10BX1AnCVUKBv1Nvk0DjhCrC+fU6wtOy4EGez05BIq8mQvZ68kHkBTdC9/1qQe+GeEA4KLhBeYGIQFnEBEEZsLbBBKC+wbXlEcJmEczBHQAhwoOSOMJ7Ec7BzJwEwljzQcFbugxC1zZJQmSeCsLXfwnCAaVgwXaRSMFLIxfB1ZpUQbsJi8E6VMHBJqP9wMtYqsFMVYHBq/mmwWaI/cEPhI9B71O4QAtHEkKiEEZCN7g0QguerD+n3h9CR5T1wBqt9cDkqrVAk5tgQYlOdcAXooFBhn5EwNOstcCw+qHBuBTOPwWd70F52WpBNjSrQdBvq0GEH3lC1ECCwE35LsInRn4/VJeVwQtrgMAixn1BMDeGQsf5A8HK533BaDQJwbgrWsK1747B+IGWwfxyo8HrZEXCBO87QbnHXr9WpKRBY0lNwm2mTEIsL1RCuO0xQmNJTcKN7NlBiwArwdbq+8GGoiPC0hEHwgaLRsHR7dpAhaAtQZJYJEClR3BCHtCHwcCuZsL1JUzBdIAZwvGFGcLk1y7CwiO8wQIA3MH8hQjCixx/wdn7ncG9dAHCEE1owVs9g8Ht3NXB+5mUQj8Z+8EF3UzC8T7aPzWrDsGwzVxBPrQyQYfuGL8x6L2/sGJ2QByRicARgOo/r0S+wFdDl0LQbFZB8Ez5QJXtYUArXnNAOf3hQW32d0Ba8ERC5yz3v8BsJEEyGSfAgVn3QD0brb9fv9VBtLauQZzGR0H/Hn9C9jxoQuCRPEIa1wNCuKWfQegfisFELpE/8SOiwfj8ScGtHjXB9ArTQdgilUItxbrBciIFwi6gW8E7Lhu/CzSzv4TIm8H0msRBiRp1QmPgp8F+wCjC",
          "dtype": "f4"
         },
         "y": {
          "bdata": "6sgcwuuTEcIxOEzCHQkcwnPuCMLxRPDBy6EcwttKvMEsc9vBSYFRwqAZesJHqLLB2gfjQLnRpcGyIk3BXoiuvzV6hcE8OOTBa1Ncws3NS8KZHGLCVmZ4wvBNd8Js/N/BLgOEwp9wmsJA7SLCKk1BQiV3hMLbfmLCIL1vwh4jgMJDz4jADsbrwTD3NMH3M8zBG5IjQGXBMMKRyTnC9+onwvyWP8Ji7mjCNrsQwqpPIMIq3CHC73E+wi/JSsJLZmvCqUgFwuIjCMLl/+jB7JAPwlMcM8LTRB/C3J91wmdI8MGJhgbCba1awizYTMFDfDjC1yZJwk+VLsJ8L4nCrUZFwi2PPcL0zUDCnypTwtjUNMLJPY6/fGvQwTZLxsCdHI3BMSqswYLprEC5IoLArXgSwrbdKkLKakBCucsewfYlHUIlvQtCZ2M2QsEd7kEwc4tBA2/8v8+lYcA7f1xCY8IIQuNvasHz1w5CfiuMQbMugkDvbENCWXJrQirPNUFtcxpBqd8BwfpWHEBcP8Y+QXz6QV0XbEGbM5BBo8V8v+3DwUGyQhxBleduP6PFfL+Zb4ZCn1vOQagNokEj5O5A2taeP3ZlZEIHxDxC7sybQKNLgEGDOyxA7lHoQAFKvkHiDFxCgN2HQdMSR0FReapBogLnQfHtL0JdSyRCR9u0QZVqWUKJxmFC+KYQQvYATUKkF8hB6wy9QeL05EF+0C5BsYl3Qho9KUIGmd7AnMdTQs7YRELdsntC+AB1Qp1PC0L23zpCH6wYQkWzrUCXoY+/2hJAQrzwMEJ7VzNBKDHgQQqVlUHx6rtBt22VQb1dskE//zBCXDpkQkKNtkBFfsVBkWoJQWTdm0EjsqlBhOw3wGmGNUGXAYFC8tqEQPeXuEEx5d5B/qY+QkMoGEKVC6/AtCEvQiVL9UA/1IHAsqwrwZb/bUJHm/9Bu4vKv3p5eL9nA8pBaxoEQlwCpEEk3IhA",
          "dtype": "f4"
         },
         "z": {
          "bdata": "du/CQSkzBEFPKT5CdYKTQZM00j+qv+dBbHlCQWC2Z0HEmx9AgqYJQb9ClsFyIqdA3swTQljE2MAdSpPBwXUPwm6uP8HA3A1BhF35QY2xZcFJPSZCwR2ZwZF/nMExH/zBlboVwceGu8HuAfjBQg9lQbofnUHBWuHAePdMwPu2GME4ORlCFCnQweOGPMIi7gXCXQ1bwhU4hsFE4t1BwZm+QN0IwD87O7G/YIIqwUeW60Dw3xbBAbaOwabnnEDWU9HBMqe5wVmUr0Hd0/VAtFcmQPU0E0Kqo/bBh4MlQqyHRMJDsA/C5jAewleiAsIYaj3CCyUIwsE0OcJZEp1Beh4WwrhLqMHl34vBThz5wSoyUcLh3+BBK8VtwVWJDcJxCu7BlzhCwmytN8JqIy7Cyn4kwssILkLSRFDCYoTjQdCgCMFtCZXB8z7PwTtvA8Kzw6VALpBEQqKUfUGePBBCk4JiwsxNFkKIdR8+cOCWQSjcbkIENAtCrUxawvB0BcJItbJBsm4lQUiX20DK/SPCWbKKQf8mucCV2rDBu8PWwY8RLcCxdnDBNzVcwbvD1sEDD3jB4vzOQeNcJ0IICADCEezTQfy+YkIv9l7CsRmwQUKE/UDkyhpBohg2QrbRdEGHvCbCpYhpQWNzhUBcyq/A4xE8QOhdtMD+m5TBNemAwNF8L8Dd2UvBeeGYwbFoeMG99CvBKxw4QJgZskEQaX1BY6pGQgHieMJ2jyFCHJrBQI3nrD/oJRpBBKprwKCwib9MkknB9L8eQQYdx784H1ZCHjdAQmAkM8JyjghCaH1rQUyLyMHkOEhB+vdAQqMOKULKumFCBls7wu88v0EIhkvBSOPHwK20QMEVig7B8aTKv6AyrL+UXOvAN3MKQX/qXUKpS25Ceb9TQq+oN8L5h/FBN/rKQJnLS0FqsUFCrpY1QtUOIUKykV3Cul05QXSfscBIFfC+o/dPQKpWDkLvaAZC",
          "dtype": "f4"
         }
        }
       ],
       "layout": {
        "height": 700,
        "margin": {
         "b": 10,
         "l": 10,
         "r": 20,
         "t": 40
        },
        "scene": {
         "xaxis": {
          "title": {
           "text": "x"
          }
         },
         "yaxis": {
          "title": {
           "text": "y"
          }
         },
         "zaxis": {
          "title": {
           "text": "z"
          }
         }
        },
        "template": {
         "data": {
          "bar": [
           {
            "error_x": {
             "color": "#2a3f5f"
            },
            "error_y": {
             "color": "#2a3f5f"
            },
            "marker": {
             "line": {
              "color": "#E5ECF6",
              "width": 0.5
             },
             "pattern": {
              "fillmode": "overlay",
              "size": 10,
              "solidity": 0.2
             }
            },
            "type": "bar"
           }
          ],
          "barpolar": [
           {
            "marker": {
             "line": {
              "color": "#E5ECF6",
              "width": 0.5
             },
             "pattern": {
              "fillmode": "overlay",
              "size": 10,
              "solidity": 0.2
             }
            },
            "type": "barpolar"
           }
          ],
          "carpet": [
           {
            "aaxis": {
             "endlinecolor": "#2a3f5f",
             "gridcolor": "white",
             "linecolor": "white",
             "minorgridcolor": "white",
             "startlinecolor": "#2a3f5f"
            },
            "baxis": {
             "endlinecolor": "#2a3f5f",
             "gridcolor": "white",
             "linecolor": "white",
             "minorgridcolor": "white",
             "startlinecolor": "#2a3f5f"
            },
            "type": "carpet"
           }
          ],
          "choropleth": [
           {
            "colorbar": {
             "outlinewidth": 0,
             "ticks": ""
            },
            "type": "choropleth"
           }
          ],
          "contour": [
           {
            "colorbar": {
             "outlinewidth": 0,
             "ticks": ""
            },
            "colorscale": [
             [
              0,
              "#0d0887"
             ],
             [
              0.1111111111111111,
              "#46039f"
             ],
             [
              0.2222222222222222,
              "#7201a8"
             ],
             [
              0.3333333333333333,
              "#9c179e"
             ],
             [
              0.4444444444444444,
              "#bd3786"
             ],
             [
              0.5555555555555556,
              "#d8576b"
             ],
             [
              0.6666666666666666,
              "#ed7953"
             ],
             [
              0.7777777777777778,
              "#fb9f3a"
             ],
             [
              0.8888888888888888,
              "#fdca26"
             ],
             [
              1,
              "#f0f921"
             ]
            ],
            "type": "contour"
           }
          ],
          "contourcarpet": [
           {
            "colorbar": {
             "outlinewidth": 0,
             "ticks": ""
            },
            "type": "contourcarpet"
           }
          ],
          "heatmap": [
           {
            "colorbar": {
             "outlinewidth": 0,
             "ticks": ""
            },
            "colorscale": [
             [
              0,
              "#0d0887"
             ],
             [
              0.1111111111111111,
              "#46039f"
             ],
             [
              0.2222222222222222,
              "#7201a8"
             ],
             [
              0.3333333333333333,
              "#9c179e"
             ],
             [
              0.4444444444444444,
              "#bd3786"
             ],
             [
              0.5555555555555556,
              "#d8576b"
             ],
             [
              0.6666666666666666,
              "#ed7953"
             ],
             [
              0.7777777777777778,
              "#fb9f3a"
             ],
             [
              0.8888888888888888,
              "#fdca26"
             ],
             [
              1,
              "#f0f921"
             ]
            ],
            "type": "heatmap"
           }
          ],
          "histogram": [
           {
            "marker": {
             "pattern": {
              "fillmode": "overlay",
              "size": 10,
              "solidity": 0.2
             }
            },
            "type": "histogram"
           }
          ],
          "histogram2d": [
           {
            "colorbar": {
             "outlinewidth": 0,
             "ticks": ""
            },
            "colorscale": [
             [
              0,
              "#0d0887"
             ],
             [
              0.1111111111111111,
              "#46039f"
             ],
             [
              0.2222222222222222,
              "#7201a8"
             ],
             [
              0.3333333333333333,
              "#9c179e"
             ],
             [
              0.4444444444444444,
              "#bd3786"
             ],
             [
              0.5555555555555556,
              "#d8576b"
             ],
             [
              0.6666666666666666,
              "#ed7953"
             ],
             [
              0.7777777777777778,
              "#fb9f3a"
             ],
             [
              0.8888888888888888,
              "#fdca26"
             ],
             [
              1,
              "#f0f921"
             ]
            ],
            "type": "histogram2d"
           }
          ],
          "histogram2dcontour": [
           {
            "colorbar": {
             "outlinewidth": 0,
             "ticks": ""
            },
            "colorscale": [
             [
              0,
              "#0d0887"
             ],
             [
              0.1111111111111111,
              "#46039f"
             ],
             [
              0.2222222222222222,
              "#7201a8"
             ],
             [
              0.3333333333333333,
              "#9c179e"
             ],
             [
              0.4444444444444444,
              "#bd3786"
             ],
             [
              0.5555555555555556,
              "#d8576b"
             ],
             [
              0.6666666666666666,
              "#ed7953"
             ],
             [
              0.7777777777777778,
              "#fb9f3a"
             ],
             [
              0.8888888888888888,
              "#fdca26"
             ],
             [
              1,
              "#f0f921"
             ]
            ],
            "type": "histogram2dcontour"
           }
          ],
          "mesh3d": [
           {
            "colorbar": {
             "outlinewidth": 0,
             "ticks": ""
            },
            "type": "mesh3d"
           }
          ],
          "parcoords": [
           {
            "line": {
             "colorbar": {
              "outlinewidth": 0,
              "ticks": ""
             }
            },
            "type": "parcoords"
           }
          ],
          "pie": [
           {
            "automargin": true,
            "type": "pie"
           }
          ],
          "scatter": [
           {
            "fillpattern": {
             "fillmode": "overlay",
             "size": 10,
             "solidity": 0.2
            },
            "type": "scatter"
           }
          ],
          "scatter3d": [
           {
            "line": {
             "colorbar": {
              "outlinewidth": 0,
              "ticks": ""
             }
            },
            "marker": {
             "colorbar": {
              "outlinewidth": 0,
              "ticks": ""
             }
            },
            "type": "scatter3d"
           }
          ],
          "scattercarpet": [
           {
            "marker": {
             "colorbar": {
              "outlinewidth": 0,
              "ticks": ""
             }
            },
            "type": "scattercarpet"
           }
          ],
          "scattergeo": [
           {
            "marker": {
             "colorbar": {
              "outlinewidth": 0,
              "ticks": ""
             }
            },
            "type": "scattergeo"
           }
          ],
          "scattergl": [
           {
            "marker": {
             "colorbar": {
              "outlinewidth": 0,
              "ticks": ""
             }
            },
            "type": "scattergl"
           }
          ],
          "scattermap": [
           {
            "marker": {
             "colorbar": {
              "outlinewidth": 0,
              "ticks": ""
             }
            },
            "type": "scattermap"
           }
          ],
          "scattermapbox": [
           {
            "marker": {
             "colorbar": {
              "outlinewidth": 0,
              "ticks": ""
             }
            },
            "type": "scattermapbox"
           }
          ],
          "scatterpolar": [
           {
            "marker": {
             "colorbar": {
              "outlinewidth": 0,
              "ticks": ""
             }
            },
            "type": "scatterpolar"
           }
          ],
          "scatterpolargl": [
           {
            "marker": {
             "colorbar": {
              "outlinewidth": 0,
              "ticks": ""
             }
            },
            "type": "scatterpolargl"
           }
          ],
          "scatterternary": [
           {
            "marker": {
             "colorbar": {
              "outlinewidth": 0,
              "ticks": ""
             }
            },
            "type": "scatterternary"
           }
          ],
          "surface": [
           {
            "colorbar": {
             "outlinewidth": 0,
             "ticks": ""
            },
            "colorscale": [
             [
              0,
              "#0d0887"
             ],
             [
              0.1111111111111111,
              "#46039f"
             ],
             [
              0.2222222222222222,
              "#7201a8"
             ],
             [
              0.3333333333333333,
              "#9c179e"
             ],
             [
              0.4444444444444444,
              "#bd3786"
             ],
             [
              0.5555555555555556,
              "#d8576b"
             ],
             [
              0.6666666666666666,
              "#ed7953"
             ],
             [
              0.7777777777777778,
              "#fb9f3a"
             ],
             [
              0.8888888888888888,
              "#fdca26"
             ],
             [
              1,
              "#f0f921"
             ]
            ],
            "type": "surface"
           }
          ],
          "table": [
           {
            "cells": {
             "fill": {
              "color": "#EBF0F8"
             },
             "line": {
              "color": "white"
             }
            },
            "header": {
             "fill": {
              "color": "#C8D4E3"
             },
             "line": {
              "color": "white"
             }
            },
            "type": "table"
           }
          ]
         },
         "layout": {
          "annotationdefaults": {
           "arrowcolor": "#2a3f5f",
           "arrowhead": 0,
           "arrowwidth": 1
          },
          "autotypenumbers": "strict",
          "coloraxis": {
           "colorbar": {
            "outlinewidth": 0,
            "ticks": ""
           }
          },
          "colorscale": {
           "diverging": [
            [
             0,
             "#8e0152"
            ],
            [
             0.1,
             "#c51b7d"
            ],
            [
             0.2,
             "#de77ae"
            ],
            [
             0.3,
             "#f1b6da"
            ],
            [
             0.4,
             "#fde0ef"
            ],
            [
             0.5,
             "#f7f7f7"
            ],
            [
             0.6,
             "#e6f5d0"
            ],
            [
             0.7,
             "#b8e186"
            ],
            [
             0.8,
             "#7fbc41"
            ],
            [
             0.9,
             "#4d9221"
            ],
            [
             1,
             "#276419"
            ]
           ],
           "sequential": [
            [
             0,
             "#0d0887"
            ],
            [
             0.1111111111111111,
             "#46039f"
            ],
            [
             0.2222222222222222,
             "#7201a8"
            ],
            [
             0.3333333333333333,
             "#9c179e"
            ],
            [
             0.4444444444444444,
             "#bd3786"
            ],
            [
             0.5555555555555556,
             "#d8576b"
            ],
            [
             0.6666666666666666,
             "#ed7953"
            ],
            [
             0.7777777777777778,
             "#fb9f3a"
            ],
            [
             0.8888888888888888,
             "#fdca26"
            ],
            [
             1,
             "#f0f921"
            ]
           ],
           "sequentialminus": [
            [
             0,
             "#0d0887"
            ],
            [
             0.1111111111111111,
             "#46039f"
            ],
            [
             0.2222222222222222,
             "#7201a8"
            ],
            [
             0.3333333333333333,
             "#9c179e"
            ],
            [
             0.4444444444444444,
             "#bd3786"
            ],
            [
             0.5555555555555556,
             "#d8576b"
            ],
            [
             0.6666666666666666,
             "#ed7953"
            ],
            [
             0.7777777777777778,
             "#fb9f3a"
            ],
            [
             0.8888888888888888,
             "#fdca26"
            ],
            [
             1,
             "#f0f921"
            ]
           ]
          },
          "colorway": [
           "#636efa",
           "#EF553B",
           "#00cc96",
           "#ab63fa",
           "#FFA15A",
           "#19d3f3",
           "#FF6692",
           "#B6E880",
           "#FF97FF",
           "#FECB52"
          ],
          "font": {
           "color": "#2a3f5f"
          },
          "geo": {
           "bgcolor": "white",
           "lakecolor": "white",
           "landcolor": "#E5ECF6",
           "showlakes": true,
           "showland": true,
           "subunitcolor": "white"
          },
          "hoverlabel": {
           "align": "left"
          },
          "hovermode": "closest",
          "mapbox": {
           "style": "light"
          },
          "paper_bgcolor": "white",
          "plot_bgcolor": "#E5ECF6",
          "polar": {
           "angularaxis": {
            "gridcolor": "white",
            "linecolor": "white",
            "ticks": ""
           },
           "bgcolor": "#E5ECF6",
           "radialaxis": {
            "gridcolor": "white",
            "linecolor": "white",
            "ticks": ""
           }
          },
          "scene": {
           "xaxis": {
            "backgroundcolor": "#E5ECF6",
            "gridcolor": "white",
            "gridwidth": 2,
            "linecolor": "white",
            "showbackground": true,
            "ticks": "",
            "zerolinecolor": "white"
           },
           "yaxis": {
            "backgroundcolor": "#E5ECF6",
            "gridcolor": "white",
            "gridwidth": 2,
            "linecolor": "white",
            "showbackground": true,
            "ticks": "",
            "zerolinecolor": "white"
           },
           "zaxis": {
            "backgroundcolor": "#E5ECF6",
            "gridcolor": "white",
            "gridwidth": 2,
            "linecolor": "white",
            "showbackground": true,
            "ticks": "",
            "zerolinecolor": "white"
           }
          },
          "shapedefaults": {
           "line": {
            "color": "#2a3f5f"
           }
          },
          "ternary": {
           "aaxis": {
            "gridcolor": "white",
            "linecolor": "white",
            "ticks": ""
           },
           "baxis": {
            "gridcolor": "white",
            "linecolor": "white",
            "ticks": ""
           },
           "bgcolor": "#E5ECF6",
           "caxis": {
            "gridcolor": "white",
            "linecolor": "white",
            "ticks": ""
           }
          },
          "title": {
           "x": 0.05
          },
          "xaxis": {
           "automargin": true,
           "gridcolor": "white",
           "linecolor": "white",
           "ticks": "",
           "title": {
            "standoff": 15
           },
           "zerolinecolor": "white",
           "zerolinewidth": 2
          },
          "yaxis": {
           "automargin": true,
           "gridcolor": "white",
           "linecolor": "white",
           "ticks": "",
           "title": {
            "standoff": 15
           },
           "zerolinecolor": "white",
           "zerolinewidth": 2
          }
         }
        },
        "title": {
         "text": "3D Chroma Vector Store Visualization"
        },
        "width": 900
       }
      }
     },
     "metadata": {},
     "output_type": "display_data"
    }
   ],
   "source": [
    "tsne = TSNE(n_components=3, random_state=42)\n",
    "reduced_vectors = tsne.fit_transform(vectors)\n",
    "\n",
    "# Create the 3D scatter plot\n",
    "fig = go.Figure(data=[go.Scatter3d(\n",
    "    x=reduced_vectors[:, 0],\n",
    "    y=reduced_vectors[:, 1],\n",
    "    z=reduced_vectors[:, 2],\n",
    "    mode='markers',\n",
    "    marker=dict(size=5, color=colors, opacity=0.8),\n",
    "    text=[f\"Type: {t}<br>Text: {d[:100]}...\" for t, d in zip(doc_types, documents)],\n",
    "    hoverinfo='text'\n",
    ")])\n",
    "\n",
    "fig.update_layout(\n",
    "    title='3D Chroma Vector Store Visualization',\n",
    "    scene=dict(xaxis_title='x', yaxis_title='y', zaxis_title='z'),\n",
    "    width=900,\n",
    "    height=700,\n",
    "    margin=dict(r=20, b=10, l=10, t=40)\n",
    ")\n",
    "\n",
    "fig.show()"
   ]
  },
  {
   "cell_type": "code",
   "execution_count": null,
   "metadata": {},
   "outputs": [],
   "source": []
  }
 ],
 "metadata": {
  "kernelspec": {
   "display_name": "Python 3",
   "language": "python",
   "name": "python3"
  },
  "language_info": {
   "codemirror_mode": {
    "name": "ipython",
    "version": 3
   },
   "file_extension": ".py",
   "mimetype": "text/x-python",
   "name": "python",
   "nbconvert_exporter": "python",
   "pygments_lexer": "ipython3",
   "version": "3.10.0"
  }
 },
 "nbformat": 4,
 "nbformat_minor": 2
}
