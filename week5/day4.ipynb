{
 "cells": [
  {
   "cell_type": "code",
   "execution_count": 1,
   "metadata": {},
   "outputs": [
    {
     "name": "stderr",
     "output_type": "stream",
     "text": [
      "/Users/dummy/Downloads/Langchain Projects/1-QnA Chatbot/venv/lib/python3.10/site-packages/tqdm/auto.py:21: TqdmWarning: IProgress not found. Please update jupyter and ipywidgets. See https://ipywidgets.readthedocs.io/en/stable/user_install.html\n",
      "  from .autonotebook import tqdm as notebook_tqdm\n"
     ]
    }
   ],
   "source": [
    "import os\n",
    "import glob\n",
    "import gradio as gr\n",
    "from dotenv import load_dotenv"
   ]
  },
  {
   "cell_type": "code",
   "execution_count": 2,
   "metadata": {},
   "outputs": [],
   "source": [
    "from langchain.document_loaders import DirectoryLoader, TextLoader\n",
    "from langchain.text_splitter import CharacterTextSplitter\n",
    "from langchain.schema import Document\n",
    "from langchain_openai import OpenAIEmbeddings, ChatOpenAI\n",
    "# from langchain_chroma import Chroma\n",
    "from langchain.vectorstores import FAISS\n",
    "import numpy as np\n",
    "from sklearn.manifold import TSNE\n",
    "import plotly.graph_objects as go\n",
    "from langchain.memory import ConversationBufferMemory\n",
    "from langchain.chains import ConversationalRetrievalChain"
   ]
  },
  {
   "cell_type": "code",
   "execution_count": 3,
   "metadata": {},
   "outputs": [
    {
     "data": {
      "text/plain": [
       "True"
      ]
     },
     "execution_count": 3,
     "metadata": {},
     "output_type": "execute_result"
    }
   ],
   "source": [
    "MODEL = \"gpt-4o-mini\"\n",
    "db_name = \"vector_db\"\n",
    "\n",
    "load_dotenv()"
   ]
  },
  {
   "cell_type": "code",
   "execution_count": 4,
   "metadata": {},
   "outputs": [],
   "source": [
    "os.environ['OPENAI_API_KEY'] = os.getenv('OPENAI_API_KEY', 'your-key-if-not-using-env')"
   ]
  },
  {
   "cell_type": "code",
   "execution_count": 5,
   "metadata": {},
   "outputs": [],
   "source": [
    "# Read in documents using LangChain's loaders\n",
    "# Take everything in all the sub-folders of our knowledgebase\n",
    "\n",
    "folders = glob.glob(\"knowledgebase/*\")\n",
    "\n",
    "# With thanks to CG and Jon R, students on the course, for this fix needed for some users \n",
    "text_loader_kwargs = {'encoding': 'utf-8'}\n",
    "# If that doesn't work, some Windows users might need to uncomment the next line instead\n",
    "# text_loader_kwargs={'autodetect_encoding': True}\n",
    "\n",
    "documents = []\n",
    "for folder in folders:\n",
    "    doc_type = os.path.basename(folder)\n",
    "    loader = DirectoryLoader(folder, glob=\"**/*.md\", loader_cls=TextLoader, loader_kwargs=text_loader_kwargs)\n",
    "    folder_docs = loader.load()\n",
    "    for doc in folder_docs:\n",
    "        doc.metadata[\"doc_type\"] = doc_type\n",
    "        documents.append(doc)"
   ]
  },
  {
   "cell_type": "code",
   "execution_count": 6,
   "metadata": {},
   "outputs": [
    {
     "name": "stderr",
     "output_type": "stream",
     "text": [
      "Created a chunk of size 517, which is longer than the specified 100\n",
      "Created a chunk of size 273, which is longer than the specified 100\n",
      "Created a chunk of size 266, which is longer than the specified 100\n",
      "Created a chunk of size 277, which is longer than the specified 100\n",
      "Created a chunk of size 267, which is longer than the specified 100\n",
      "Created a chunk of size 233, which is longer than the specified 100\n",
      "Created a chunk of size 236, which is longer than the specified 100\n",
      "Created a chunk of size 367, which is longer than the specified 100\n",
      "Created a chunk of size 141, which is longer than the specified 100\n",
      "Created a chunk of size 106, which is longer than the specified 100\n",
      "Created a chunk of size 175, which is longer than the specified 100\n",
      "Created a chunk of size 207, which is longer than the specified 100\n",
      "Created a chunk of size 219, which is longer than the specified 100\n",
      "Created a chunk of size 633, which is longer than the specified 100\n",
      "Created a chunk of size 244, which is longer than the specified 100\n",
      "Created a chunk of size 214, which is longer than the specified 100\n",
      "Created a chunk of size 195, which is longer than the specified 100\n",
      "Created a chunk of size 196, which is longer than the specified 100\n",
      "Created a chunk of size 165, which is longer than the specified 100\n",
      "Created a chunk of size 195, which is longer than the specified 100\n",
      "Created a chunk of size 194, which is longer than the specified 100\n",
      "Created a chunk of size 218, which is longer than the specified 100\n",
      "Created a chunk of size 283, which is longer than the specified 100\n",
      "Created a chunk of size 309, which is longer than the specified 100\n",
      "Created a chunk of size 216, which is longer than the specified 100\n",
      "Created a chunk of size 214, which is longer than the specified 100\n",
      "Created a chunk of size 243, which is longer than the specified 100\n",
      "Created a chunk of size 232, which is longer than the specified 100\n",
      "Created a chunk of size 554, which is longer than the specified 100\n",
      "Created a chunk of size 309, which is longer than the specified 100\n",
      "Created a chunk of size 292, which is longer than the specified 100\n",
      "Created a chunk of size 260, which is longer than the specified 100\n",
      "Created a chunk of size 263, which is longer than the specified 100\n",
      "Created a chunk of size 285, which is longer than the specified 100\n",
      "Created a chunk of size 296, which is longer than the specified 100\n",
      "Created a chunk of size 208, which is longer than the specified 100\n",
      "Created a chunk of size 412, which is longer than the specified 100\n",
      "Created a chunk of size 101, which is longer than the specified 100\n",
      "Created a chunk of size 639, which is longer than the specified 100\n",
      "Created a chunk of size 539, which is longer than the specified 100\n",
      "Created a chunk of size 261, which is longer than the specified 100\n",
      "Created a chunk of size 236, which is longer than the specified 100\n",
      "Created a chunk of size 207, which is longer than the specified 100\n",
      "Created a chunk of size 176, which is longer than the specified 100\n",
      "Created a chunk of size 229, which is longer than the specified 100\n",
      "Created a chunk of size 187, which is longer than the specified 100\n",
      "Created a chunk of size 186, which is longer than the specified 100\n",
      "Created a chunk of size 195, which is longer than the specified 100\n",
      "Created a chunk of size 119, which is longer than the specified 100\n",
      "Created a chunk of size 142, which is longer than the specified 100\n",
      "Created a chunk of size 174, which is longer than the specified 100\n",
      "Created a chunk of size 116, which is longer than the specified 100\n",
      "Created a chunk of size 116, which is longer than the specified 100\n",
      "Created a chunk of size 161, which is longer than the specified 100\n",
      "Created a chunk of size 188, which is longer than the specified 100\n",
      "Created a chunk of size 173, which is longer than the specified 100\n",
      "Created a chunk of size 186, which is longer than the specified 100\n",
      "Created a chunk of size 190, which is longer than the specified 100\n",
      "Created a chunk of size 137, which is longer than the specified 100\n",
      "Created a chunk of size 508, which is longer than the specified 100\n",
      "Created a chunk of size 193, which is longer than the specified 100\n",
      "Created a chunk of size 164, which is longer than the specified 100\n",
      "Created a chunk of size 194, which is longer than the specified 100\n",
      "Created a chunk of size 236, which is longer than the specified 100\n",
      "Created a chunk of size 363, which is longer than the specified 100\n",
      "Created a chunk of size 519, which is longer than the specified 100\n",
      "Created a chunk of size 123, which is longer than the specified 100\n",
      "Created a chunk of size 750, which is longer than the specified 100\n",
      "Created a chunk of size 701, which is longer than the specified 100\n",
      "Created a chunk of size 380, which is longer than the specified 100\n",
      "Created a chunk of size 132, which is longer than the specified 100\n",
      "Created a chunk of size 351, which is longer than the specified 100\n",
      "Created a chunk of size 258, which is longer than the specified 100\n",
      "Created a chunk of size 267, which is longer than the specified 100\n",
      "Created a chunk of size 319, which is longer than the specified 100\n",
      "Created a chunk of size 163, which is longer than the specified 100\n",
      "Created a chunk of size 185, which is longer than the specified 100\n",
      "Created a chunk of size 113, which is longer than the specified 100\n",
      "Created a chunk of size 113, which is longer than the specified 100\n",
      "Created a chunk of size 152, which is longer than the specified 100\n",
      "Created a chunk of size 189, which is longer than the specified 100\n",
      "Created a chunk of size 263, which is longer than the specified 100\n",
      "Created a chunk of size 138, which is longer than the specified 100\n",
      "Created a chunk of size 320, which is longer than the specified 100\n",
      "Created a chunk of size 675, which is longer than the specified 100\n",
      "Created a chunk of size 321, which is longer than the specified 100\n",
      "Created a chunk of size 154, which is longer than the specified 100\n",
      "Created a chunk of size 373, which is longer than the specified 100\n",
      "Created a chunk of size 263, which is longer than the specified 100\n",
      "Created a chunk of size 275, which is longer than the specified 100\n",
      "Created a chunk of size 193, which is longer than the specified 100\n",
      "Created a chunk of size 141, which is longer than the specified 100\n",
      "Created a chunk of size 182, which is longer than the specified 100\n",
      "Created a chunk of size 162, which is longer than the specified 100\n",
      "Created a chunk of size 177, which is longer than the specified 100\n",
      "Created a chunk of size 220, which is longer than the specified 100\n",
      "Created a chunk of size 181, which is longer than the specified 100\n",
      "Created a chunk of size 169, which is longer than the specified 100\n",
      "Created a chunk of size 233, which is longer than the specified 100\n",
      "Created a chunk of size 603, which is longer than the specified 100\n",
      "Created a chunk of size 781, which is longer than the specified 100\n",
      "Created a chunk of size 115, which is longer than the specified 100\n",
      "Created a chunk of size 1088, which is longer than the specified 100\n",
      "Created a chunk of size 227, which is longer than the specified 100\n",
      "Created a chunk of size 212, which is longer than the specified 100\n",
      "Created a chunk of size 200, which is longer than the specified 100\n",
      "Created a chunk of size 222, which is longer than the specified 100\n",
      "Created a chunk of size 243, which is longer than the specified 100\n",
      "Created a chunk of size 236, which is longer than the specified 100\n",
      "Created a chunk of size 224, which is longer than the specified 100\n",
      "Created a chunk of size 326, which is longer than the specified 100\n",
      "Created a chunk of size 138, which is longer than the specified 100\n",
      "Created a chunk of size 707, which is longer than the specified 100\n",
      "Created a chunk of size 318, which is longer than the specified 100\n",
      "Created a chunk of size 191, which is longer than the specified 100\n",
      "Created a chunk of size 337, which is longer than the specified 100\n",
      "Created a chunk of size 625, which is longer than the specified 100\n",
      "Created a chunk of size 141, which is longer than the specified 100\n",
      "Created a chunk of size 627, which is longer than the specified 100\n",
      "Created a chunk of size 243, which is longer than the specified 100\n",
      "Created a chunk of size 208, which is longer than the specified 100\n",
      "Created a chunk of size 243, which is longer than the specified 100\n",
      "Created a chunk of size 127, which is longer than the specified 100\n",
      "Created a chunk of size 128, which is longer than the specified 100\n",
      "Created a chunk of size 189, which is longer than the specified 100\n",
      "Created a chunk of size 110, which is longer than the specified 100\n",
      "Created a chunk of size 239, which is longer than the specified 100\n",
      "Created a chunk of size 120, which is longer than the specified 100\n",
      "Created a chunk of size 698, which is longer than the specified 100\n",
      "Created a chunk of size 776, which is longer than the specified 100\n",
      "Created a chunk of size 427, which is longer than the specified 100\n",
      "Created a chunk of size 594, which is longer than the specified 100\n",
      "Created a chunk of size 118, which is longer than the specified 100\n",
      "Created a chunk of size 692, which is longer than the specified 100\n",
      "Created a chunk of size 252, which is longer than the specified 100\n",
      "Created a chunk of size 484, which is longer than the specified 100\n",
      "Created a chunk of size 323, which is longer than the specified 100\n",
      "Created a chunk of size 621, which is longer than the specified 100\n"
     ]
    }
   ],
   "source": [
    "text_splitter = CharacterTextSplitter(chunk_size=100,chunk_overlap=50)\n",
    "chunks = text_splitter.split_documents(documents)"
   ]
  },
  {
   "cell_type": "code",
   "execution_count": 7,
   "metadata": {},
   "outputs": [
    {
     "data": {
      "text/plain": [
       "183"
      ]
     },
     "execution_count": 7,
     "metadata": {},
     "output_type": "execute_result"
    }
   ],
   "source": [
    "len(chunks)"
   ]
  },
  {
   "cell_type": "code",
   "execution_count": 8,
   "metadata": {},
   "outputs": [
    {
     "name": "stdout",
     "output_type": "stream",
     "text": [
      "Document types found: employees, products\n"
     ]
    }
   ],
   "source": [
    "doc_types = set(chunk.metadata['doc_type'] for chunk in chunks)\n",
    "print(f\"Document types found: {', '.join(doc_types)}\")"
   ]
  },
  {
   "cell_type": "code",
   "execution_count": 10,
   "metadata": {},
   "outputs": [
    {
     "name": "stdout",
     "output_type": "stream",
     "text": [
      "There are 183 vectors with 1,536 dimensions in the vector store\n"
     ]
    }
   ],
   "source": [
    "embeddings = OpenAIEmbeddings()\n",
    "vectorstore = FAISS.from_documents(chunks, embedding=embeddings)\n",
    "\n",
    "total_vectors = vectorstore.index.ntotal\n",
    "dimensions = vectorstore.index.d\n",
    "\n",
    "print(f\"There are {total_vectors} vectors with {dimensions:,} dimensions in the vector store\")"
   ]
  },
  {
   "cell_type": "code",
   "execution_count": 11,
   "metadata": {},
   "outputs": [],
   "source": [
    "# Prework\n",
    "vectors = []\n",
    "documents = []\n",
    "doc_types = []\n",
    "colors = []\n",
    "color_map = {'products':'blue', 'employees':'green', 'contracts':'red', 'company':'orange'}\n",
    "\n",
    "for i in range(total_vectors):\n",
    "    vectors.append(vectorstore.index.reconstruct(i))\n",
    "    doc_id = vectorstore.index_to_docstore_id[i]\n",
    "    document = vectorstore.docstore.search(doc_id)\n",
    "    documents.append(document.page_content)\n",
    "    doc_type = document.metadata['doc_type']\n",
    "    doc_types.append(doc_type)\n",
    "    colors.append(color_map[doc_type])\n",
    "    \n",
    "vectors = np.array(vectors)"
   ]
  },
  {
   "cell_type": "code",
   "execution_count": 12,
   "metadata": {},
   "outputs": [
    {
     "data": {
      "application/vnd.plotly.v1+json": {
       "config": {
        "plotlyServerURL": "https://plot.ly"
       },
       "data": [
        {
         "hoverinfo": "text",
         "marker": {
          "color": [
           "blue",
           "blue",
           "blue",
           "blue",
           "blue",
           "blue",
           "blue",
           "blue",
           "blue",
           "blue",
           "blue",
           "blue",
           "blue",
           "blue",
           "blue",
           "blue",
           "blue",
           "blue",
           "blue",
           "blue",
           "blue",
           "blue",
           "blue",
           "blue",
           "blue",
           "blue",
           "blue",
           "blue",
           "blue",
           "blue",
           "blue",
           "blue",
           "blue",
           "blue",
           "blue",
           "blue",
           "blue",
           "blue",
           "blue",
           "blue",
           "blue",
           "blue",
           "blue",
           "blue",
           "blue",
           "blue",
           "blue",
           "blue",
           "blue",
           "blue",
           "blue",
           "blue",
           "blue",
           "blue",
           "blue",
           "blue",
           "blue",
           "blue",
           "blue",
           "blue",
           "blue",
           "blue",
           "blue",
           "blue",
           "blue",
           "blue",
           "blue",
           "blue",
           "blue",
           "blue",
           "blue",
           "blue",
           "blue",
           "blue",
           "blue",
           "blue",
           "green",
           "green",
           "green",
           "green",
           "green",
           "green",
           "green",
           "green",
           "green",
           "green",
           "green",
           "green",
           "green",
           "green",
           "green",
           "green",
           "green",
           "green",
           "green",
           "green",
           "green",
           "green",
           "green",
           "green",
           "green",
           "green",
           "green",
           "green",
           "green",
           "green",
           "green",
           "green",
           "green",
           "green",
           "green",
           "green",
           "green",
           "green",
           "green",
           "green",
           "green",
           "green",
           "green",
           "green",
           "green",
           "green",
           "green",
           "green",
           "green",
           "green",
           "green",
           "green",
           "green",
           "green",
           "green",
           "green",
           "green",
           "green",
           "green",
           "green",
           "green",
           "green",
           "green",
           "green",
           "green",
           "green",
           "green",
           "green",
           "green",
           "green",
           "green",
           "green",
           "green",
           "green",
           "green",
           "green",
           "green",
           "green",
           "green",
           "green",
           "green",
           "green",
           "green",
           "green",
           "green",
           "green",
           "green",
           "green",
           "green",
           "green",
           "green",
           "green",
           "green",
           "green",
           "green",
           "green",
           "green",
           "green",
           "green",
           "green",
           "green",
           "green",
           "green",
           "green",
           "green",
           "green",
           "green"
          ],
          "opacity": 0.8,
          "size": 5
         },
         "mode": "markers",
         "text": [
          "Type: products<br>Text: # Product Summary\n\n# Rellm: AI-Powered Enterprise Reinsurance Solution\n\n## Summary...",
          "Type: products<br>Text: Rellm is an innovative enterprise reinsurance product developed by Insurellm, designed to transform ...",
          "Type: products<br>Text: ## Features...",
          "Type: products<br>Text: ### AI-Driven Analytics\nRellm utilizes cutting-edge AI algorithms to provide predictive insights int...",
          "Type: products<br>Text: ### Seamless Integrations\nRellm's architecture is designed for effortless integration with existing ...",
          "Type: products<br>Text: ### Risk Assessment Module\nThe comprehensive risk assessment module within Rellm allows insurers to ...",
          "Type: products<br>Text: ### Customizable Dashboard\nRellm features a customizable dashboard that presents key metrics and per...",
          "Type: products<br>Text: ### Regulatory Compliance Tools\nRellm includes built-in compliance tracking features to help organiz...",
          "Type: products<br>Text: ### Client and Broker Portals\nRellm offers dedicated portals for both clients and brokers, facilitat...",
          "Type: products<br>Text: ## Pricing\n\nInsurellm offers flexible pricing plans for Rellm to cater to various business needs:...",
          "Type: products<br>Text: - **Basic Plan**: $5,000/month\n  - Includes access to core features and standard integrations.\n  \n- ...",
          "Type: products<br>Text: Join the growing number of organizations leveraging Rellm to enhance their reinsurance processes whi...",
          "Type: products<br>Text: ## 2025-2026 Roadmap...",
          "Type: products<br>Text: At Insurellm, we are committed to the continuous improvement of Rellm. Our roadmap for 2025-2026 inc...",
          "Type: products<br>Text: - **Q3 2025**: \n  - Launch of the Rellm Mobile App for on-the-go insights and management.\n  - Introd...",
          "Type: products<br>Text: - **Q1 2026**: \n  - Deployment of advanced machine learning models for even more accurate risk predi...",
          "Type: products<br>Text: - **Q3 2026**: \n  - Release of a community platform for Rellm users to exchange insights, tips, and ...",
          "Type: products<br>Text: Experience the future of reinsurance with Rellm, where innovation meets reliability. Let Insurellm h...",
          "Type: products<br>Text: # Product Summary\n\n# Markellm\n\n## Summary...",
          "Type: products<br>Text: Markellm is an innovative two-sided marketplace designed to seamlessly connect consumers with insura...",
          "Type: products<br>Text: ## Features...",
          "Type: products<br>Text: - **AI-Powered Matching**: Markellm utilizes sophisticated AI algorithms to match consumers with the...",
          "Type: products<br>Text: - **User-Friendly Interface**: Designed with user experience in mind, Markellm features an intuitive...",
          "Type: products<br>Text: - **Real-Time Quotes**: Consumers can receive real-time quotes from different insurance companies, e...",
          "Type: products<br>Text: - **Customized Recommendations**: Based on user profiles and preferences, Markellm provides personal...",
          "Type: products<br>Text: - **Secure Transactions**: Markellm prioritizes security, employing robust encryption methods to ens...",
          "Type: products<br>Text: - **Customer Support**: Our dedicated support team is always available to assist both consumers and ...",
          "Type: products<br>Text: - **Data Insights**: Insurers gain access to valuable data insights through Markellm's analytics das...",
          "Type: products<br>Text: ## Pricing...",
          "Type: products<br>Text: At Markellm, we believe in transparency and flexibility. Our pricing structure is designed to accomm...",
          "Type: products<br>Text: ### For Consumers:\n- **Free Membership**: Access to the marketplace at no cost, allowing unlimited b...",
          "Type: products<br>Text: ### For Insurance Companies:\n- **Basic Listing Fee**: $199/month for a featured listing on the platf...",
          "Type: products<br>Text: ## 2025-2026 Roadmap...",
          "Type: products<br>Text: ### Q1 2025\n- Launch a mobile app version of Markellm, making it even easier for consumers and insur...",
          "Type: products<br>Text: ### Q2 2025\n- Expand the marketplace to include additional insurance products, such as life and heal...",
          "Type: products<br>Text: ### Q3 2025\n- Initiate a comprehensive marketing campaign targeting both consumers and insurers to i...",
          "Type: products<br>Text: ### Q4 2026\n- Implement machine learning enhancements to our AI algorithm, further increasing the pr...",
          "Type: products<br>Text: Markellm is committed to improving the insurance experience for both consumers and providers. By lev...",
          "Type: products<br>Text: # Product Summary\n\n# Homellm...",
          "Type: products<br>Text: ## Summary\nHomellm is an innovative home insurance product developed by Insurellm that leverages adv...",
          "Type: products<br>Text: ## Features\n### 1. AI-Powered Risk Assessment\nHomellm utilizes sophisticated AI algorithms to analyz...",
          "Type: products<br>Text: ### 2. Dynamic Pricing Model\nWith Homellm's innovative dynamic pricing model, insurance providers ca...",
          "Type: products<br>Text: ### 3. Instant Claim Processing\nThe AI-driven claims management system in Homellm automates the enti...",
          "Type: products<br>Text: ### 4. Predictive Maintenance Alerts\nHomellm incorporates predictive analytics to advise homeowners ...",
          "Type: products<br>Text: ### 5. Multi-Channel Integration\nHomellm seamlessly integrates into existing insurance platforms, pr...",
          "Type: products<br>Text: ### 6. Customer Portal\nA user-friendly online portal and mobile application enables customers to man...",
          "Type: products<br>Text: ## Pricing\nAt Insurellm, we believe in providing value without compromising quality. The pricing for...",
          "Type: products<br>Text: - **Basic Tier:** Starting at $5,000/month for small insurers with basic integration features.\n- **S...",
          "Type: products<br>Text: All tiers include a comprehensive training program and ongoing updates to ensure optimal performance...",
          "Type: products<br>Text: ## Roadmap\nThe development roadmap for Homellm includes the following key milestones:...",
          "Type: products<br>Text: - **Q1 2024:** Launch of Homellm version 1.0, featuring core functionalities and integrations.\n- **Q...",
          "Type: products<br>Text: With Homellm, Insurellm is committed to transforming the landscape of home insurance, ensuring both ...",
          "Type: products<br>Text: # Product Summary\n\n# Carllm\n\n## Summary...",
          "Type: products<br>Text: Carllm is an innovative auto insurance product developed by Insurellm, designed to streamline the wa...",
          "Type: products<br>Text: ## Features...",
          "Type: products<br>Text: - **AI-Powered Risk Assessment**: Carllm leverages artificial intelligence to analyze driver behavio...",
          "Type: products<br>Text: - **Instant Quoting**: With Carllm, insurance companies can offer near-instant quotes to customers, ...",
          "Type: products<br>Text: - **Customizable Coverage Plans**: Carllm allows insurers to create flexible and tailored insurance ...",
          "Type: products<br>Text: - **Fraud Detection**: The product incorporates advanced analytics to identify potentially fraudulen...",
          "Type: products<br>Text: - **Customer Insights Dashboard**: Carllm provides insurers with a powerful dashboard that offers de...",
          "Type: products<br>Text: - **Mobile Integration**: Carllm is designed to work seamlessly with mobile applications, providing ...",
          "Type: products<br>Text: - **Automated Customer Support**: Leveraging AI chatbots, Carllm offers 24/7 customer support, helpi...",
          "Type: products<br>Text: ## Pricing...",
          "Type: products<br>Text: Carllm is offered under a subscription-based pricing model tailored to meet the needs of insurance c...",
          "Type: products<br>Text: - **Basic Tier**: $1,000/month\n  - Ideal for small insurance firms.\n  - Access to core features and ...",
          "Type: products<br>Text: - **Professional Tier**: $2,500/month\n  - For medium-sized companies.\n  - All Basic Tier features pl...",
          "Type: products<br>Text: - **Enterprise Tier**: $5,000/month\n  - Customized solutions for large insurance firms.\n  - Comprehe...",
          "Type: products<br>Text: Contact our sales team for a personalized quote and discover how Carllm can transform your auto insu...",
          "Type: products<br>Text: ## 2025-2026 Roadmap...",
          "Type: products<br>Text: In our commitment to continuous improvement and innovation, Insurellm has outlined the following roa...",
          "Type: products<br>Text: ### Q1 2025: Launch Feature Enhancements\n- **Expanded data integrations** for better risk assessment...",
          "Type: products<br>Text: ### Q2 2025: Customer Experience Improvements\n- Launch of a new **mobile app** for end-users.\n- Intr...",
          "Type: products<br>Text: ### Q3 2025: Global Expansion\n- Begin pilot programs for international insurance markets.\n- Collabor...",
          "Type: products<br>Text: ### Q4 2025: AI and Machine Learning Upgrades\n- Implement next-gen machine learning models for predi...",
          "Type: products<br>Text: ### 2026: Scaling and Partnerships\n- Increase partnerships with automakers for integrated insurance ...",
          "Type: products<br>Text: Carllm is not just an auto insurance product; it is a transformative tool for the insurance industry...",
          "Type: employees<br>Text: # HR Record\n\n# Alex Chen...",
          "Type: employees<br>Text: ## Summary\n- **Date of Birth:** March 15, 1990  \n- **Job Title:** Backend Software Engineer  \n- **Lo...",
          "Type: employees<br>Text: ## Insurellm Career Progression\n- **April 2020:** Joined Insurellm as a Junior Backend Developer. Fo...",
          "Type: employees<br>Text: ## Annual Performance History\n- **2020:**  \n  - Completed onboarding successfully.  \n  - Met expecta...",
          "Type: employees<br>Text: - **2021:**  \n  - Achieved a 95% success rate in project delivery timelines.  \n  - Awarded \"Rising S...",
          "Type: employees<br>Text: - **2022:**  \n  - Exceeded goals by optimizing existing backend code, improving system performance b...",
          "Type: employees<br>Text: - **2023:**  \n  - Led a major overhaul of the API internal architecture, enhancing security protocol...",
          "Type: employees<br>Text: ## Compensation History\n- **2020:** Base Salary: $80,000  \n- **2021:** Base Salary Increase to $90,0...",
          "Type: employees<br>Text: ## Other HR Notes\n- Participates regularly in Insurellm's Diversity & Inclusion initiatives, champio...",
          "Type: employees<br>Text: Alex Chen continues to be a vital asset at Insurellm, contributing significantly to innovative backe...",
          "Type: employees<br>Text: # HR Record\n\n# Oliver Spencer...",
          "Type: employees<br>Text: ## Summary\n- **Date of Birth**: May 14, 1990  \n- **Job Title**: Backend Software Engineer  \n- **Loca...",
          "Type: employees<br>Text: ## Insurellm Career Progression\n- **March 2018**: Joined Insurellm as a Backend Developer I, focusin...",
          "Type: employees<br>Text: ## Annual Performance History\n- **2018**: **3/5** - Adaptable team player but still learning to take...",
          "Type: employees<br>Text: ## Compensation History\n- **March 2018**: Initial salary of $80,000.\n- **July 2019**: Salary increas...",
          "Type: employees<br>Text: ## Other HR Notes\n- Oliver enjoys a strong rapport with team members and is known for organizing reg...",
          "Type: employees<br>Text: # HR Record\n\n# Emily Tran...",
          "Type: employees<br>Text: ## Summary\n- **Date of Birth:** March 18, 1991  \n- **Job Title:** Digital Marketing Specialist  \n- *...",
          "Type: employees<br>Text: ---...",
          "Type: employees<br>Text: ## Insurellm Career Progression\n- **February 2020 - Present**: Digital Marketing Specialist  \n   - E...",
          "Type: employees<br>Text: - **June 2018 - January 2020**: Marketing Coordinator  \n  - Assisted in the development and executio...",
          "Type: employees<br>Text: - **January 2017 - May 2018**: Marketing Intern  \n  - Supported the Marketing team by collaborating ...",
          "Type: employees<br>Text: ---...",
          "Type: employees<br>Text: ## Annual Performance History\n- **2023**:  \n  - Performance Rating: Exceeds Expectations  \n  - Key A...",
          "Type: employees<br>Text: - **2022**:  \n  - Performance Rating: Meets Expectations  \n  - Key Achievements: Enhanced Insurellm'...",
          "Type: employees<br>Text: - **2021**:  \n  - Performance Rating: Meets Expectations  \n  - Key Achievements: Contributed to the ...",
          "Type: employees<br>Text: ---...",
          "Type: employees<br>Text: ## Compensation History\n- **2023**:  \n  - Base Salary: $75,000  \n  - Bonus: $10,000 for exceeding an...",
          "Type: employees<br>Text: - **2022**:  \n  - Base Salary: $70,000  \n  - Bonus: $5,000 for achieving marketing milestones....",
          "Type: employees<br>Text: - **2021**:  \n  - Base Salary: $67,500  \n  - No bonus due to reallocation of marketing funds during ...",
          "Type: employees<br>Text: ---...",
          "Type: employees<br>Text: ## Other HR Notes\n- **Training Completed**:  \n  - Advanced Digital Marketing Workshop (2021)  \n  - A...",
          "Type: employees<br>Text: - **Professional Development Goals**:  \n  - Emily Tran aims to become a Marketing Manager within the...",
          "Type: employees<br>Text: - **Hobbies**:  \n  - Emily enjoys photography and regularly contributes to Insurellm's social media ...",
          "Type: employees<br>Text: ---...",
          "Type: employees<br>Text: Emily Tran continues to be a valuable asset to Insurellm, driving innovative marketing strategies th...",
          "Type: employees<br>Text: # HR Record\n\n# Jordan Blake...",
          "Type: employees<br>Text: ## Summary\n- **Date of Birth:** March 15, 1993  \n- **Job Title:** Sales Development Representative (...",
          "Type: employees<br>Text: ## Insurellm Career Progression\n- **2021-06:** Joined Insurellm as an Entry-Level SDR  \n- **2022-02:...",
          "Type: employees<br>Text: ## Annual Performance History\n- **2021:** First year at Insurellm; achieved 90% of monthly targets. ...",
          "Type: employees<br>Text: ## Compensation History\n- **2021-06:** Starting Salary: $50,000  \n- **2022-04:** Merit-based increas...",
          "Type: employees<br>Text: ## Other HR Notes\n- Jordan has shown an interest in continuing education, actively participating in ...",
          "Type: employees<br>Text: # Avery Lancaster...",
          "Type: employees<br>Text: ## Summary\n- **Date of Birth**: March 15, 1985  \n- **Job Title**: Co-Founder & Chief Executive Offic...",
          "Type: employees<br>Text: ## Insurellm Career Progression\n- **2015 - Present**: Co-Founder & CEO  \n  Avery Lancaster co-founde...",
          "Type: employees<br>Text: - **2013 - 2015**: Senior Product Manager at Innovate Insurance Solutions  \n  Before launching Insur...",
          "Type: employees<br>Text: - **2010 - 2013**: Business Analyst at Edge Analytics  \n  Prior to joining Innovate, Avery worked as...",
          "Type: employees<br>Text: ## Annual Performance History\n- **2015**: **Exceeds Expectations**  \n  Avery’s leadership during Ins...",
          "Type: employees<br>Text: - **2016**: **Meets Expectations**  \n  Growth continued, though challenges arose in operational effi...",
          "Type: employees<br>Text: - **2017**: **Developing**  \n  Market competition intensified, and monthly sales metrics were below ...",
          "Type: employees<br>Text: - **2018**: **Exceeds Expectations**  \n  Under Avery’s pivoted vision, Insurellm launched two new su...",
          "Type: employees<br>Text: - **2019**: **Meets Expectations**  \n  Steady growth, however, some team tensions led to a minor dro...",
          "Type: employees<br>Text: - **2020**: **Below Expectations**  \n  The COVID-19 pandemic posed unforeseen operational difficulti...",
          "Type: employees<br>Text: - **2021**: **Exceptional**  \n  Avery's decisive transition to remote work and rapid adoption of dig...",
          "Type: employees<br>Text: - **2022**: **Satisfactory**  \n  Avery focused on rebuilding team dynamics and addressing employee c...",
          "Type: employees<br>Text: - **2023**: **Exceeds Expectations**  \n  Market leadership was regained with innovative approaches t...",
          "Type: employees<br>Text: ## Compensation History\n- **2015**: $150,000 base salary + Significant equity stake  \n- **2016**: $1...",
          "Type: employees<br>Text: ## Other HR Notes\n- **Professional Development**: Avery has actively participated in leadership trai...",
          "Type: employees<br>Text: Avery Lancaster has demonstrated resilience and adaptability throughout her career at Insurellm, pos...",
          "Type: employees<br>Text: # HR Record\n\n# Maxine Thompson...",
          "Type: employees<br>Text: ## Summary\n- **Date of Birth:** January 15, 1991  \n- **Job Title:** Data Engineer  \n- **Location:** ...",
          "Type: employees<br>Text: ## Insurellm Career Progression\n- **January 2017 - October 2018**: **Junior Data Engineer**  \n  * Ma...",
          "Type: employees<br>Text: ## Annual Performance History\n- **2017**: *Meets Expectations*  \n  Maxine showed potential in her ro...",
          "Type: employees<br>Text: - **2018**: *Exceeds Expectations*  \n  Maxine improved significantly, becoming a reliable team membe...",
          "Type: employees<br>Text: - **2019**: *Needs Improvement*  \n  During this year, difficult personal circumstances affected Maxi...",
          "Type: employees<br>Text: - **2020**: *Meets Expectations*  \n  Maxine focused on regaining her footing and excelling with tech...",
          "Type: employees<br>Text: - **2021**: *Exceeds Expectations*  \n  Maxine spearheaded the transition to a new data warehousing s...",
          "Type: employees<br>Text: - **2022**: *Outstanding*  \n  Maxine continued her upward trajectory, successfully implementing mach...",
          "Type: employees<br>Text: - **2023**: *Exceeds Expectations*  \n  Maxine has taken on mentoring responsibilities and is leading...",
          "Type: employees<br>Text: ## Compensation History\n- **2017**: $70,000 (Junior Data Engineer)  \n- **2018**: $75,000 (Junior Dat...",
          "Type: employees<br>Text: ## Other HR Notes\n- Maxine participated in various company-sponsored trainings related to big data t...",
          "Type: employees<br>Text: # HR Record\n\n# Alex Thomson...",
          "Type: employees<br>Text: ## Summary\n- **Date of Birth:** March 15, 1995  \n- **Job Title:** Sales Development Representative (...",
          "Type: employees<br>Text: ## Insurellm Career Progression\n- **November 2022** - Joined Insurellm as a Sales Development Repres...",
          "Type: employees<br>Text: ## Annual Performance History  \n- **2022** - Rated as \"Exceeds Expectations.\" Alex Thomson achieved ...",
          "Type: employees<br>Text: ### Highlights:\n- Consistently maintained a 30-minute response time to inbound leads.\n- Successfully...",
          "Type: employees<br>Text: ## Compensation History\n- **2022**: Base Salary - $55,000 | Bonus - $5,000  \n- **2023**: Base Salary...",
          "Type: employees<br>Text: ## Other HR Notes\n- Alex Thomson is an active member of the Diversity and Inclusion committee at Ins...",
          "Type: employees<br>Text: --- \n**Comment:** Alex Thomson is considered a cornerstone of Insurellm’s sales team and has a brigh...",
          "Type: employees<br>Text: # HR Record\n\n# Alex Harper...",
          "Type: employees<br>Text: ## Summary\n- **Date of Birth**: March 15, 1993  \n- **Job Title**: Sales Development Representative (...",
          "Type: employees<br>Text: ## Insurellm Career Progression\n- **July 2021**: Joined Insurellm as a Sales Development Representat...",
          "Type: employees<br>Text: ## Annual Performance History  \n- **2021**:  \n  - **Performance Rating**: 4.5/5  \n  - **Key Achievem...",
          "Type: employees<br>Text: - **2022**:  \n  - **Performance Rating**: 4.8/5  \n  - **Key Achievements**: Awarded \"SDR of the Year...",
          "Type: employees<br>Text: - **2023**:  \n  - **Performance Rating**: 4.7/5  \n  - **Key Achievements**: Played a key role in the...",
          "Type: employees<br>Text: ## Compensation History  \n- **2021**:  \n  - **Base Salary**: $55,000  \n  - **Bonus**: $5,500 (10% of...",
          "Type: employees<br>Text: - **2022**:  \n  - **Base Salary**: $65,000 (Promotion to Senior SDR)  \n  - **Bonus**: $13,000 (20% o...",
          "Type: employees<br>Text: - **2023**:  \n  - **Base Salary**: $75,000  \n  - **Bonus**: $15,000 (20% of base)...",
          "Type: employees<br>Text: ## Other HR Notes  \n- **Training Completed**:  \n  - CRM Analytics & Data Management Workshop (2021) ...",
          "Type: employees<br>Text: - **Awards**:  \n  - Insurellm \"SDR of the Year\" Award (2022)  \n  - Monthly MVP Recognition (3 times ...",
          "Type: employees<br>Text: - **Interests**:  \n  - In Alex's spare time, they enjoy participating in community volunteer program...",
          "Type: employees<br>Text: - **Feedback from HR**:  \n  - Alex Harper is noted for their work ethic, positive attitude, and will...",
          "Type: employees<br>Text: # HR Record\n\n# Jordan K. Bishop...",
          "Type: employees<br>Text: ## Summary\n- **Date of Birth:** March 15, 1990\n- **Job Title:** Frontend Software Engineer\n- **Locat...",
          "Type: employees<br>Text: ## Insurellm Career Progression\n- **June 2018:** Hired as a Frontend Software Engineer.\n- **August 2...",
          "Type: employees<br>Text: ## Annual Performance History\n- **2019:** Exceeds Expectations - Continuously delivered high-quality...",
          "Type: employees<br>Text: ## Compensation History\n- **June 2018:** Starting Salary - $85,000\n- **June 2019:** Salary Increase ...",
          "Type: employees<br>Text: ## Other HR Notes\n- Jordan K. Bishop has been an integral part of club initiatives, including the In...",
          "Type: employees<br>Text: Jordan K. Bishop is a valued member of the Insurellm family, exhibiting a commitment to growth and d...",
          "Type: employees<br>Text: # HR Record\n\n# Emily Carter...",
          "Type: employees<br>Text: ## Summary\n- **Date of Birth:** August 12, 1990  \n- **Job Title:** Account Executive  \n- **Location:...",
          "Type: employees<br>Text: ## Insurellm Career Progression\n- **2021-Present:** Account Executive  \n  - Responsibilities include...",
          "Type: employees<br>Text: - **2017-2019:** Marketing Intern  \n  - Assisted with market research and campaign development for s...",
          "Type: employees<br>Text: ## Annual Performance History\n| Year | Performance Rating | Key Highlights |\n|------|---------------...",
          "Type: employees<br>Text: ## Compensation History\n| Year | Base Salary | Bonus         | Total Compensation |\n|------|--------...",
          "Type: employees<br>Text: ## Other HR Notes\n- **Professional Development:** Emily is currently enrolled in a leadership traini...",
          "Type: employees<br>Text: Emily Carter exemplifies the kind of talent that drives Insurellm's success and is an invaluable ass..."
         ],
         "type": "scatter",
         "x": {
          "bdata": "VXkEwagoE8FqjLTAfoUIwd2S/sAD8xfBDoPfwLnSCMHKz+LAuUMwwdGlfcCY5g/B+U3ZwOhlJ8GcNhTBawMiwW/+DsHhGx3BcJcNwTXiWsFlh7TA1Dpnwd+MZcG65oXB2PhpwUtGf8G3dYzBOVtrwbLJX8DNF1bBf5akwN+jm8BYRtnAKA05waHjG8FP4DTBqIgVwTRYUsG18xrBTUVDwZdRU8ED4lLBIyVuweTqVsHibWHBzHJswdV/O8GoEkXAbHM6wHQLPMHAaEbBj7w8wYQjEMGpI13BdJW0wOy1b8H2aIDBjqxkwbHNicFr/m7BPvpswWBegcGyyV/AN8BUwbs2OsBrhFPAA4w2wD88TcGpPdnAGSQuwW0QKsHj1zLBuL4YwZprGsE6ThDBSTpYwd1mGkFHJS1B/Y1VQFrEfEC24S9AWuI2QFNr3j+2sFpBYUlzQMMnsL9Ych5BkJo7QRtjVUD8UYpAJgpgQaCPhkD1xytB9JgcQfsuLUDfxc0/DjyDP+i9Yz8nG01A9J9KQLVb0z+ysAdA7Y1gQLRYUkHajmRBaqxoQTJBLUCnwBJBwcrBP3MQ5T9tsExAMUnavgutFEHxQShBGeh6QGirAEDB629BhMV8QLMTUcDwIiBBs07Ev70Lv79Qovy/WeK0vmd117+f7BHAYsAXv+Uxrr9GaBjAzVGlvtrRcL+u7Ze/NMRUQfZHVr6Y4w/Al5MoQVhEQEHyFrNAiaixQNwgtUDKxtVAIxrIQO85pkD8VsRAni2lQCSrdUEmfcVAhHkSQUzmKEFsj5VAjZdhQLM3sz/4UERB6Hi/QA/HvEDppBFBijAfQXhpekBLVy9AUy2bPyWH0j+tUlpBHa51QYhXWEHzqxJBSNNSQDVWwECtLe9ABo8NQRtWNkG7Nj1A7ZuaQKwvakGAiHhAZR5jQJSQLEEnMDpBhCA0QAPdGT+/ilhAwk5KQa6DBUD45r2+",
          "dtype": "f4"
         },
         "y": {
          "bdata": "JR3qwF2mvsDKBGLBqQLQwGS1rcAFhNzAc+awwEYMm8C+uo/Ag6fowEo7E8Fd+6DAq9DJQJpxc8CCeae/LAgfQAnD1b9ZO7PA9GEywY431L+BDGLBS46cv2IZFMCt6ajAGCwBwJuBmb+DpajA1BU2wDarTMGslELASO4cwTm1JMGrtMlA5Zf/vlhb2z/mNvG+omtcQLTj4r8XtjfBnoMTwcQeHcF2QgrB3nocwR8PLMFEaxTBc3wOwcmrAcGuiBfBu7/kwLKWPcGIsS/BB3wOwXeYMcGmmMPAb+1hwYAl28DULLrAi2eiwGvtYMA5t6fAMGG8wG+u18A2q0zBBfmcwCJ4D8FY8wfBke8WwWSpsMAotMlAdct3wJ/JIkAW12A/ZC0pP5gMVkCtxARAwVy9wASELMBrRFpBAzqCPz8RH0F1SiRBxhI2Qd1RLEGqNddA3HA0v4QHir/oqXLAOLJWQWHZXT9Gkg5B2VP5QPlJiL/+wTbA81RPQWyrKcHsRhI/rtgVQJzZHUALiDTBb+vfQID3ykDAShFBNKotwex2s0A+Xo1AHkSFQCEYMsHVOSpAuBYGv6/e979m8CbBLzbzv/vQlMDtRjhBKgAiQON2qUA53M5AVQEIwLfpSz4Nl1lB+Jh+P81KrT+TAS5AtACzQAgg/EDAxOhAZ+axQEwiCkER6AdBL6f3QPHTCkGjwLBA71/jQPxAET8bcdk9l26JwOrZTEF3XldABP31QD+H20Cs3f5AHZXrQKjlrEC508ZACb6tQDFa+0BrRoBAuCZZwB5BOEHKMMg/ZYL0QC/g/kDiJLVAfrYbv1TQaD7ufzrAlaM1QfUlCED48wpBa/AcQT2UD0Em975Aoiy8QPaTm0ASkSpAtxGHQPN39r9pwoi/k1SUwMo3VUGlZ6M/gTMXQYf99UCOC0TARcVtwBdHR8CwiUBBNy8oQJ78TEBIPA5BnuzRQK6ytb8G9wjA",
          "dtype": "f4"
         }
        }
       ],
       "layout": {
        "height": 600,
        "margin": {
         "b": 10,
         "l": 10,
         "r": 20,
         "t": 40
        },
        "scene": {
         "xaxis": {
          "title": {
           "text": "x"
          }
         },
         "yaxis": {
          "title": {
           "text": "y"
          }
         }
        },
        "template": {
         "data": {
          "bar": [
           {
            "error_x": {
             "color": "#2a3f5f"
            },
            "error_y": {
             "color": "#2a3f5f"
            },
            "marker": {
             "line": {
              "color": "#E5ECF6",
              "width": 0.5
             },
             "pattern": {
              "fillmode": "overlay",
              "size": 10,
              "solidity": 0.2
             }
            },
            "type": "bar"
           }
          ],
          "barpolar": [
           {
            "marker": {
             "line": {
              "color": "#E5ECF6",
              "width": 0.5
             },
             "pattern": {
              "fillmode": "overlay",
              "size": 10,
              "solidity": 0.2
             }
            },
            "type": "barpolar"
           }
          ],
          "carpet": [
           {
            "aaxis": {
             "endlinecolor": "#2a3f5f",
             "gridcolor": "white",
             "linecolor": "white",
             "minorgridcolor": "white",
             "startlinecolor": "#2a3f5f"
            },
            "baxis": {
             "endlinecolor": "#2a3f5f",
             "gridcolor": "white",
             "linecolor": "white",
             "minorgridcolor": "white",
             "startlinecolor": "#2a3f5f"
            },
            "type": "carpet"
           }
          ],
          "choropleth": [
           {
            "colorbar": {
             "outlinewidth": 0,
             "ticks": ""
            },
            "type": "choropleth"
           }
          ],
          "contour": [
           {
            "colorbar": {
             "outlinewidth": 0,
             "ticks": ""
            },
            "colorscale": [
             [
              0,
              "#0d0887"
             ],
             [
              0.1111111111111111,
              "#46039f"
             ],
             [
              0.2222222222222222,
              "#7201a8"
             ],
             [
              0.3333333333333333,
              "#9c179e"
             ],
             [
              0.4444444444444444,
              "#bd3786"
             ],
             [
              0.5555555555555556,
              "#d8576b"
             ],
             [
              0.6666666666666666,
              "#ed7953"
             ],
             [
              0.7777777777777778,
              "#fb9f3a"
             ],
             [
              0.8888888888888888,
              "#fdca26"
             ],
             [
              1,
              "#f0f921"
             ]
            ],
            "type": "contour"
           }
          ],
          "contourcarpet": [
           {
            "colorbar": {
             "outlinewidth": 0,
             "ticks": ""
            },
            "type": "contourcarpet"
           }
          ],
          "heatmap": [
           {
            "colorbar": {
             "outlinewidth": 0,
             "ticks": ""
            },
            "colorscale": [
             [
              0,
              "#0d0887"
             ],
             [
              0.1111111111111111,
              "#46039f"
             ],
             [
              0.2222222222222222,
              "#7201a8"
             ],
             [
              0.3333333333333333,
              "#9c179e"
             ],
             [
              0.4444444444444444,
              "#bd3786"
             ],
             [
              0.5555555555555556,
              "#d8576b"
             ],
             [
              0.6666666666666666,
              "#ed7953"
             ],
             [
              0.7777777777777778,
              "#fb9f3a"
             ],
             [
              0.8888888888888888,
              "#fdca26"
             ],
             [
              1,
              "#f0f921"
             ]
            ],
            "type": "heatmap"
           }
          ],
          "histogram": [
           {
            "marker": {
             "pattern": {
              "fillmode": "overlay",
              "size": 10,
              "solidity": 0.2
             }
            },
            "type": "histogram"
           }
          ],
          "histogram2d": [
           {
            "colorbar": {
             "outlinewidth": 0,
             "ticks": ""
            },
            "colorscale": [
             [
              0,
              "#0d0887"
             ],
             [
              0.1111111111111111,
              "#46039f"
             ],
             [
              0.2222222222222222,
              "#7201a8"
             ],
             [
              0.3333333333333333,
              "#9c179e"
             ],
             [
              0.4444444444444444,
              "#bd3786"
             ],
             [
              0.5555555555555556,
              "#d8576b"
             ],
             [
              0.6666666666666666,
              "#ed7953"
             ],
             [
              0.7777777777777778,
              "#fb9f3a"
             ],
             [
              0.8888888888888888,
              "#fdca26"
             ],
             [
              1,
              "#f0f921"
             ]
            ],
            "type": "histogram2d"
           }
          ],
          "histogram2dcontour": [
           {
            "colorbar": {
             "outlinewidth": 0,
             "ticks": ""
            },
            "colorscale": [
             [
              0,
              "#0d0887"
             ],
             [
              0.1111111111111111,
              "#46039f"
             ],
             [
              0.2222222222222222,
              "#7201a8"
             ],
             [
              0.3333333333333333,
              "#9c179e"
             ],
             [
              0.4444444444444444,
              "#bd3786"
             ],
             [
              0.5555555555555556,
              "#d8576b"
             ],
             [
              0.6666666666666666,
              "#ed7953"
             ],
             [
              0.7777777777777778,
              "#fb9f3a"
             ],
             [
              0.8888888888888888,
              "#fdca26"
             ],
             [
              1,
              "#f0f921"
             ]
            ],
            "type": "histogram2dcontour"
           }
          ],
          "mesh3d": [
           {
            "colorbar": {
             "outlinewidth": 0,
             "ticks": ""
            },
            "type": "mesh3d"
           }
          ],
          "parcoords": [
           {
            "line": {
             "colorbar": {
              "outlinewidth": 0,
              "ticks": ""
             }
            },
            "type": "parcoords"
           }
          ],
          "pie": [
           {
            "automargin": true,
            "type": "pie"
           }
          ],
          "scatter": [
           {
            "fillpattern": {
             "fillmode": "overlay",
             "size": 10,
             "solidity": 0.2
            },
            "type": "scatter"
           }
          ],
          "scatter3d": [
           {
            "line": {
             "colorbar": {
              "outlinewidth": 0,
              "ticks": ""
             }
            },
            "marker": {
             "colorbar": {
              "outlinewidth": 0,
              "ticks": ""
             }
            },
            "type": "scatter3d"
           }
          ],
          "scattercarpet": [
           {
            "marker": {
             "colorbar": {
              "outlinewidth": 0,
              "ticks": ""
             }
            },
            "type": "scattercarpet"
           }
          ],
          "scattergeo": [
           {
            "marker": {
             "colorbar": {
              "outlinewidth": 0,
              "ticks": ""
             }
            },
            "type": "scattergeo"
           }
          ],
          "scattergl": [
           {
            "marker": {
             "colorbar": {
              "outlinewidth": 0,
              "ticks": ""
             }
            },
            "type": "scattergl"
           }
          ],
          "scattermap": [
           {
            "marker": {
             "colorbar": {
              "outlinewidth": 0,
              "ticks": ""
             }
            },
            "type": "scattermap"
           }
          ],
          "scattermapbox": [
           {
            "marker": {
             "colorbar": {
              "outlinewidth": 0,
              "ticks": ""
             }
            },
            "type": "scattermapbox"
           }
          ],
          "scatterpolar": [
           {
            "marker": {
             "colorbar": {
              "outlinewidth": 0,
              "ticks": ""
             }
            },
            "type": "scatterpolar"
           }
          ],
          "scatterpolargl": [
           {
            "marker": {
             "colorbar": {
              "outlinewidth": 0,
              "ticks": ""
             }
            },
            "type": "scatterpolargl"
           }
          ],
          "scatterternary": [
           {
            "marker": {
             "colorbar": {
              "outlinewidth": 0,
              "ticks": ""
             }
            },
            "type": "scatterternary"
           }
          ],
          "surface": [
           {
            "colorbar": {
             "outlinewidth": 0,
             "ticks": ""
            },
            "colorscale": [
             [
              0,
              "#0d0887"
             ],
             [
              0.1111111111111111,
              "#46039f"
             ],
             [
              0.2222222222222222,
              "#7201a8"
             ],
             [
              0.3333333333333333,
              "#9c179e"
             ],
             [
              0.4444444444444444,
              "#bd3786"
             ],
             [
              0.5555555555555556,
              "#d8576b"
             ],
             [
              0.6666666666666666,
              "#ed7953"
             ],
             [
              0.7777777777777778,
              "#fb9f3a"
             ],
             [
              0.8888888888888888,
              "#fdca26"
             ],
             [
              1,
              "#f0f921"
             ]
            ],
            "type": "surface"
           }
          ],
          "table": [
           {
            "cells": {
             "fill": {
              "color": "#EBF0F8"
             },
             "line": {
              "color": "white"
             }
            },
            "header": {
             "fill": {
              "color": "#C8D4E3"
             },
             "line": {
              "color": "white"
             }
            },
            "type": "table"
           }
          ]
         },
         "layout": {
          "annotationdefaults": {
           "arrowcolor": "#2a3f5f",
           "arrowhead": 0,
           "arrowwidth": 1
          },
          "autotypenumbers": "strict",
          "coloraxis": {
           "colorbar": {
            "outlinewidth": 0,
            "ticks": ""
           }
          },
          "colorscale": {
           "diverging": [
            [
             0,
             "#8e0152"
            ],
            [
             0.1,
             "#c51b7d"
            ],
            [
             0.2,
             "#de77ae"
            ],
            [
             0.3,
             "#f1b6da"
            ],
            [
             0.4,
             "#fde0ef"
            ],
            [
             0.5,
             "#f7f7f7"
            ],
            [
             0.6,
             "#e6f5d0"
            ],
            [
             0.7,
             "#b8e186"
            ],
            [
             0.8,
             "#7fbc41"
            ],
            [
             0.9,
             "#4d9221"
            ],
            [
             1,
             "#276419"
            ]
           ],
           "sequential": [
            [
             0,
             "#0d0887"
            ],
            [
             0.1111111111111111,
             "#46039f"
            ],
            [
             0.2222222222222222,
             "#7201a8"
            ],
            [
             0.3333333333333333,
             "#9c179e"
            ],
            [
             0.4444444444444444,
             "#bd3786"
            ],
            [
             0.5555555555555556,
             "#d8576b"
            ],
            [
             0.6666666666666666,
             "#ed7953"
            ],
            [
             0.7777777777777778,
             "#fb9f3a"
            ],
            [
             0.8888888888888888,
             "#fdca26"
            ],
            [
             1,
             "#f0f921"
            ]
           ],
           "sequentialminus": [
            [
             0,
             "#0d0887"
            ],
            [
             0.1111111111111111,
             "#46039f"
            ],
            [
             0.2222222222222222,
             "#7201a8"
            ],
            [
             0.3333333333333333,
             "#9c179e"
            ],
            [
             0.4444444444444444,
             "#bd3786"
            ],
            [
             0.5555555555555556,
             "#d8576b"
            ],
            [
             0.6666666666666666,
             "#ed7953"
            ],
            [
             0.7777777777777778,
             "#fb9f3a"
            ],
            [
             0.8888888888888888,
             "#fdca26"
            ],
            [
             1,
             "#f0f921"
            ]
           ]
          },
          "colorway": [
           "#636efa",
           "#EF553B",
           "#00cc96",
           "#ab63fa",
           "#FFA15A",
           "#19d3f3",
           "#FF6692",
           "#B6E880",
           "#FF97FF",
           "#FECB52"
          ],
          "font": {
           "color": "#2a3f5f"
          },
          "geo": {
           "bgcolor": "white",
           "lakecolor": "white",
           "landcolor": "#E5ECF6",
           "showlakes": true,
           "showland": true,
           "subunitcolor": "white"
          },
          "hoverlabel": {
           "align": "left"
          },
          "hovermode": "closest",
          "mapbox": {
           "style": "light"
          },
          "paper_bgcolor": "white",
          "plot_bgcolor": "#E5ECF6",
          "polar": {
           "angularaxis": {
            "gridcolor": "white",
            "linecolor": "white",
            "ticks": ""
           },
           "bgcolor": "#E5ECF6",
           "radialaxis": {
            "gridcolor": "white",
            "linecolor": "white",
            "ticks": ""
           }
          },
          "scene": {
           "xaxis": {
            "backgroundcolor": "#E5ECF6",
            "gridcolor": "white",
            "gridwidth": 2,
            "linecolor": "white",
            "showbackground": true,
            "ticks": "",
            "zerolinecolor": "white"
           },
           "yaxis": {
            "backgroundcolor": "#E5ECF6",
            "gridcolor": "white",
            "gridwidth": 2,
            "linecolor": "white",
            "showbackground": true,
            "ticks": "",
            "zerolinecolor": "white"
           },
           "zaxis": {
            "backgroundcolor": "#E5ECF6",
            "gridcolor": "white",
            "gridwidth": 2,
            "linecolor": "white",
            "showbackground": true,
            "ticks": "",
            "zerolinecolor": "white"
           }
          },
          "shapedefaults": {
           "line": {
            "color": "#2a3f5f"
           }
          },
          "ternary": {
           "aaxis": {
            "gridcolor": "white",
            "linecolor": "white",
            "ticks": ""
           },
           "baxis": {
            "gridcolor": "white",
            "linecolor": "white",
            "ticks": ""
           },
           "bgcolor": "#E5ECF6",
           "caxis": {
            "gridcolor": "white",
            "linecolor": "white",
            "ticks": ""
           }
          },
          "title": {
           "x": 0.05
          },
          "xaxis": {
           "automargin": true,
           "gridcolor": "white",
           "linecolor": "white",
           "ticks": "",
           "title": {
            "standoff": 15
           },
           "zerolinecolor": "white",
           "zerolinewidth": 2
          },
          "yaxis": {
           "automargin": true,
           "gridcolor": "white",
           "linecolor": "white",
           "ticks": "",
           "title": {
            "standoff": 15
           },
           "zerolinecolor": "white",
           "zerolinewidth": 2
          }
         }
        },
        "title": {
         "text": "2D FAISS Vector Store Visualization"
        },
        "width": 800
       }
      }
     },
     "metadata": {},
     "output_type": "display_data"
    }
   ],
   "source": [
    "# We humans find it easier to visalize things in 2D!\n",
    "# Reduce the dimensionality of the vectors to 2D using t-SNE\n",
    "# (t-distributed stochastic neighbor embedding)\n",
    "\n",
    "tsne = TSNE(n_components=2, random_state=42)\n",
    "reduced_vectors = tsne.fit_transform(vectors)\n",
    "\n",
    "# Create the 2D scatter plot\n",
    "fig = go.Figure(data=[go.Scatter(\n",
    "    x=reduced_vectors[:, 0],\n",
    "    y=reduced_vectors[:, 1],\n",
    "    mode='markers',\n",
    "    marker=dict(size=5, color=colors, opacity=0.8),\n",
    "    text=[f\"Type: {t}<br>Text: {d[:100]}...\" for t, d in zip(doc_types, documents)],\n",
    "    hoverinfo='text'\n",
    ")])\n",
    "\n",
    "fig.update_layout(\n",
    "    title='2D FAISS Vector Store Visualization',\n",
    "    scene=dict(xaxis_title='x',yaxis_title='y'),\n",
    "    width=800,\n",
    "    height=600,\n",
    "    margin=dict(r=20, b=10, l=10, t=40)\n",
    ")\n",
    "\n",
    "fig.show()"
   ]
  },
  {
   "cell_type": "code",
   "execution_count": 13,
   "metadata": {},
   "outputs": [
    {
     "data": {
      "application/vnd.plotly.v1+json": {
       "config": {
        "plotlyServerURL": "https://plot.ly"
       },
       "data": [
        {
         "hoverinfo": "text",
         "marker": {
          "color": [
           "blue",
           "blue",
           "blue",
           "blue",
           "blue",
           "blue",
           "blue",
           "blue",
           "blue",
           "blue",
           "blue",
           "blue",
           "blue",
           "blue",
           "blue",
           "blue",
           "blue",
           "blue",
           "blue",
           "blue",
           "blue",
           "blue",
           "blue",
           "blue",
           "blue",
           "blue",
           "blue",
           "blue",
           "blue",
           "blue",
           "blue",
           "blue",
           "blue",
           "blue",
           "blue",
           "blue",
           "blue",
           "blue",
           "blue",
           "blue",
           "blue",
           "blue",
           "blue",
           "blue",
           "blue",
           "blue",
           "blue",
           "blue",
           "blue",
           "blue",
           "blue",
           "blue",
           "blue",
           "blue",
           "blue",
           "blue",
           "blue",
           "blue",
           "blue",
           "blue",
           "blue",
           "blue",
           "blue",
           "blue",
           "blue",
           "blue",
           "blue",
           "blue",
           "blue",
           "blue",
           "blue",
           "blue",
           "blue",
           "blue",
           "blue",
           "blue",
           "green",
           "green",
           "green",
           "green",
           "green",
           "green",
           "green",
           "green",
           "green",
           "green",
           "green",
           "green",
           "green",
           "green",
           "green",
           "green",
           "green",
           "green",
           "green",
           "green",
           "green",
           "green",
           "green",
           "green",
           "green",
           "green",
           "green",
           "green",
           "green",
           "green",
           "green",
           "green",
           "green",
           "green",
           "green",
           "green",
           "green",
           "green",
           "green",
           "green",
           "green",
           "green",
           "green",
           "green",
           "green",
           "green",
           "green",
           "green",
           "green",
           "green",
           "green",
           "green",
           "green",
           "green",
           "green",
           "green",
           "green",
           "green",
           "green",
           "green",
           "green",
           "green",
           "green",
           "green",
           "green",
           "green",
           "green",
           "green",
           "green",
           "green",
           "green",
           "green",
           "green",
           "green",
           "green",
           "green",
           "green",
           "green",
           "green",
           "green",
           "green",
           "green",
           "green",
           "green",
           "green",
           "green",
           "green",
           "green",
           "green",
           "green",
           "green",
           "green",
           "green",
           "green",
           "green",
           "green",
           "green",
           "green",
           "green",
           "green",
           "green",
           "green",
           "green",
           "green",
           "green",
           "green",
           "green"
          ],
          "opacity": 0.8,
          "size": 5
         },
         "mode": "markers",
         "text": [
          "Type: products<br>Text: # Product Summary\n\n# Rellm: AI-Powered Enterprise Reinsurance Solution\n\n## Summary...",
          "Type: products<br>Text: Rellm is an innovative enterprise reinsurance product developed by Insurellm, designed to transform ...",
          "Type: products<br>Text: ## Features...",
          "Type: products<br>Text: ### AI-Driven Analytics\nRellm utilizes cutting-edge AI algorithms to provide predictive insights int...",
          "Type: products<br>Text: ### Seamless Integrations\nRellm's architecture is designed for effortless integration with existing ...",
          "Type: products<br>Text: ### Risk Assessment Module\nThe comprehensive risk assessment module within Rellm allows insurers to ...",
          "Type: products<br>Text: ### Customizable Dashboard\nRellm features a customizable dashboard that presents key metrics and per...",
          "Type: products<br>Text: ### Regulatory Compliance Tools\nRellm includes built-in compliance tracking features to help organiz...",
          "Type: products<br>Text: ### Client and Broker Portals\nRellm offers dedicated portals for both clients and brokers, facilitat...",
          "Type: products<br>Text: ## Pricing\n\nInsurellm offers flexible pricing plans for Rellm to cater to various business needs:...",
          "Type: products<br>Text: - **Basic Plan**: $5,000/month\n  - Includes access to core features and standard integrations.\n  \n- ...",
          "Type: products<br>Text: Join the growing number of organizations leveraging Rellm to enhance their reinsurance processes whi...",
          "Type: products<br>Text: ## 2025-2026 Roadmap...",
          "Type: products<br>Text: At Insurellm, we are committed to the continuous improvement of Rellm. Our roadmap for 2025-2026 inc...",
          "Type: products<br>Text: - **Q3 2025**: \n  - Launch of the Rellm Mobile App for on-the-go insights and management.\n  - Introd...",
          "Type: products<br>Text: - **Q1 2026**: \n  - Deployment of advanced machine learning models for even more accurate risk predi...",
          "Type: products<br>Text: - **Q3 2026**: \n  - Release of a community platform for Rellm users to exchange insights, tips, and ...",
          "Type: products<br>Text: Experience the future of reinsurance with Rellm, where innovation meets reliability. Let Insurellm h...",
          "Type: products<br>Text: # Product Summary\n\n# Markellm\n\n## Summary...",
          "Type: products<br>Text: Markellm is an innovative two-sided marketplace designed to seamlessly connect consumers with insura...",
          "Type: products<br>Text: ## Features...",
          "Type: products<br>Text: - **AI-Powered Matching**: Markellm utilizes sophisticated AI algorithms to match consumers with the...",
          "Type: products<br>Text: - **User-Friendly Interface**: Designed with user experience in mind, Markellm features an intuitive...",
          "Type: products<br>Text: - **Real-Time Quotes**: Consumers can receive real-time quotes from different insurance companies, e...",
          "Type: products<br>Text: - **Customized Recommendations**: Based on user profiles and preferences, Markellm provides personal...",
          "Type: products<br>Text: - **Secure Transactions**: Markellm prioritizes security, employing robust encryption methods to ens...",
          "Type: products<br>Text: - **Customer Support**: Our dedicated support team is always available to assist both consumers and ...",
          "Type: products<br>Text: - **Data Insights**: Insurers gain access to valuable data insights through Markellm's analytics das...",
          "Type: products<br>Text: ## Pricing...",
          "Type: products<br>Text: At Markellm, we believe in transparency and flexibility. Our pricing structure is designed to accomm...",
          "Type: products<br>Text: ### For Consumers:\n- **Free Membership**: Access to the marketplace at no cost, allowing unlimited b...",
          "Type: products<br>Text: ### For Insurance Companies:\n- **Basic Listing Fee**: $199/month for a featured listing on the platf...",
          "Type: products<br>Text: ## 2025-2026 Roadmap...",
          "Type: products<br>Text: ### Q1 2025\n- Launch a mobile app version of Markellm, making it even easier for consumers and insur...",
          "Type: products<br>Text: ### Q2 2025\n- Expand the marketplace to include additional insurance products, such as life and heal...",
          "Type: products<br>Text: ### Q3 2025\n- Initiate a comprehensive marketing campaign targeting both consumers and insurers to i...",
          "Type: products<br>Text: ### Q4 2026\n- Implement machine learning enhancements to our AI algorithm, further increasing the pr...",
          "Type: products<br>Text: Markellm is committed to improving the insurance experience for both consumers and providers. By lev...",
          "Type: products<br>Text: # Product Summary\n\n# Homellm...",
          "Type: products<br>Text: ## Summary\nHomellm is an innovative home insurance product developed by Insurellm that leverages adv...",
          "Type: products<br>Text: ## Features\n### 1. AI-Powered Risk Assessment\nHomellm utilizes sophisticated AI algorithms to analyz...",
          "Type: products<br>Text: ### 2. Dynamic Pricing Model\nWith Homellm's innovative dynamic pricing model, insurance providers ca...",
          "Type: products<br>Text: ### 3. Instant Claim Processing\nThe AI-driven claims management system in Homellm automates the enti...",
          "Type: products<br>Text: ### 4. Predictive Maintenance Alerts\nHomellm incorporates predictive analytics to advise homeowners ...",
          "Type: products<br>Text: ### 5. Multi-Channel Integration\nHomellm seamlessly integrates into existing insurance platforms, pr...",
          "Type: products<br>Text: ### 6. Customer Portal\nA user-friendly online portal and mobile application enables customers to man...",
          "Type: products<br>Text: ## Pricing\nAt Insurellm, we believe in providing value without compromising quality. The pricing for...",
          "Type: products<br>Text: - **Basic Tier:** Starting at $5,000/month for small insurers with basic integration features.\n- **S...",
          "Type: products<br>Text: All tiers include a comprehensive training program and ongoing updates to ensure optimal performance...",
          "Type: products<br>Text: ## Roadmap\nThe development roadmap for Homellm includes the following key milestones:...",
          "Type: products<br>Text: - **Q1 2024:** Launch of Homellm version 1.0, featuring core functionalities and integrations.\n- **Q...",
          "Type: products<br>Text: With Homellm, Insurellm is committed to transforming the landscape of home insurance, ensuring both ...",
          "Type: products<br>Text: # Product Summary\n\n# Carllm\n\n## Summary...",
          "Type: products<br>Text: Carllm is an innovative auto insurance product developed by Insurellm, designed to streamline the wa...",
          "Type: products<br>Text: ## Features...",
          "Type: products<br>Text: - **AI-Powered Risk Assessment**: Carllm leverages artificial intelligence to analyze driver behavio...",
          "Type: products<br>Text: - **Instant Quoting**: With Carllm, insurance companies can offer near-instant quotes to customers, ...",
          "Type: products<br>Text: - **Customizable Coverage Plans**: Carllm allows insurers to create flexible and tailored insurance ...",
          "Type: products<br>Text: - **Fraud Detection**: The product incorporates advanced analytics to identify potentially fraudulen...",
          "Type: products<br>Text: - **Customer Insights Dashboard**: Carllm provides insurers with a powerful dashboard that offers de...",
          "Type: products<br>Text: - **Mobile Integration**: Carllm is designed to work seamlessly with mobile applications, providing ...",
          "Type: products<br>Text: - **Automated Customer Support**: Leveraging AI chatbots, Carllm offers 24/7 customer support, helpi...",
          "Type: products<br>Text: ## Pricing...",
          "Type: products<br>Text: Carllm is offered under a subscription-based pricing model tailored to meet the needs of insurance c...",
          "Type: products<br>Text: - **Basic Tier**: $1,000/month\n  - Ideal for small insurance firms.\n  - Access to core features and ...",
          "Type: products<br>Text: - **Professional Tier**: $2,500/month\n  - For medium-sized companies.\n  - All Basic Tier features pl...",
          "Type: products<br>Text: - **Enterprise Tier**: $5,000/month\n  - Customized solutions for large insurance firms.\n  - Comprehe...",
          "Type: products<br>Text: Contact our sales team for a personalized quote and discover how Carllm can transform your auto insu...",
          "Type: products<br>Text: ## 2025-2026 Roadmap...",
          "Type: products<br>Text: In our commitment to continuous improvement and innovation, Insurellm has outlined the following roa...",
          "Type: products<br>Text: ### Q1 2025: Launch Feature Enhancements\n- **Expanded data integrations** for better risk assessment...",
          "Type: products<br>Text: ### Q2 2025: Customer Experience Improvements\n- Launch of a new **mobile app** for end-users.\n- Intr...",
          "Type: products<br>Text: ### Q3 2025: Global Expansion\n- Begin pilot programs for international insurance markets.\n- Collabor...",
          "Type: products<br>Text: ### Q4 2025: AI and Machine Learning Upgrades\n- Implement next-gen machine learning models for predi...",
          "Type: products<br>Text: ### 2026: Scaling and Partnerships\n- Increase partnerships with automakers for integrated insurance ...",
          "Type: products<br>Text: Carllm is not just an auto insurance product; it is a transformative tool for the insurance industry...",
          "Type: employees<br>Text: # HR Record\n\n# Alex Chen...",
          "Type: employees<br>Text: ## Summary\n- **Date of Birth:** March 15, 1990  \n- **Job Title:** Backend Software Engineer  \n- **Lo...",
          "Type: employees<br>Text: ## Insurellm Career Progression\n- **April 2020:** Joined Insurellm as a Junior Backend Developer. Fo...",
          "Type: employees<br>Text: ## Annual Performance History\n- **2020:**  \n  - Completed onboarding successfully.  \n  - Met expecta...",
          "Type: employees<br>Text: - **2021:**  \n  - Achieved a 95% success rate in project delivery timelines.  \n  - Awarded \"Rising S...",
          "Type: employees<br>Text: - **2022:**  \n  - Exceeded goals by optimizing existing backend code, improving system performance b...",
          "Type: employees<br>Text: - **2023:**  \n  - Led a major overhaul of the API internal architecture, enhancing security protocol...",
          "Type: employees<br>Text: ## Compensation History\n- **2020:** Base Salary: $80,000  \n- **2021:** Base Salary Increase to $90,0...",
          "Type: employees<br>Text: ## Other HR Notes\n- Participates regularly in Insurellm's Diversity & Inclusion initiatives, champio...",
          "Type: employees<br>Text: Alex Chen continues to be a vital asset at Insurellm, contributing significantly to innovative backe...",
          "Type: employees<br>Text: # HR Record\n\n# Oliver Spencer...",
          "Type: employees<br>Text: ## Summary\n- **Date of Birth**: May 14, 1990  \n- **Job Title**: Backend Software Engineer  \n- **Loca...",
          "Type: employees<br>Text: ## Insurellm Career Progression\n- **March 2018**: Joined Insurellm as a Backend Developer I, focusin...",
          "Type: employees<br>Text: ## Annual Performance History\n- **2018**: **3/5** - Adaptable team player but still learning to take...",
          "Type: employees<br>Text: ## Compensation History\n- **March 2018**: Initial salary of $80,000.\n- **July 2019**: Salary increas...",
          "Type: employees<br>Text: ## Other HR Notes\n- Oliver enjoys a strong rapport with team members and is known for organizing reg...",
          "Type: employees<br>Text: # HR Record\n\n# Emily Tran...",
          "Type: employees<br>Text: ## Summary\n- **Date of Birth:** March 18, 1991  \n- **Job Title:** Digital Marketing Specialist  \n- *...",
          "Type: employees<br>Text: ---...",
          "Type: employees<br>Text: ## Insurellm Career Progression\n- **February 2020 - Present**: Digital Marketing Specialist  \n   - E...",
          "Type: employees<br>Text: - **June 2018 - January 2020**: Marketing Coordinator  \n  - Assisted in the development and executio...",
          "Type: employees<br>Text: - **January 2017 - May 2018**: Marketing Intern  \n  - Supported the Marketing team by collaborating ...",
          "Type: employees<br>Text: ---...",
          "Type: employees<br>Text: ## Annual Performance History\n- **2023**:  \n  - Performance Rating: Exceeds Expectations  \n  - Key A...",
          "Type: employees<br>Text: - **2022**:  \n  - Performance Rating: Meets Expectations  \n  - Key Achievements: Enhanced Insurellm'...",
          "Type: employees<br>Text: - **2021**:  \n  - Performance Rating: Meets Expectations  \n  - Key Achievements: Contributed to the ...",
          "Type: employees<br>Text: ---...",
          "Type: employees<br>Text: ## Compensation History\n- **2023**:  \n  - Base Salary: $75,000  \n  - Bonus: $10,000 for exceeding an...",
          "Type: employees<br>Text: - **2022**:  \n  - Base Salary: $70,000  \n  - Bonus: $5,000 for achieving marketing milestones....",
          "Type: employees<br>Text: - **2021**:  \n  - Base Salary: $67,500  \n  - No bonus due to reallocation of marketing funds during ...",
          "Type: employees<br>Text: ---...",
          "Type: employees<br>Text: ## Other HR Notes\n- **Training Completed**:  \n  - Advanced Digital Marketing Workshop (2021)  \n  - A...",
          "Type: employees<br>Text: - **Professional Development Goals**:  \n  - Emily Tran aims to become a Marketing Manager within the...",
          "Type: employees<br>Text: - **Hobbies**:  \n  - Emily enjoys photography and regularly contributes to Insurellm's social media ...",
          "Type: employees<br>Text: ---...",
          "Type: employees<br>Text: Emily Tran continues to be a valuable asset to Insurellm, driving innovative marketing strategies th...",
          "Type: employees<br>Text: # HR Record\n\n# Jordan Blake...",
          "Type: employees<br>Text: ## Summary\n- **Date of Birth:** March 15, 1993  \n- **Job Title:** Sales Development Representative (...",
          "Type: employees<br>Text: ## Insurellm Career Progression\n- **2021-06:** Joined Insurellm as an Entry-Level SDR  \n- **2022-02:...",
          "Type: employees<br>Text: ## Annual Performance History\n- **2021:** First year at Insurellm; achieved 90% of monthly targets. ...",
          "Type: employees<br>Text: ## Compensation History\n- **2021-06:** Starting Salary: $50,000  \n- **2022-04:** Merit-based increas...",
          "Type: employees<br>Text: ## Other HR Notes\n- Jordan has shown an interest in continuing education, actively participating in ...",
          "Type: employees<br>Text: # Avery Lancaster...",
          "Type: employees<br>Text: ## Summary\n- **Date of Birth**: March 15, 1985  \n- **Job Title**: Co-Founder & Chief Executive Offic...",
          "Type: employees<br>Text: ## Insurellm Career Progression\n- **2015 - Present**: Co-Founder & CEO  \n  Avery Lancaster co-founde...",
          "Type: employees<br>Text: - **2013 - 2015**: Senior Product Manager at Innovate Insurance Solutions  \n  Before launching Insur...",
          "Type: employees<br>Text: - **2010 - 2013**: Business Analyst at Edge Analytics  \n  Prior to joining Innovate, Avery worked as...",
          "Type: employees<br>Text: ## Annual Performance History\n- **2015**: **Exceeds Expectations**  \n  Avery’s leadership during Ins...",
          "Type: employees<br>Text: - **2016**: **Meets Expectations**  \n  Growth continued, though challenges arose in operational effi...",
          "Type: employees<br>Text: - **2017**: **Developing**  \n  Market competition intensified, and monthly sales metrics were below ...",
          "Type: employees<br>Text: - **2018**: **Exceeds Expectations**  \n  Under Avery’s pivoted vision, Insurellm launched two new su...",
          "Type: employees<br>Text: - **2019**: **Meets Expectations**  \n  Steady growth, however, some team tensions led to a minor dro...",
          "Type: employees<br>Text: - **2020**: **Below Expectations**  \n  The COVID-19 pandemic posed unforeseen operational difficulti...",
          "Type: employees<br>Text: - **2021**: **Exceptional**  \n  Avery's decisive transition to remote work and rapid adoption of dig...",
          "Type: employees<br>Text: - **2022**: **Satisfactory**  \n  Avery focused on rebuilding team dynamics and addressing employee c...",
          "Type: employees<br>Text: - **2023**: **Exceeds Expectations**  \n  Market leadership was regained with innovative approaches t...",
          "Type: employees<br>Text: ## Compensation History\n- **2015**: $150,000 base salary + Significant equity stake  \n- **2016**: $1...",
          "Type: employees<br>Text: ## Other HR Notes\n- **Professional Development**: Avery has actively participated in leadership trai...",
          "Type: employees<br>Text: Avery Lancaster has demonstrated resilience and adaptability throughout her career at Insurellm, pos...",
          "Type: employees<br>Text: # HR Record\n\n# Maxine Thompson...",
          "Type: employees<br>Text: ## Summary\n- **Date of Birth:** January 15, 1991  \n- **Job Title:** Data Engineer  \n- **Location:** ...",
          "Type: employees<br>Text: ## Insurellm Career Progression\n- **January 2017 - October 2018**: **Junior Data Engineer**  \n  * Ma...",
          "Type: employees<br>Text: ## Annual Performance History\n- **2017**: *Meets Expectations*  \n  Maxine showed potential in her ro...",
          "Type: employees<br>Text: - **2018**: *Exceeds Expectations*  \n  Maxine improved significantly, becoming a reliable team membe...",
          "Type: employees<br>Text: - **2019**: *Needs Improvement*  \n  During this year, difficult personal circumstances affected Maxi...",
          "Type: employees<br>Text: - **2020**: *Meets Expectations*  \n  Maxine focused on regaining her footing and excelling with tech...",
          "Type: employees<br>Text: - **2021**: *Exceeds Expectations*  \n  Maxine spearheaded the transition to a new data warehousing s...",
          "Type: employees<br>Text: - **2022**: *Outstanding*  \n  Maxine continued her upward trajectory, successfully implementing mach...",
          "Type: employees<br>Text: - **2023**: *Exceeds Expectations*  \n  Maxine has taken on mentoring responsibilities and is leading...",
          "Type: employees<br>Text: ## Compensation History\n- **2017**: $70,000 (Junior Data Engineer)  \n- **2018**: $75,000 (Junior Dat...",
          "Type: employees<br>Text: ## Other HR Notes\n- Maxine participated in various company-sponsored trainings related to big data t...",
          "Type: employees<br>Text: # HR Record\n\n# Alex Thomson...",
          "Type: employees<br>Text: ## Summary\n- **Date of Birth:** March 15, 1995  \n- **Job Title:** Sales Development Representative (...",
          "Type: employees<br>Text: ## Insurellm Career Progression\n- **November 2022** - Joined Insurellm as a Sales Development Repres...",
          "Type: employees<br>Text: ## Annual Performance History  \n- **2022** - Rated as \"Exceeds Expectations.\" Alex Thomson achieved ...",
          "Type: employees<br>Text: ### Highlights:\n- Consistently maintained a 30-minute response time to inbound leads.\n- Successfully...",
          "Type: employees<br>Text: ## Compensation History\n- **2022**: Base Salary - $55,000 | Bonus - $5,000  \n- **2023**: Base Salary...",
          "Type: employees<br>Text: ## Other HR Notes\n- Alex Thomson is an active member of the Diversity and Inclusion committee at Ins...",
          "Type: employees<br>Text: --- \n**Comment:** Alex Thomson is considered a cornerstone of Insurellm’s sales team and has a brigh...",
          "Type: employees<br>Text: # HR Record\n\n# Alex Harper...",
          "Type: employees<br>Text: ## Summary\n- **Date of Birth**: March 15, 1993  \n- **Job Title**: Sales Development Representative (...",
          "Type: employees<br>Text: ## Insurellm Career Progression\n- **July 2021**: Joined Insurellm as a Sales Development Representat...",
          "Type: employees<br>Text: ## Annual Performance History  \n- **2021**:  \n  - **Performance Rating**: 4.5/5  \n  - **Key Achievem...",
          "Type: employees<br>Text: - **2022**:  \n  - **Performance Rating**: 4.8/5  \n  - **Key Achievements**: Awarded \"SDR of the Year...",
          "Type: employees<br>Text: - **2023**:  \n  - **Performance Rating**: 4.7/5  \n  - **Key Achievements**: Played a key role in the...",
          "Type: employees<br>Text: ## Compensation History  \n- **2021**:  \n  - **Base Salary**: $55,000  \n  - **Bonus**: $5,500 (10% of...",
          "Type: employees<br>Text: - **2022**:  \n  - **Base Salary**: $65,000 (Promotion to Senior SDR)  \n  - **Bonus**: $13,000 (20% o...",
          "Type: employees<br>Text: - **2023**:  \n  - **Base Salary**: $75,000  \n  - **Bonus**: $15,000 (20% of base)...",
          "Type: employees<br>Text: ## Other HR Notes  \n- **Training Completed**:  \n  - CRM Analytics & Data Management Workshop (2021) ...",
          "Type: employees<br>Text: - **Awards**:  \n  - Insurellm \"SDR of the Year\" Award (2022)  \n  - Monthly MVP Recognition (3 times ...",
          "Type: employees<br>Text: - **Interests**:  \n  - In Alex's spare time, they enjoy participating in community volunteer program...",
          "Type: employees<br>Text: - **Feedback from HR**:  \n  - Alex Harper is noted for their work ethic, positive attitude, and will...",
          "Type: employees<br>Text: # HR Record\n\n# Jordan K. Bishop...",
          "Type: employees<br>Text: ## Summary\n- **Date of Birth:** March 15, 1990\n- **Job Title:** Frontend Software Engineer\n- **Locat...",
          "Type: employees<br>Text: ## Insurellm Career Progression\n- **June 2018:** Hired as a Frontend Software Engineer.\n- **August 2...",
          "Type: employees<br>Text: ## Annual Performance History\n- **2019:** Exceeds Expectations - Continuously delivered high-quality...",
          "Type: employees<br>Text: ## Compensation History\n- **June 2018:** Starting Salary - $85,000\n- **June 2019:** Salary Increase ...",
          "Type: employees<br>Text: ## Other HR Notes\n- Jordan K. Bishop has been an integral part of club initiatives, including the In...",
          "Type: employees<br>Text: Jordan K. Bishop is a valued member of the Insurellm family, exhibiting a commitment to growth and d...",
          "Type: employees<br>Text: # HR Record\n\n# Emily Carter...",
          "Type: employees<br>Text: ## Summary\n- **Date of Birth:** August 12, 1990  \n- **Job Title:** Account Executive  \n- **Location:...",
          "Type: employees<br>Text: ## Insurellm Career Progression\n- **2021-Present:** Account Executive  \n  - Responsibilities include...",
          "Type: employees<br>Text: - **2017-2019:** Marketing Intern  \n  - Assisted with market research and campaign development for s...",
          "Type: employees<br>Text: ## Annual Performance History\n| Year | Performance Rating | Key Highlights |\n|------|---------------...",
          "Type: employees<br>Text: ## Compensation History\n| Year | Base Salary | Bonus         | Total Compensation |\n|------|--------...",
          "Type: employees<br>Text: ## Other HR Notes\n- **Professional Development:** Emily is currently enrolled in a leadership traini...",
          "Type: employees<br>Text: Emily Carter exemplifies the kind of talent that drives Insurellm's success and is an invaluable ass..."
         ],
         "type": "scatter3d",
         "x": {
          "bdata": "t0NYwogJMsJ2v2rBp25fwgvgJ8K2mF3CgwVZwr9+TcLsuCrCNbi3wQGULcCf/RvCkI4SQpqxscEphDRBYbfiQQmaMkFNnA/CJNECwjYsbECfHcTBxr/9QGYblsBSbe7BCdiNwKsHy0CU2KLBQ/Q9wc0xK8EEFUjBbGmDv+w6TMHgBCxCkw3oQKtI9UEBz25BkjAuQk4sOMB3BSjCaoIlwsROM8J1rf7BruJqwnHxOcLip0zCV9JywqjO3sEELnbBjlUjQEgHNcIKTxbCxuAUwsFdKsJEvQzC/nmwwbaoKMIWnQnC57aswWoZFMKJjtzBjpjfwYLSNMLNMSvBucFoweNyNMHSewU/a4sTwVBCxcHIhT9CNsmUwZkw3EFrO2xBe1vlQZEbIULqkw1CfhbewXUd2r8hBz7BeCsmP4f3GULpKx5CFxUNQvWTMUI0qEVC5VQwwWDD6MEvkIJBtIynwQFd9sBso/JBPy5rQuuZTcFNgqhAkOEyP01MJsLr7DnBvtSJwXxAG8EfohPC7tqOQemHpkEsWQdCCt/uwUm2I0L5D2NCT1KBQtk1AcLr9+xB9pqaQJmkjMHtx8PBYuv2wRtyW0DloSS+jIFoQd0IQEEuajpCe25PPvMwEcJhEhK/RqWiwXMTp8EhAqzB/agFQKH6p0DrT+bA0E5lwOdCY0FBIK1AxRuXQF5EY0Bw/OfAO6ZpQl0ZHMGwiwbCfoavQKmmlsHo0hrA7nDHQVjmnkHohflBciGQQWmdyUBZELRB5QQ3QVSWO0JrS5JAZ11CQA/QIsANZo1Ay2OTQfhlVkK78gpCScJvPm5bWECWJwVBAiwKQWsxmUD15edBlZQCQvGBKEI5PVdCMrZVQpb6MUJEyAxCK7viQem3J8Go08JAsIRyQV+8ecGfNh1AWYjbQSgwPEK4VT9BHdegQWLveEFRbBjBvjNLQXmUEME+fBFClYQuQog9AMGk5QXC",
          "dtype": "f4"
         },
         "y": {
          "bdata": "gG12waywm8AWDzLCCwphwPe5Lj8l+NE/VzGOQOEGMEHwKldB5JRtwbYQksIi4QxBWAq1wcburz5yFA/C4FAVwivzCsKZRc+/2QZwwhzR8MGNJ0fCOnUiwh5YJMLOY0XC0asYwlYRy8G20ErC7krywbt1WsJP3RHCAd5mwoJ+WcInFpPBxbIJwh2aJMI08NbBnO0uwi/dxcEEkk/CqpWrweWpBMI0IRHC2I74wXhfHsKJ9cbBBUacwZVZs8E37IzCYVeFwis7EsJ0nPfB7D1dwVYVcsKIR7LB+oYgwiP0/sENExvCHsfuweY1S8K35ALCyE2hwQwhAcK7dVrCrpSbwRDjhcIaYIrCof2dwrAJ1MFf77LB2ceTwAadQ8I59zPCgCUBwkMEJcIqIunBm7Jrwc9eHkIQPIRChYEVPdjZ5kFYdFJBrqiAPjRMy0ACkwlB0DuDQU9bHUGCGyBC1M10QoXl1UAFlCxCTS6UQSveYEH2By1CziGRQpHNSsEfUSvAanQewQd1dsGoPLLBe78RQqCnMkEfEYNBiwGFwa3YVMBaqxbB7ZX3v8TsFMGYYkFCRlgaQo/JBUIaXpvBD1CeQWL7VUJDYnFCVZd6P5qKi0GXVVlB3jWpQRJEa0F7KG9C6VleQcNswkHMagpC0Yi2Qb6R0EESRMpBtduGQd2zCEJToORB3o4eQkZ+I0If1OVBS30RQdfu3EHNWYNBAq87Qh2Rf0KGHYnAt6OjQYt7HEGA7SlBeD1FQSgfhkCPOULAvhFgQIzwskGBCybBiuwGQi5JjEIjpeM/Z9rtQVx1vkHKVghBRflMQZ1lfj8ObP1Bp1+BQpJ8pMCRmtBB+kBMQV0gqEGIBXbAsw7DQHMboMDgSiJC0iRoP468vkFsU4tBPJVbQm4jkELEPgdBp7gOQnNtvkEHo65BMACxQdGKKkLOxl1CNrUMwRTErsEq/wxCVhuXQJpbAkKeb+VB",
          "dtype": "f4"
         },
         "z": {
          "bdata": "7gPWwcsXocEoKhZC51rLwQ9UA8I5NzLBlCofwvNnucHVqh7CQWJdwYMVNcDjxavB3obYQRTgv8E1xDBBQWEKQftIsEE9qVLBoc8KQUtEu8EL0g1C3SfsweCHqcEthiPC8UkEwlgIHsKIr/rBLzLHwV2DkEEIjS3BiFZGwMtxuMCfnZVBFAK3wLT9kMDQ4fHA4zX5P3uXc8EWgVtBb4LrwOkWUMEOKPjAg5QkwVCgl7/WVANAwac4wEqWvMDAgg7BFG7vwa1wkkFUegxBcjoyvoQSgEDvbynCvSPxQRt29sHLtSrC76IgwuwJuMFDwObBcib6wRddQMJdg5BBa8Qywuo1msGyv3bB4Y9mwUr6WcJDTeBBMs8Bwo1/FEE9ZK++9q9nwcB9S0Hmtn8+7qI8wmdtDcJXTR7BtBxfQRwG/UGM1wJC3TnsQcIshkGdQ9jBYhaDP2//+0DblCrCf0jhv7ynS0ESAtNBgN28wTDeJMHli7rBYIWkwGJ8IUKVzbO9uDxsQZYhHkFD2j1CEMA2QQKnpUGvEKxBNwkVQn5B5sHZn23BrFCWwcE8QkJpG7fA9H2wPxd/IcEKI0JCZ4XBv5PvDsI50XVBVr/Av7T8XUHCyFvBxQgIwSH0BULrP+vAYx61QQTNo0FPIORBqR3aQYibO0JrzVJCbhoMQnzyRkKGv3JCi0IPQsuZR0JUuQhCSjIQwigMOkEoiKNBIxdGwhckM0HGF+RBoEoxQu+YJUIwElVC8XxWQsxcJ0KMTClCRZABQouWFMLKRhhCguI7wnjlM0F1cSvBhUXHQWrrnkHM9c/B7WWswZH2xsFlnQ3CHMv8QDclIb8BkYRB2f2+QNO/QEGul/vBU2D2wMV3h8GhLrXA60cSP4EwxsEV+ALChXEUws2nYz+925xAKmIUQjc1v8EIU9PAS+Jlwdkg3sG61qxAA4slQW+nn0E7Mo9BUakewv5beMBuqF1A",
          "dtype": "f4"
         }
        }
       ],
       "layout": {
        "height": 700,
        "margin": {
         "b": 10,
         "l": 10,
         "r": 20,
         "t": 40
        },
        "scene": {
         "xaxis": {
          "title": {
           "text": "x"
          }
         },
         "yaxis": {
          "title": {
           "text": "y"
          }
         },
         "zaxis": {
          "title": {
           "text": "z"
          }
         }
        },
        "template": {
         "data": {
          "bar": [
           {
            "error_x": {
             "color": "#2a3f5f"
            },
            "error_y": {
             "color": "#2a3f5f"
            },
            "marker": {
             "line": {
              "color": "#E5ECF6",
              "width": 0.5
             },
             "pattern": {
              "fillmode": "overlay",
              "size": 10,
              "solidity": 0.2
             }
            },
            "type": "bar"
           }
          ],
          "barpolar": [
           {
            "marker": {
             "line": {
              "color": "#E5ECF6",
              "width": 0.5
             },
             "pattern": {
              "fillmode": "overlay",
              "size": 10,
              "solidity": 0.2
             }
            },
            "type": "barpolar"
           }
          ],
          "carpet": [
           {
            "aaxis": {
             "endlinecolor": "#2a3f5f",
             "gridcolor": "white",
             "linecolor": "white",
             "minorgridcolor": "white",
             "startlinecolor": "#2a3f5f"
            },
            "baxis": {
             "endlinecolor": "#2a3f5f",
             "gridcolor": "white",
             "linecolor": "white",
             "minorgridcolor": "white",
             "startlinecolor": "#2a3f5f"
            },
            "type": "carpet"
           }
          ],
          "choropleth": [
           {
            "colorbar": {
             "outlinewidth": 0,
             "ticks": ""
            },
            "type": "choropleth"
           }
          ],
          "contour": [
           {
            "colorbar": {
             "outlinewidth": 0,
             "ticks": ""
            },
            "colorscale": [
             [
              0,
              "#0d0887"
             ],
             [
              0.1111111111111111,
              "#46039f"
             ],
             [
              0.2222222222222222,
              "#7201a8"
             ],
             [
              0.3333333333333333,
              "#9c179e"
             ],
             [
              0.4444444444444444,
              "#bd3786"
             ],
             [
              0.5555555555555556,
              "#d8576b"
             ],
             [
              0.6666666666666666,
              "#ed7953"
             ],
             [
              0.7777777777777778,
              "#fb9f3a"
             ],
             [
              0.8888888888888888,
              "#fdca26"
             ],
             [
              1,
              "#f0f921"
             ]
            ],
            "type": "contour"
           }
          ],
          "contourcarpet": [
           {
            "colorbar": {
             "outlinewidth": 0,
             "ticks": ""
            },
            "type": "contourcarpet"
           }
          ],
          "heatmap": [
           {
            "colorbar": {
             "outlinewidth": 0,
             "ticks": ""
            },
            "colorscale": [
             [
              0,
              "#0d0887"
             ],
             [
              0.1111111111111111,
              "#46039f"
             ],
             [
              0.2222222222222222,
              "#7201a8"
             ],
             [
              0.3333333333333333,
              "#9c179e"
             ],
             [
              0.4444444444444444,
              "#bd3786"
             ],
             [
              0.5555555555555556,
              "#d8576b"
             ],
             [
              0.6666666666666666,
              "#ed7953"
             ],
             [
              0.7777777777777778,
              "#fb9f3a"
             ],
             [
              0.8888888888888888,
              "#fdca26"
             ],
             [
              1,
              "#f0f921"
             ]
            ],
            "type": "heatmap"
           }
          ],
          "histogram": [
           {
            "marker": {
             "pattern": {
              "fillmode": "overlay",
              "size": 10,
              "solidity": 0.2
             }
            },
            "type": "histogram"
           }
          ],
          "histogram2d": [
           {
            "colorbar": {
             "outlinewidth": 0,
             "ticks": ""
            },
            "colorscale": [
             [
              0,
              "#0d0887"
             ],
             [
              0.1111111111111111,
              "#46039f"
             ],
             [
              0.2222222222222222,
              "#7201a8"
             ],
             [
              0.3333333333333333,
              "#9c179e"
             ],
             [
              0.4444444444444444,
              "#bd3786"
             ],
             [
              0.5555555555555556,
              "#d8576b"
             ],
             [
              0.6666666666666666,
              "#ed7953"
             ],
             [
              0.7777777777777778,
              "#fb9f3a"
             ],
             [
              0.8888888888888888,
              "#fdca26"
             ],
             [
              1,
              "#f0f921"
             ]
            ],
            "type": "histogram2d"
           }
          ],
          "histogram2dcontour": [
           {
            "colorbar": {
             "outlinewidth": 0,
             "ticks": ""
            },
            "colorscale": [
             [
              0,
              "#0d0887"
             ],
             [
              0.1111111111111111,
              "#46039f"
             ],
             [
              0.2222222222222222,
              "#7201a8"
             ],
             [
              0.3333333333333333,
              "#9c179e"
             ],
             [
              0.4444444444444444,
              "#bd3786"
             ],
             [
              0.5555555555555556,
              "#d8576b"
             ],
             [
              0.6666666666666666,
              "#ed7953"
             ],
             [
              0.7777777777777778,
              "#fb9f3a"
             ],
             [
              0.8888888888888888,
              "#fdca26"
             ],
             [
              1,
              "#f0f921"
             ]
            ],
            "type": "histogram2dcontour"
           }
          ],
          "mesh3d": [
           {
            "colorbar": {
             "outlinewidth": 0,
             "ticks": ""
            },
            "type": "mesh3d"
           }
          ],
          "parcoords": [
           {
            "line": {
             "colorbar": {
              "outlinewidth": 0,
              "ticks": ""
             }
            },
            "type": "parcoords"
           }
          ],
          "pie": [
           {
            "automargin": true,
            "type": "pie"
           }
          ],
          "scatter": [
           {
            "fillpattern": {
             "fillmode": "overlay",
             "size": 10,
             "solidity": 0.2
            },
            "type": "scatter"
           }
          ],
          "scatter3d": [
           {
            "line": {
             "colorbar": {
              "outlinewidth": 0,
              "ticks": ""
             }
            },
            "marker": {
             "colorbar": {
              "outlinewidth": 0,
              "ticks": ""
             }
            },
            "type": "scatter3d"
           }
          ],
          "scattercarpet": [
           {
            "marker": {
             "colorbar": {
              "outlinewidth": 0,
              "ticks": ""
             }
            },
            "type": "scattercarpet"
           }
          ],
          "scattergeo": [
           {
            "marker": {
             "colorbar": {
              "outlinewidth": 0,
              "ticks": ""
             }
            },
            "type": "scattergeo"
           }
          ],
          "scattergl": [
           {
            "marker": {
             "colorbar": {
              "outlinewidth": 0,
              "ticks": ""
             }
            },
            "type": "scattergl"
           }
          ],
          "scattermap": [
           {
            "marker": {
             "colorbar": {
              "outlinewidth": 0,
              "ticks": ""
             }
            },
            "type": "scattermap"
           }
          ],
          "scattermapbox": [
           {
            "marker": {
             "colorbar": {
              "outlinewidth": 0,
              "ticks": ""
             }
            },
            "type": "scattermapbox"
           }
          ],
          "scatterpolar": [
           {
            "marker": {
             "colorbar": {
              "outlinewidth": 0,
              "ticks": ""
             }
            },
            "type": "scatterpolar"
           }
          ],
          "scatterpolargl": [
           {
            "marker": {
             "colorbar": {
              "outlinewidth": 0,
              "ticks": ""
             }
            },
            "type": "scatterpolargl"
           }
          ],
          "scatterternary": [
           {
            "marker": {
             "colorbar": {
              "outlinewidth": 0,
              "ticks": ""
             }
            },
            "type": "scatterternary"
           }
          ],
          "surface": [
           {
            "colorbar": {
             "outlinewidth": 0,
             "ticks": ""
            },
            "colorscale": [
             [
              0,
              "#0d0887"
             ],
             [
              0.1111111111111111,
              "#46039f"
             ],
             [
              0.2222222222222222,
              "#7201a8"
             ],
             [
              0.3333333333333333,
              "#9c179e"
             ],
             [
              0.4444444444444444,
              "#bd3786"
             ],
             [
              0.5555555555555556,
              "#d8576b"
             ],
             [
              0.6666666666666666,
              "#ed7953"
             ],
             [
              0.7777777777777778,
              "#fb9f3a"
             ],
             [
              0.8888888888888888,
              "#fdca26"
             ],
             [
              1,
              "#f0f921"
             ]
            ],
            "type": "surface"
           }
          ],
          "table": [
           {
            "cells": {
             "fill": {
              "color": "#EBF0F8"
             },
             "line": {
              "color": "white"
             }
            },
            "header": {
             "fill": {
              "color": "#C8D4E3"
             },
             "line": {
              "color": "white"
             }
            },
            "type": "table"
           }
          ]
         },
         "layout": {
          "annotationdefaults": {
           "arrowcolor": "#2a3f5f",
           "arrowhead": 0,
           "arrowwidth": 1
          },
          "autotypenumbers": "strict",
          "coloraxis": {
           "colorbar": {
            "outlinewidth": 0,
            "ticks": ""
           }
          },
          "colorscale": {
           "diverging": [
            [
             0,
             "#8e0152"
            ],
            [
             0.1,
             "#c51b7d"
            ],
            [
             0.2,
             "#de77ae"
            ],
            [
             0.3,
             "#f1b6da"
            ],
            [
             0.4,
             "#fde0ef"
            ],
            [
             0.5,
             "#f7f7f7"
            ],
            [
             0.6,
             "#e6f5d0"
            ],
            [
             0.7,
             "#b8e186"
            ],
            [
             0.8,
             "#7fbc41"
            ],
            [
             0.9,
             "#4d9221"
            ],
            [
             1,
             "#276419"
            ]
           ],
           "sequential": [
            [
             0,
             "#0d0887"
            ],
            [
             0.1111111111111111,
             "#46039f"
            ],
            [
             0.2222222222222222,
             "#7201a8"
            ],
            [
             0.3333333333333333,
             "#9c179e"
            ],
            [
             0.4444444444444444,
             "#bd3786"
            ],
            [
             0.5555555555555556,
             "#d8576b"
            ],
            [
             0.6666666666666666,
             "#ed7953"
            ],
            [
             0.7777777777777778,
             "#fb9f3a"
            ],
            [
             0.8888888888888888,
             "#fdca26"
            ],
            [
             1,
             "#f0f921"
            ]
           ],
           "sequentialminus": [
            [
             0,
             "#0d0887"
            ],
            [
             0.1111111111111111,
             "#46039f"
            ],
            [
             0.2222222222222222,
             "#7201a8"
            ],
            [
             0.3333333333333333,
             "#9c179e"
            ],
            [
             0.4444444444444444,
             "#bd3786"
            ],
            [
             0.5555555555555556,
             "#d8576b"
            ],
            [
             0.6666666666666666,
             "#ed7953"
            ],
            [
             0.7777777777777778,
             "#fb9f3a"
            ],
            [
             0.8888888888888888,
             "#fdca26"
            ],
            [
             1,
             "#f0f921"
            ]
           ]
          },
          "colorway": [
           "#636efa",
           "#EF553B",
           "#00cc96",
           "#ab63fa",
           "#FFA15A",
           "#19d3f3",
           "#FF6692",
           "#B6E880",
           "#FF97FF",
           "#FECB52"
          ],
          "font": {
           "color": "#2a3f5f"
          },
          "geo": {
           "bgcolor": "white",
           "lakecolor": "white",
           "landcolor": "#E5ECF6",
           "showlakes": true,
           "showland": true,
           "subunitcolor": "white"
          },
          "hoverlabel": {
           "align": "left"
          },
          "hovermode": "closest",
          "mapbox": {
           "style": "light"
          },
          "paper_bgcolor": "white",
          "plot_bgcolor": "#E5ECF6",
          "polar": {
           "angularaxis": {
            "gridcolor": "white",
            "linecolor": "white",
            "ticks": ""
           },
           "bgcolor": "#E5ECF6",
           "radialaxis": {
            "gridcolor": "white",
            "linecolor": "white",
            "ticks": ""
           }
          },
          "scene": {
           "xaxis": {
            "backgroundcolor": "#E5ECF6",
            "gridcolor": "white",
            "gridwidth": 2,
            "linecolor": "white",
            "showbackground": true,
            "ticks": "",
            "zerolinecolor": "white"
           },
           "yaxis": {
            "backgroundcolor": "#E5ECF6",
            "gridcolor": "white",
            "gridwidth": 2,
            "linecolor": "white",
            "showbackground": true,
            "ticks": "",
            "zerolinecolor": "white"
           },
           "zaxis": {
            "backgroundcolor": "#E5ECF6",
            "gridcolor": "white",
            "gridwidth": 2,
            "linecolor": "white",
            "showbackground": true,
            "ticks": "",
            "zerolinecolor": "white"
           }
          },
          "shapedefaults": {
           "line": {
            "color": "#2a3f5f"
           }
          },
          "ternary": {
           "aaxis": {
            "gridcolor": "white",
            "linecolor": "white",
            "ticks": ""
           },
           "baxis": {
            "gridcolor": "white",
            "linecolor": "white",
            "ticks": ""
           },
           "bgcolor": "#E5ECF6",
           "caxis": {
            "gridcolor": "white",
            "linecolor": "white",
            "ticks": ""
           }
          },
          "title": {
           "x": 0.05
          },
          "xaxis": {
           "automargin": true,
           "gridcolor": "white",
           "linecolor": "white",
           "ticks": "",
           "title": {
            "standoff": 15
           },
           "zerolinecolor": "white",
           "zerolinewidth": 2
          },
          "yaxis": {
           "automargin": true,
           "gridcolor": "white",
           "linecolor": "white",
           "ticks": "",
           "title": {
            "standoff": 15
           },
           "zerolinecolor": "white",
           "zerolinewidth": 2
          }
         }
        },
        "title": {
         "text": "3D FAISS Vector Store Visualization"
        },
        "width": 900
       }
      }
     },
     "metadata": {},
     "output_type": "display_data"
    }
   ],
   "source": [
    "\n",
    "tsne = TSNE(n_components=3, random_state=42)\n",
    "reduced_vectors = tsne.fit_transform(vectors)\n",
    "\n",
    "# Create the 3D scatter plot\n",
    "fig = go.Figure(data=[go.Scatter3d(\n",
    "    x=reduced_vectors[:, 0],\n",
    "    y=reduced_vectors[:, 1],\n",
    "    z=reduced_vectors[:, 2],\n",
    "    mode='markers',\n",
    "    marker=dict(size=5, color=colors, opacity=0.8),\n",
    "    text=[f\"Type: {t}<br>Text: {d[:100]}...\" for t, d in zip(doc_types, documents)],\n",
    "    hoverinfo='text'\n",
    ")])\n",
    "\n",
    "fig.update_layout(\n",
    "    title='3D FAISS Vector Store Visualization',\n",
    "    scene=dict(xaxis_title='x', yaxis_title='y', zaxis_title='z'),\n",
    "    width=900,\n",
    "    height=700,\n",
    "    margin=dict(r=20, b=10, l=10, t=40)\n",
    ")\n",
    "\n",
    "fig.show()"
   ]
  },
  {
   "cell_type": "code",
   "execution_count": 14,
   "metadata": {},
   "outputs": [
    {
     "name": "stderr",
     "output_type": "stream",
     "text": [
      "/var/folders/by/lv03mqt55bz4y140kcm2bhfr0000gn/T/ipykernel_4163/2911260559.py:2: LangChainDeprecationWarning:\n",
      "\n",
      "Please see the migration guide at: https://python.langchain.com/docs/versions/migrating_memory/\n",
      "\n"
     ]
    }
   ],
   "source": [
    "llm = ChatOpenAI(temperature =0.7,model_name= MODEL)\n",
    "memory = ConversationBufferMemory(memory_key='chat_history', return_messages=True)\n",
    "retriever = vectorstore.as_retriever()\n",
    "conversation_chain = ConversationalRetrievalChain.from_llm(llm = llm, retriever=retriever,memory=memory)\n"
   ]
  },
  {
   "cell_type": "code",
   "execution_count": 15,
   "metadata": {},
   "outputs": [
    {
     "name": "stdout",
     "output_type": "stream",
     "text": [
      "Insurellm is a forward-thinking company focused on transforming the insurance and reinsurance markets through innovation and reliability. It offers solutions like Rellm for reinsurance and Homellm for home insurance, helping providers and customers navigate these complexities more effectively. With a commitment to continuous improvement, Insurellm aims to enhance the overall landscape of insurance.\n"
     ]
    }
   ],
   "source": [
    "query = \"Can you describe Insurellm in a few sentences\"\n",
    "result = conversation_chain.invoke({\"question\":query})\n",
    "print(result[\"answer\"])"
   ]
  },
  {
   "cell_type": "code",
   "execution_count": 16,
   "metadata": {},
   "outputs": [],
   "source": [
    "memory = ConversationBufferMemory(memory_key='chat_history', return_messages=True)\n",
    "conversation_chain = ConversationalRetrievalChain.from_llm(llm=llm, retriever=retriever, memory=memory)"
   ]
  },
  {
   "cell_type": "code",
   "execution_count": 17,
   "metadata": {},
   "outputs": [],
   "source": [
    "def chat(message, history):\n",
    "    result = conversation_chain.invoke({\"question\": message})\n",
    "    return result[\"answer\"]"
   ]
  },
  {
   "cell_type": "code",
   "execution_count": 18,
   "metadata": {},
   "outputs": [
    {
     "name": "stderr",
     "output_type": "stream",
     "text": [
      "/Users/dummy/Downloads/Langchain Projects/1-QnA Chatbot/venv/lib/python3.10/site-packages/gradio/components/chatbot.py:248: UserWarning:\n",
      "\n",
      "The 'tuples' format for chatbot messages is deprecated and will be removed in a future version of Gradio. Please set type='messages' instead, which uses openai-style 'role' and 'content' keys.\n",
      "\n"
     ]
    },
    {
     "name": "stdout",
     "output_type": "stream",
     "text": [
      "* Running on local URL:  http://127.0.0.1:7860\n",
      "\n",
      "To create a public link, set `share=True` in `launch()`.\n"
     ]
    },
    {
     "data": {
      "text/html": [
       "<div><iframe src=\"http://127.0.0.1:7860/\" width=\"100%\" height=\"500\" allow=\"autoplay; camera; microphone; clipboard-read; clipboard-write;\" frameborder=\"0\" allowfullscreen></iframe></div>"
      ],
      "text/plain": [
       "<IPython.core.display.HTML object>"
      ]
     },
     "metadata": {},
     "output_type": "display_data"
    }
   ],
   "source": [
    "view = gr.ChatInterface(chat).launch()"
   ]
  },
  {
   "cell_type": "code",
   "execution_count": null,
   "metadata": {},
   "outputs": [],
   "source": []
  }
 ],
 "metadata": {
  "kernelspec": {
   "display_name": "Python 3",
   "language": "python",
   "name": "python3"
  },
  "language_info": {
   "codemirror_mode": {
    "name": "ipython",
    "version": 3
   },
   "file_extension": ".py",
   "mimetype": "text/x-python",
   "name": "python",
   "nbconvert_exporter": "python",
   "pygments_lexer": "ipython3",
   "version": "3.10.0"
  }
 },
 "nbformat": 4,
 "nbformat_minor": 2
}
